{
  "nbformat": 4,
  "nbformat_minor": 0,
  "metadata": {
    "colab": {
      "provenance": [],
      "authorship_tag": "ABX9TyO969jkBxdwgo3v+xMoUDbK",
      "include_colab_link": true
    },
    "kernelspec": {
      "name": "python3",
      "display_name": "Python 3"
    },
    "language_info": {
      "name": "python"
    }
  },
  "cells": [
    {
      "cell_type": "markdown",
      "metadata": {
        "id": "view-in-github",
        "colab_type": "text"
      },
      "source": [
        "<a href=\"https://colab.research.google.com/github/Dhanasree-Rajamani/Data-Mining/blob/main/Data%20Mining%20Assignment%205/LSH.ipynb\" target=\"_parent\"><img src=\"https://colab.research.google.com/assets/colab-badge.svg\" alt=\"Open In Colab\"/></a>"
      ]
    },
    {
      "cell_type": "markdown",
      "source": [
        "## **Locality Sensitive Function**"
      ],
      "metadata": {
        "id": "PaDBrktstgRF"
      }
    },
    {
      "cell_type": "markdown",
      "source": [
        "Function to generate Shingles"
      ],
      "metadata": {
        "id": "9iAnM4tHt0Gj"
      }
    },
    {
      "cell_type": "code",
      "source": [
        "def gen_shingles(text: str, k: int):\n",
        "  shingles = []\n",
        "\n",
        "  for i in range(len(text) - k + 1):\n",
        "    shingle = text[i:i + k]\n",
        "    shingles.append(shingle)\n",
        "\n",
        "  return set(shingles)"
      ],
      "metadata": {
        "id": "6lSNcCzZttNC"
      },
      "execution_count": null,
      "outputs": []
    },
    {
      "cell_type": "code",
      "source": [
        "doc1 = 'My name is Dhanasree'\n",
        "doc2 = 'Her name is sreeDhana'\n",
        "doc3 = 'I study in San Jose state University'\n",
        "k = 2\n",
        "\n",
        "text1 = gen_shingles(doc1, k)\n",
        "text2 = gen_shingles(doc2, k)\n",
        "text3 = gen_shingles(doc3, k)\n",
        "\n",
        "text1, text2, text3 # set is an unordered collection"
      ],
      "metadata": {
        "colab": {
          "base_uri": "https://localhost:8080/"
        },
        "id": "ZUgLDENet3qf",
        "outputId": "323a9cc0-ea13-4e94-d141-ffe4e0bc5894"
      },
      "execution_count": null,
      "outputs": [
        {
          "output_type": "execute_result",
          "data": {
            "text/plain": [
              "({' D',\n",
              "  ' i',\n",
              "  ' n',\n",
              "  'Dh',\n",
              "  'My',\n",
              "  'am',\n",
              "  'an',\n",
              "  'as',\n",
              "  'e ',\n",
              "  'ee',\n",
              "  'ha',\n",
              "  'is',\n",
              "  'me',\n",
              "  'na',\n",
              "  're',\n",
              "  's ',\n",
              "  'sr',\n",
              "  'y '},\n",
              " {' i',\n",
              "  ' n',\n",
              "  ' s',\n",
              "  'Dh',\n",
              "  'He',\n",
              "  'am',\n",
              "  'an',\n",
              "  'e ',\n",
              "  'eD',\n",
              "  'ee',\n",
              "  'er',\n",
              "  'ha',\n",
              "  'is',\n",
              "  'me',\n",
              "  'na',\n",
              "  'r ',\n",
              "  're',\n",
              "  's ',\n",
              "  'sr'},\n",
              " {' J',\n",
              "  ' S',\n",
              "  ' U',\n",
              "  ' i',\n",
              "  ' s',\n",
              "  'I ',\n",
              "  'Jo',\n",
              "  'Sa',\n",
              "  'Un',\n",
              "  'an',\n",
              "  'at',\n",
              "  'dy',\n",
              "  'e ',\n",
              "  'er',\n",
              "  'in',\n",
              "  'it',\n",
              "  'iv',\n",
              "  'n ',\n",
              "  'ni',\n",
              "  'os',\n",
              "  'rs',\n",
              "  'se',\n",
              "  'si',\n",
              "  'st',\n",
              "  'ta',\n",
              "  'te',\n",
              "  'tu',\n",
              "  'ty',\n",
              "  'ud',\n",
              "  've',\n",
              "  'y '})"
            ]
          },
          "metadata": {},
          "execution_count": 82
        }
      ]
    },
    {
      "cell_type": "markdown",
      "source": [
        "Vocabulary of all the given input docs"
      ],
      "metadata": {
        "id": "JX0umc5Rt7j0"
      }
    },
    {
      "cell_type": "code",
      "source": [
        "vocab = text1.union(text2).union(text3)\n",
        "vocab"
      ],
      "metadata": {
        "colab": {
          "base_uri": "https://localhost:8080/"
        },
        "id": "haz4UUj-t54J",
        "outputId": "dd6fe05a-978b-4ca6-c90d-c35145c8c42c"
      },
      "execution_count": null,
      "outputs": [
        {
          "output_type": "execute_result",
          "data": {
            "text/plain": [
              "{' D',\n",
              " ' J',\n",
              " ' S',\n",
              " ' U',\n",
              " ' i',\n",
              " ' n',\n",
              " ' s',\n",
              " 'Dh',\n",
              " 'He',\n",
              " 'I ',\n",
              " 'Jo',\n",
              " 'My',\n",
              " 'Sa',\n",
              " 'Un',\n",
              " 'am',\n",
              " 'an',\n",
              " 'as',\n",
              " 'at',\n",
              " 'dy',\n",
              " 'e ',\n",
              " 'eD',\n",
              " 'ee',\n",
              " 'er',\n",
              " 'ha',\n",
              " 'in',\n",
              " 'is',\n",
              " 'it',\n",
              " 'iv',\n",
              " 'me',\n",
              " 'n ',\n",
              " 'na',\n",
              " 'ni',\n",
              " 'os',\n",
              " 'r ',\n",
              " 're',\n",
              " 'rs',\n",
              " 's ',\n",
              " 'se',\n",
              " 'si',\n",
              " 'sr',\n",
              " 'st',\n",
              " 'ta',\n",
              " 'te',\n",
              " 'tu',\n",
              " 'ty',\n",
              " 'ud',\n",
              " 've',\n",
              " 'y '}"
            ]
          },
          "metadata": {},
          "execution_count": 83
        }
      ]
    },
    {
      "cell_type": "markdown",
      "source": [
        "Perform One hot encoding on the inputs with vocabulary"
      ],
      "metadata": {
        "id": "XPjrO0RluAHE"
      }
    },
    {
      "cell_type": "code",
      "source": [
        "text1_enc = [1 if s in text1 else 0 for s in vocab]\n",
        "text2_enc = [1 if s in text2 else 0 for s in vocab]\n",
        "text3_enc = [1 if s in text3 else 0 for s in vocab]\n",
        "\n",
        "text1_enc"
      ],
      "metadata": {
        "colab": {
          "base_uri": "https://localhost:8080/"
        },
        "id": "eQMLbP_Bt-hN",
        "outputId": "c96d6bcf-4b60-4bbb-c81a-91303675909e"
      },
      "execution_count": null,
      "outputs": [
        {
          "output_type": "execute_result",
          "data": {
            "text/plain": [
              "[1,\n",
              " 0,\n",
              " 0,\n",
              " 0,\n",
              " 0,\n",
              " 1,\n",
              " 1,\n",
              " 0,\n",
              " 1,\n",
              " 1,\n",
              " 0,\n",
              " 1,\n",
              " 0,\n",
              " 0,\n",
              " 1,\n",
              " 1,\n",
              " 1,\n",
              " 0,\n",
              " 0,\n",
              " 0,\n",
              " 0,\n",
              " 0,\n",
              " 0,\n",
              " 0,\n",
              " 0,\n",
              " 1,\n",
              " 0,\n",
              " 0,\n",
              " 0,\n",
              " 0,\n",
              " 0,\n",
              " 0,\n",
              " 1,\n",
              " 1,\n",
              " 0,\n",
              " 0,\n",
              " 0,\n",
              " 0,\n",
              " 0,\n",
              " 1,\n",
              " 0,\n",
              " 1,\n",
              " 1,\n",
              " 0,\n",
              " 0,\n",
              " 1,\n",
              " 1,\n",
              " 1]"
            ]
          },
          "metadata": {},
          "execution_count": 84
        }
      ]
    },
    {
      "cell_type": "markdown",
      "source": [
        "Min Hashing"
      ],
      "metadata": {
        "id": "2am5Y6xquE3d"
      }
    },
    {
      "cell_type": "code",
      "source": [
        "nums = list(range(1, len(text1_enc) + 1))\n",
        "print(nums)"
      ],
      "metadata": {
        "colab": {
          "base_uri": "https://localhost:8080/"
        },
        "id": "xMOH3ENluDWs",
        "outputId": "25498639-e7a7-46d7-e138-0437b4ef57e2"
      },
      "execution_count": null,
      "outputs": [
        {
          "output_type": "stream",
          "name": "stdout",
          "text": [
            "[1, 2, 3, 4, 5, 6, 7, 8, 9, 10, 11, 12, 13, 14, 15, 16, 17, 18, 19, 20, 21, 22, 23, 24, 25, 26, 27, 28, 29, 30, 31, 32, 33, 34, 35, 36, 37, 38, 39, 40, 41, 42, 43, 44, 45, 46, 47, 48]\n"
          ]
        }
      ]
    },
    {
      "cell_type": "code",
      "source": [
        "import random\n",
        "from random import shuffle\n",
        "\n",
        "shuffle(nums)\n",
        "random_nums = nums\n",
        "random_nums"
      ],
      "metadata": {
        "colab": {
          "base_uri": "https://localhost:8080/"
        },
        "id": "nXUBENx9uHxU",
        "outputId": "dcd4a562-25b3-479b-c424-aa17a9353174"
      },
      "execution_count": null,
      "outputs": [
        {
          "output_type": "execute_result",
          "data": {
            "text/plain": [
              "[3,\n",
              " 7,\n",
              " 33,\n",
              " 24,\n",
              " 35,\n",
              " 2,\n",
              " 29,\n",
              " 45,\n",
              " 5,\n",
              " 41,\n",
              " 26,\n",
              " 10,\n",
              " 11,\n",
              " 21,\n",
              " 4,\n",
              " 8,\n",
              " 48,\n",
              " 25,\n",
              " 6,\n",
              " 43,\n",
              " 34,\n",
              " 1,\n",
              " 17,\n",
              " 44,\n",
              " 9,\n",
              " 18,\n",
              " 16,\n",
              " 32,\n",
              " 38,\n",
              " 27,\n",
              " 28,\n",
              " 37,\n",
              " 20,\n",
              " 40,\n",
              " 15,\n",
              " 31,\n",
              " 22,\n",
              " 39,\n",
              " 19,\n",
              " 42,\n",
              " 12,\n",
              " 13,\n",
              " 14,\n",
              " 47,\n",
              " 46,\n",
              " 30,\n",
              " 23,\n",
              " 36]"
            ]
          },
          "metadata": {},
          "execution_count": 86
        }
      ]
    },
    {
      "cell_type": "code",
      "source": [
        "def create_hash(size):\n",
        "  hash = list(range(1, len(vocab) + 1))\n",
        "  shuffle(hash)\n",
        "  return hash"
      ],
      "metadata": {
        "id": "CAHhZsWeuJii"
      },
      "execution_count": null,
      "outputs": []
    },
    {
      "cell_type": "code",
      "source": [
        "def build_minhash_func(vocab_size: int, nbits: int):\n",
        "    hashes = []\n",
        "    for i in range(nbits):\n",
        "        hashes.append(create_hash(vocab_size))\n",
        "    return hashes\n",
        "\n",
        "# create 20 minhash vectors\n",
        "minhash = build_minhash_func(len(vocab), 20)\n",
        "#minhash"
      ],
      "metadata": {
        "id": "c3ay9x87uM1n"
      },
      "execution_count": null,
      "outputs": []
    },
    {
      "cell_type": "code",
      "source": [
        "def create_sig(onehot_enc: list):\n",
        "    # To create signatures\n",
        "    signature = []\n",
        "    for func in minhash:\n",
        "        for i in range(1, len(vocab)+1):\n",
        "            idx = func.index(i)\n",
        "            if onehot_enc[idx] == 1:\n",
        "                signature.append(idx)\n",
        "                break\n",
        "    return signature"
      ],
      "metadata": {
        "id": "KqB2X-YXuOdS"
      },
      "execution_count": null,
      "outputs": []
    },
    {
      "cell_type": "code",
      "source": [
        "text1_sig = create_sig(text1_enc)\n",
        "text2_sig = create_sig(text2_enc)\n",
        "text3_sig = create_sig(text3_enc)\n",
        "\n",
        "print(text1_sig)\n",
        "print(text2_sig)"
      ],
      "metadata": {
        "colab": {
          "base_uri": "https://localhost:8080/"
        },
        "id": "aQRc371PuQPC",
        "outputId": "ba144db7-bb5f-4b28-8004-60e92760359d"
      },
      "execution_count": null,
      "outputs": [
        {
          "output_type": "stream",
          "name": "stdout",
          "text": [
            "[47, 46, 41, 32, 47, 16, 0, 6, 47, 14, 0, 14, 33, 5, 42, 42, 15, 41, 5, 14]\n",
            "[31, 16, 41, 32, 8, 16, 26, 6, 31, 14, 0, 14, 33, 38, 42, 43, 26, 41, 31, 14]\n"
          ]
        }
      ]
    },
    {
      "cell_type": "markdown",
      "source": [
        "Find Jaccard distance"
      ],
      "metadata": {
        "id": "VQdvHcFxuUr0"
      }
    },
    {
      "cell_type": "code",
      "source": [
        "def jaccard(a, b):\n",
        "  return len(a.intersection(b)) / len(a.union(b))"
      ],
      "metadata": {
        "id": "fvnTVtmhuSco"
      },
      "execution_count": null,
      "outputs": []
    },
    {
      "cell_type": "code",
      "source": [
        "jaccard(text1, text2), jaccard(set(text1_sig), set(text2_sig))"
      ],
      "metadata": {
        "colab": {
          "base_uri": "https://localhost:8080/"
        },
        "id": "dSECUqRBuYIR",
        "outputId": "8f281f97-d872-49aa-9d87-89644ac341ff"
      },
      "execution_count": null,
      "outputs": [
        {
          "output_type": "execute_result",
          "data": {
            "text/plain": [
              "(0.6086956521739131, 0.47058823529411764)"
            ]
          },
          "metadata": {},
          "execution_count": 93
        }
      ]
    },
    {
      "cell_type": "code",
      "source": [
        "jaccard(text1, text3), jaccard(set(text1_sig), set(text3_sig))"
      ],
      "metadata": {
        "colab": {
          "base_uri": "https://localhost:8080/"
        },
        "id": "_RFficcNuZzd",
        "outputId": "b23949a7-116c-4101-efb1-04464014f772"
      },
      "execution_count": null,
      "outputs": [
        {
          "output_type": "execute_result",
          "data": {
            "text/plain": [
              "(0.08888888888888889, 0.0)"
            ]
          },
          "metadata": {},
          "execution_count": 73
        }
      ]
    },
    {
      "cell_type": "code",
      "source": [
        "jaccard(text2, text3), jaccard(set(text2_sig), set(text3_sig))"
      ],
      "metadata": {
        "colab": {
          "base_uri": "https://localhost:8080/"
        },
        "id": "QJ06l01Aub7K",
        "outputId": "b95a6fca-6671-4506-e525-03183d057d2f"
      },
      "execution_count": null,
      "outputs": [
        {
          "output_type": "execute_result",
          "data": {
            "text/plain": [
              "(0.1111111111111111, 0.04)"
            ]
          },
          "metadata": {},
          "execution_count": 74
        }
      ]
    },
    {
      "cell_type": "markdown",
      "source": [
        "Create buckets and fill them with signatures"
      ],
      "metadata": {
        "id": "KFJm64znufAt"
      }
    },
    {
      "cell_type": "code",
      "source": [
        "def fill_buckets(signatures, bands):\n",
        "  n = len(signatures) // bands   #numbers of sig in each bucket\n",
        "  #print(n)\n",
        "  bucket = [] # List of lists\n",
        "  i = 0\n",
        "  while i < len(signatures):\n",
        "    bucket.append(signatures[i: i + n]) #add n sig to buckets\n",
        "    i += n\n",
        "  return bucket"
      ],
      "metadata": {
        "id": "V2LZVV3xudo0"
      },
      "execution_count": null,
      "outputs": []
    },
    {
      "cell_type": "code",
      "source": [
        "band_text1 = fill_buckets(text1_sig, 10)\n",
        "band_text2 = fill_buckets(text2_sig, 10)\n",
        "band_text3 = fill_buckets(text3_sig, 10)\n",
        "\n",
        "band_text1, band_text2, band_text3"
      ],
      "metadata": {
        "colab": {
          "base_uri": "https://localhost:8080/"
        },
        "id": "qHJgna6Euikr",
        "outputId": "e3926334-ddc3-4b27-ce1d-186555f5f39c"
      },
      "execution_count": null,
      "outputs": [
        {
          "output_type": "execute_result",
          "data": {
            "text/plain": [
              "([[16, 42],\n",
              "  [9, 11],\n",
              "  [15, 5],\n",
              "  [32, 14],\n",
              "  [16, 8],\n",
              "  [8, 16],\n",
              "  [8, 16],\n",
              "  [32, 9],\n",
              "  [9, 6],\n",
              "  [5, 42]],\n",
              " [[16, 42],\n",
              "  [25, 11],\n",
              "  [15, 43],\n",
              "  [32, 26],\n",
              "  [16, 31],\n",
              "  [8, 1],\n",
              "  [8, 16],\n",
              "  [32, 45],\n",
              "  [6, 6],\n",
              "  [1, 42]],\n",
              " [[13, 19],\n",
              "  [25, 29],\n",
              "  [3, 19],\n",
              "  [27, 10],\n",
              "  [36, 35],\n",
              "  [23, 19],\n",
              "  [24, 13],\n",
              "  [3, 44],\n",
              "  [34, 3],\n",
              "  [35, 27]])"
            ]
          },
          "metadata": {},
          "execution_count": 76
        }
      ]
    },
    {
      "cell_type": "markdown",
      "source": [
        "Returns Candidate pairs - when similarity found between any given pair of text"
      ],
      "metadata": {
        "id": "j7uGnekJmC1C"
      }
    },
    {
      "cell_type": "code",
      "source": [
        "for text1, text2 in zip(band_text1, band_text2):\n",
        "  if text1 == text2:\n",
        "    print(\"Candidadte Pairs = {},{}\".format(text1, text2))\n",
        "    break"
      ],
      "metadata": {
        "id": "YZ5mVGU4ukWT",
        "colab": {
          "base_uri": "https://localhost:8080/"
        },
        "outputId": "718ee28b-2ffe-474b-ec6f-c2ab4680c09a"
      },
      "execution_count": null,
      "outputs": [
        {
          "output_type": "stream",
          "name": "stdout",
          "text": [
            "Candidadte Pairs = [16, 42],[16, 42]\n"
          ]
        }
      ]
    },
    {
      "cell_type": "code",
      "source": [
        "for text2, text3 in zip(band_text2, band_text3):\n",
        "  if text2 == text3:\n",
        "    print(\"Candidadte Pairs = {},{}\".format(text2, text3))\n",
        "    break"
      ],
      "metadata": {
        "id": "sMTtvZ8Gum8r"
      },
      "execution_count": null,
      "outputs": []
    },
    {
      "cell_type": "code",
      "source": [
        "for text3, text1 in zip(band_text3, band_text1):\n",
        "  if text3 == text1:\n",
        "    print(\"Candidate Pairs = {},{}\".format(text3, text1))\n",
        "    break"
      ],
      "metadata": {
        "id": "SPo8HNt9uoxA"
      },
      "execution_count": null,
      "outputs": []
    }
  ]
}