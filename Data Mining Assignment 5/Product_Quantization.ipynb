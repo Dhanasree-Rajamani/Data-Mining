{
  "nbformat": 4,
  "nbformat_minor": 0,
  "metadata": {
    "colab": {
      "provenance": [],
      "include_colab_link": true
    },
    "kernelspec": {
      "name": "python3",
      "display_name": "Python 3"
    },
    "language_info": {
      "name": "python"
    }
  },
  "cells": [
    {
      "cell_type": "markdown",
      "metadata": {
        "id": "view-in-github",
        "colab_type": "text"
      },
      "source": [
        "<a href=\"https://colab.research.google.com/github/Dhanasree-Rajamani/Data-Mining/blob/main/Data%20Mining%20Assignment%205/Product_Quantization.ipynb\" target=\"_parent\"><img src=\"https://colab.research.google.com/assets/colab-badge.svg\" alt=\"Open In Colab\"/></a>"
      ]
    },
    {
      "cell_type": "markdown",
      "source": [
        "Install and Import Statements"
      ],
      "metadata": {
        "id": "3voNcwO2p03s"
      }
    },
    {
      "cell_type": "code",
      "source": [
        "!apt install libomp-dev\n",
        "!python -m pip install --upgrade faiss faiss-gpu"
      ],
      "metadata": {
        "colab": {
          "base_uri": "https://localhost:8080/"
        },
        "id": "xqYSXIe1RDO-",
        "outputId": "aed87e04-f74b-4d84-9300-fbcbbf38ba77"
      },
      "execution_count": null,
      "outputs": [
        {
          "output_type": "stream",
          "name": "stdout",
          "text": [
            "Reading package lists... Done\n",
            "Building dependency tree       \n",
            "Reading state information... Done\n",
            "libomp-dev is already the newest version (5.0.1-1).\n",
            "The following package was automatically installed and is no longer required:\n",
            "  libnvidia-common-460\n",
            "Use 'apt autoremove' to remove it.\n",
            "0 upgraded, 0 newly installed, 0 to remove and 5 not upgraded.\n",
            "Looking in indexes: https://pypi.org/simple, https://us-python.pkg.dev/colab-wheels/public/simple/\n",
            "Requirement already satisfied: faiss in /usr/local/lib/python3.7/dist-packages (1.5.3)\n",
            "Collecting faiss-gpu\n",
            "  Downloading faiss_gpu-1.7.2-cp37-cp37m-manylinux_2_17_x86_64.manylinux2014_x86_64.whl (85.5 MB)\n",
            "\u001b[K     |████████████████████████████████| 85.5 MB 96 kB/s \n",
            "\u001b[?25hRequirement already satisfied: numpy in /usr/local/lib/python3.7/dist-packages (from faiss) (1.21.6)\n",
            "Installing collected packages: faiss-gpu\n",
            "Successfully installed faiss-gpu-1.7.2\n"
          ]
        }
      ]
    },
    {
      "cell_type": "code",
      "execution_count": null,
      "metadata": {
        "id": "4Rd8SRvQQ3dh"
      },
      "outputs": [],
      "source": [
        "import pickle"
      ]
    },
    {
      "cell_type": "code",
      "source": [
        "import faiss"
      ],
      "metadata": {
        "id": "xf_7YalCIICv"
      },
      "execution_count": null,
      "outputs": []
    },
    {
      "cell_type": "markdown",
      "source": [
        "Load dataset from drive"
      ],
      "metadata": {
        "id": "KLRc3jdYp332"
      }
    },
    {
      "cell_type": "code",
      "source": [
        "from google.colab import drive\n",
        "drive.mount('/content/drive')"
      ],
      "metadata": {
        "colab": {
          "base_uri": "https://localhost:8080/"
        },
        "id": "hg3xbCbwk8b0",
        "outputId": "889c3ab2-973a-425b-e52a-e8f6bff8a47c"
      },
      "execution_count": null,
      "outputs": [
        {
          "output_type": "stream",
          "name": "stdout",
          "text": [
            "Mounted at /content/drive\n"
          ]
        }
      ]
    },
    {
      "cell_type": "code",
      "source": [
        "def load_data():\n",
        "    with open('/content/drive/MyDrive/DataMining_Datasets/movies.pickle', 'rb') as f:\n",
        "        data = pickle.load(f)\n",
        "    return data\n",
        "\n",
        "data = load_data()\n",
        "data"
      ],
      "metadata": {
        "colab": {
          "base_uri": "https://localhost:8080/"
        },
        "id": "6hriFYFCQ35P",
        "outputId": "0c1b53bc-d6d4-4417-8f17-e95812af984c"
      },
      "execution_count": null,
      "outputs": [
        {
          "output_type": "execute_result",
          "data": {
            "text/plain": [
              "{'name': array(['Toy Story (1995)', 'GoldenEye (1995)', 'Four Rooms (1995)', ...,\n",
              "        'Sliding Doors (1998)', 'You So Crazy (1994)',\n",
              "        'Scream of Stone (Schrei aus Stein) (1991)'], dtype=object),\n",
              " 'vector': array([[-0.01780608, -0.14265831,  0.10308606, ...,  0.09659795,\n",
              "         -0.17529577, -0.03061521],\n",
              "        [-0.03357764,  0.16418771,  0.21801303, ...,  0.16502103,\n",
              "         -0.09166156,  0.05047869],\n",
              "        [-0.2761452 , -0.01991325, -0.04969981, ...,  0.0258275 ,\n",
              "         -0.08328608, -0.0152858 ],\n",
              "        ...,\n",
              "        [ 0.05142734, -0.01683608, -0.20441587, ...,  0.00045828,\n",
              "          0.14679626,  0.2462584 ],\n",
              "        [ 0.04491899, -0.02819411, -0.09472758, ..., -0.02152078,\n",
              "          0.16223577,  0.19897607],\n",
              "        [ 0.02531924,  0.03099714,  0.06437534, ..., -0.07260127,\n",
              "          0.0467432 ,  0.07893164]], dtype=float32)}"
            ]
          },
          "metadata": {},
          "execution_count": 10
        }
      ]
    },
    {
      "cell_type": "code",
      "source": [
        "import numpy as np"
      ],
      "metadata": {
        "id": "a8mS7q0gQ2oL"
      },
      "execution_count": null,
      "outputs": []
    },
    {
      "cell_type": "code",
      "source": [
        "np.where(data['name'] == 'Fifth Element, The (1997)')"
      ],
      "metadata": {
        "colab": {
          "base_uri": "https://localhost:8080/"
        },
        "id": "emnc4F-PQWtV",
        "outputId": "519c44f0-9348-4ce8-b1be-83f119e472d6"
      },
      "execution_count": null,
      "outputs": [
        {
          "output_type": "execute_result",
          "data": {
            "text/plain": [
              "(array([249]),)"
            ]
          },
          "metadata": {},
          "execution_count": 25
        }
      ]
    },
    {
      "cell_type": "code",
      "source": [
        "data['vector'][0]"
      ],
      "metadata": {
        "colab": {
          "base_uri": "https://localhost:8080/"
        },
        "id": "iOx25MveQS34",
        "outputId": "d8ab2d93-c7dc-495a-e6f9-9ea9eceee670"
      },
      "execution_count": null,
      "outputs": [
        {
          "output_type": "execute_result",
          "data": {
            "text/plain": [
              "array([-0.01780608, -0.14265831,  0.10308606, -0.41564542,  0.13982998,\n",
              "       -0.16974038,  0.15737218,  0.04518698, -0.10058694, -0.02617188,\n",
              "        0.0406148 , -0.14783277, -0.07933554,  0.20399824, -0.51070064,\n",
              "       -0.30125597, -0.12879208, -0.09246405, -0.3589764 , -0.02050611,\n",
              "        0.12336025,  0.14336675,  0.19412877, -0.08913906, -0.16755173,\n",
              "        0.2030852 , -0.24195394, -0.27702233, -0.37455535,  0.1277788 ,\n",
              "       -0.3171818 , -0.17515987, -0.16746472, -0.04281802,  0.02517505,\n",
              "        0.2907528 , -0.23536316, -0.03609738,  0.33521986,  0.02485491,\n",
              "       -0.30672348, -0.22360437,  0.1108979 ,  0.12440509, -0.14316128,\n",
              "       -0.0903152 , -0.10247427, -0.08632833, -0.05165194,  0.10785805,\n",
              "        0.10544457,  0.35192525, -0.04853973, -0.04199679,  0.5817107 ,\n",
              "        0.02434268,  0.02575092,  0.25519538, -0.0878452 ,  0.10958093,\n",
              "        0.20129448,  0.09659795, -0.17529577, -0.03061521], dtype=float32)"
            ]
          },
          "metadata": {},
          "execution_count": 19
        }
      ]
    },
    {
      "cell_type": "markdown",
      "source": [
        "Implementing Product quantization with faiss:\n",
        "\n",
        "Vector is represented by 8 sub-vectors, Inverted index are created for efficient searching"
      ],
      "metadata": {
        "id": "z0-m5b8gqV4m"
      }
    },
    {
      "cell_type": "code",
      "source": [
        "class IVPQIndex():\n",
        "    def __init__(self, vectors, labels):\n",
        "        self.dimension = vectors.shape[1]\n",
        "        self.vectors = vectors.astype('float32')\n",
        "        self.labels = labels\n",
        "\n",
        "\n",
        "    def build(self, number_of_partition=8, search_in_x_partitions=2, subvector_size=8):\n",
        "        quantizer = faiss.IndexFlatL2(self.dimension)\n",
        "        self.index = faiss.IndexIVFPQ(quantizer, \n",
        "                                      self.dimension, \n",
        "                                      number_of_partition, \n",
        "                                      search_in_x_partitions, \n",
        "                                      subvector_size)\n",
        "        self.index.train(self.vectors)\n",
        "        self.index.add(self.vectors)\n",
        "        \n",
        "    def query(self, vectors, k=10):\n",
        "        distances, indices = self.index.search(vectors, k) \n",
        "        return [self.labels[i] for i in indices[0]]"
      ],
      "metadata": {
        "id": "_RxNP3FLQ-EA"
      },
      "execution_count": null,
      "outputs": []
    },
    {
      "cell_type": "code",
      "source": [
        "index = IVPQIndex(data[\"vector\"], data[\"name\"])\n",
        "index.build()"
      ],
      "metadata": {
        "id": "vUIJMrEpQ_56"
      },
      "execution_count": null,
      "outputs": []
    },
    {
      "cell_type": "markdown",
      "source": [
        "  Give input to search and return result using Product Quantization for finding similar items"
      ],
      "metadata": {
        "id": "cuP24GgvqAjL"
      }
    },
    {
      "cell_type": "code",
      "source": [
        "movie_index = 249\n",
        "movie_vector = data['vector'][movie_index:movie_index+1]\n",
        "print(f\"The most similar movies to {data['name'][movie_index]} are:\")\n",
        "index.query(movie_vector)"
      ],
      "metadata": {
        "id": "NIDyEFcURBil",
        "colab": {
          "base_uri": "https://localhost:8080/"
        },
        "outputId": "cca5c826-b620-41e3-918c-0491d122f4c5"
      },
      "execution_count": null,
      "outputs": [
        {
          "output_type": "stream",
          "name": "stdout",
          "text": [
            "The most similar movies to Fifth Element, The (1997) are:\n"
          ]
        },
        {
          "output_type": "execute_result",
          "data": {
            "text/plain": [
              "['Fifth Element, The (1997)',\n",
              " 'Men in Black (1997)',\n",
              " 'Breakdown (1997)',\n",
              " 'Lost World: Jurassic Park, The (1997)',\n",
              " 'Con Air (1997)',\n",
              " 'Chasing Amy (1997)',\n",
              " 'Private Parts (1997)',\n",
              " 'Austin Powers: International Man of Mystery (1997)',\n",
              " 'Face/Off (1997)',\n",
              " 'Grosse Pointe Blank (1997)']"
            ]
          },
          "metadata": {},
          "execution_count": 33
        }
      ]
    }
  ]
}