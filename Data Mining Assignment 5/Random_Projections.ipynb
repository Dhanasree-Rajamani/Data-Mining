{
  "nbformat": 4,
  "nbformat_minor": 0,
  "metadata": {
    "colab": {
      "provenance": [],
      "authorship_tag": "ABX9TyNkW4QkGw1In9Aw3/6HYPSb",
      "include_colab_link": true
    },
    "kernelspec": {
      "name": "python3",
      "display_name": "Python 3"
    },
    "language_info": {
      "name": "python"
    }
  },
  "cells": [
    {
      "cell_type": "markdown",
      "metadata": {
        "id": "view-in-github",
        "colab_type": "text"
      },
      "source": [
        "<a href=\"https://colab.research.google.com/github/Dhanasree-Rajamani/Data-Mining/blob/main/Data%20Mining%20Assignment%205/Random_Projections.ipynb\" target=\"_parent\"><img src=\"https://colab.research.google.com/assets/colab-badge.svg\" alt=\"Open In Colab\"/></a>"
      ]
    },
    {
      "cell_type": "markdown",
      "source": [
        "## **LSH Random Projections**"
      ],
      "metadata": {
        "id": "9ZnwK71hxzhQ"
      }
    },
    {
      "cell_type": "markdown",
      "source": [
        "Number of Hyperplanes and Binary values to Produce, Vector Dimensions"
      ],
      "metadata": {
        "id": "m9npx7B4wmJk"
      }
    },
    {
      "cell_type": "code",
      "execution_count": null,
      "metadata": {
        "id": "SelSBAQcu2kB"
      },
      "outputs": [],
      "source": [
        "nbits = 3\n",
        "d = 2"
      ]
    },
    {
      "cell_type": "markdown",
      "source": [
        "3 Hyperplanes with 2 dimensions created"
      ],
      "metadata": {
        "id": "HOkVTrngwzo-"
      }
    },
    {
      "cell_type": "code",
      "source": [
        "import numpy as np\n",
        "\n",
        "plane_norms = np.random.rand(nbits, d) - .5\n",
        "plane_norms"
      ],
      "metadata": {
        "colab": {
          "base_uri": "https://localhost:8080/"
        },
        "id": "E12-Nfixu4TX",
        "outputId": "ccdceb31-a475-47c4-a1bb-5f941a9ba961"
      },
      "execution_count": null,
      "outputs": [
        {
          "output_type": "execute_result",
          "data": {
            "text/plain": [
              "array([[-0.26137354, -0.3944215 ],\n",
              "       [ 0.34917003, -0.35894149],\n",
              "       [-0.42060387,  0.2745561 ]])"
            ]
          },
          "metadata": {},
          "execution_count": 14
        }
      ]
    },
    {
      "cell_type": "markdown",
      "source": [
        "Input values"
      ],
      "metadata": {
        "id": "AGuRsMqYw_qS"
      }
    },
    {
      "cell_type": "code",
      "source": [
        "a = np.asarray([3, 1])\n",
        "b = np.asarray([2, 1])\n",
        "c = np.asarray([3, 4])"
      ],
      "metadata": {
        "id": "5FwgUZCavAGT"
      },
      "execution_count": null,
      "outputs": []
    },
    {
      "cell_type": "markdown",
      "source": [
        "Calculate dot product"
      ],
      "metadata": {
        "id": "VXoUAcYzxBzC"
      }
    },
    {
      "cell_type": "code",
      "source": [
        "a_dot = np.dot(a, plane_norms.T)\n",
        "b_dot = np.dot(b, plane_norms.T)\n",
        "c_dot = np.dot(c, plane_norms.T)\n",
        "a_dot"
      ],
      "metadata": {
        "colab": {
          "base_uri": "https://localhost:8080/"
        },
        "id": "QItMlGHYvB5V",
        "outputId": "4864a89c-6e62-4fa3-ee55-dbbdd87d03bf"
      },
      "execution_count": null,
      "outputs": [
        {
          "output_type": "execute_result",
          "data": {
            "text/plain": [
              "array([-1.17854213,  0.6885686 , -0.98725552])"
            ]
          },
          "metadata": {},
          "execution_count": 16
        }
      ]
    },
    {
      "cell_type": "markdown",
      "source": [
        "Separating values in hyperplane \n",
        "\n",
        "positive dot product -> Positive side of hyperplane\n",
        "\n",
        "negative dot product -> Negative side of hyperplane"
      ],
      "metadata": {
        "id": "5TRRZJDwxHtS"
      }
    },
    {
      "cell_type": "code",
      "source": [
        "a_dot = a_dot > 0\n",
        "b_dot = b_dot > 0\n",
        "c_dot = c_dot > 0\n",
        "a_dot"
      ],
      "metadata": {
        "colab": {
          "base_uri": "https://localhost:8080/"
        },
        "id": "Hgj6K_LavDrr",
        "outputId": "721505ec-1e05-436b-e087-3b50523a7352"
      },
      "execution_count": null,
      "outputs": [
        {
          "output_type": "execute_result",
          "data": {
            "text/plain": [
              "array([False,  True, False])"
            ]
          },
          "metadata": {},
          "execution_count": 17
        }
      ]
    },
    {
      "cell_type": "markdown",
      "source": [
        "Convert boolean array to int"
      ],
      "metadata": {
        "id": "4CuSYeFIxZ1b"
      }
    },
    {
      "cell_type": "code",
      "source": [
        "a_dot = a_dot.astype(int)\n",
        "b_dot = b_dot.astype(int)\n",
        "c_dot = c_dot.astype(int)"
      ],
      "metadata": {
        "id": "4W7nvLJUvFrr"
      },
      "execution_count": null,
      "outputs": []
    },
    {
      "cell_type": "code",
      "source": [
        "a_dot"
      ],
      "metadata": {
        "colab": {
          "base_uri": "https://localhost:8080/"
        },
        "id": "gP8eyniKxh1n",
        "outputId": "0787a44c-d310-4d35-ee4d-2568b4e91849"
      },
      "execution_count": null,
      "outputs": [
        {
          "output_type": "execute_result",
          "data": {
            "text/plain": [
              "array([0, 1, 0])"
            ]
          },
          "metadata": {},
          "execution_count": 19
        }
      ]
    },
    {
      "cell_type": "code",
      "source": [
        "b_dot"
      ],
      "metadata": {
        "colab": {
          "base_uri": "https://localhost:8080/"
        },
        "id": "qC3O_LqcvH42",
        "outputId": "fc1044b4-77fc-4d79-ad34-f52e1ef8ffec"
      },
      "execution_count": null,
      "outputs": [
        {
          "output_type": "execute_result",
          "data": {
            "text/plain": [
              "array([0, 1, 0])"
            ]
          },
          "metadata": {},
          "execution_count": 20
        }
      ]
    },
    {
      "cell_type": "code",
      "source": [
        "c_dot"
      ],
      "metadata": {
        "colab": {
          "base_uri": "https://localhost:8080/"
        },
        "id": "-vCRP19JxigY",
        "outputId": "03397186-82fb-4965-d7f5-47540845d08d"
      },
      "execution_count": null,
      "outputs": [
        {
          "output_type": "execute_result",
          "data": {
            "text/plain": [
              "array([0, 0, 0])"
            ]
          },
          "metadata": {},
          "execution_count": 21
        }
      ]
    },
    {
      "cell_type": "markdown",
      "source": [
        "Convert array to string, create bucket and add vector position to bucket\n"
      ],
      "metadata": {
        "id": "nXkY9PDjxnm5"
      }
    },
    {
      "cell_type": "code",
      "source": [
        "vectors = [a_dot, b_dot, c_dot]\n",
        "buckets = {}\n",
        "i = 0\n",
        "\n",
        "for i in range(len(vectors)):\n",
        "    hash_str = ''.join(vectors[i].astype(str))\n",
        "    if hash_str not in buckets.keys():\n",
        "        buckets[hash_str] = []\n",
        "    buckets[hash_str].append(i)"
      ],
      "metadata": {
        "id": "dEBZjPzSvJcs"
      },
      "execution_count": null,
      "outputs": []
    },
    {
      "cell_type": "code",
      "source": [
        "print(buckets)"
      ],
      "metadata": {
        "colab": {
          "base_uri": "https://localhost:8080/"
        },
        "id": "CcU1mzJewgle",
        "outputId": "082dd26d-7aeb-4b53-ce44-728fa1460eab"
      },
      "execution_count": null,
      "outputs": [
        {
          "output_type": "stream",
          "name": "stdout",
          "text": [
            "{'010': [0, 1], '000': [2]}\n"
          ]
        }
      ]
    }
  ]
}