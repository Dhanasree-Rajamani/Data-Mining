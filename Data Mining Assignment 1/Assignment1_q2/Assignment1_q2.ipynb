{
  "nbformat": 4,
  "nbformat_minor": 0,
  "metadata": {
    "colab": {
      "name": "Assignment1_q2.ipynb",
      "provenance": [],
      "collapsed_sections": [],
      "authorship_tag": "ABX9TyMT1tYHWwDzTOyhgsYlwSyY",
      "include_colab_link": true
    },
    "kernelspec": {
      "name": "python3",
      "display_name": "Python 3"
    },
    "language_info": {
      "name": "python"
    }
  },
  "cells": [
    {
      "cell_type": "markdown",
      "metadata": {
        "id": "view-in-github",
        "colab_type": "text"
      },
      "source": [
        "<a href=\"https://colab.research.google.com/github/Dhanasree-Rajamani/Data-Mining/blob/main/Assignment1_q2.ipynb\" target=\"_parent\"><img src=\"https://colab.research.google.com/assets/colab-badge.svg\" alt=\"Open In Colab\"/></a>"
      ]
    },
    {
      "cell_type": "markdown",
      "source": [
        "Import Statements"
      ],
      "metadata": {
        "id": "uOF48zAAXPHa"
      }
    },
    {
      "cell_type": "code",
      "execution_count": 47,
      "metadata": {
        "id": "HhGaWnh5S7ee"
      },
      "outputs": [],
      "source": [
        "import random\n",
        "import sys\n",
        "import os"
      ]
    },
    {
      "cell_type": "markdown",
      "source": [
        "Print Statement and variable"
      ],
      "metadata": {
        "id": "6KseNJgCW-lY"
      }
    },
    {
      "cell_type": "code",
      "source": [
        "#printing name\n",
        "name = \"Dhanasree\"\n",
        "print(name)\n",
        "#multiline comment not working the way I expected it to"
      ],
      "metadata": {
        "colab": {
          "base_uri": "https://localhost:8080/"
        },
        "id": "GIFY4TTrTSig",
        "outputId": "780b7751-bb23-4114-9c95-0dea5e794303"
      },
      "execution_count": 10,
      "outputs": [
        {
          "output_type": "stream",
          "name": "stdout",
          "text": [
            "Dhanasree\n"
          ]
        }
      ]
    },
    {
      "cell_type": "markdown",
      "source": [
        "  Arithmetic Operations and variables"
      ],
      "metadata": {
        "id": "xnzFGSzmW6eD"
      }
    },
    {
      "cell_type": "code",
      "source": [
        "a = 10\n",
        "b = 5\n",
        "print(a, \" + \", b, \"=\", a+b)\n",
        "print(a, \" - \", b, \"=\", a-b)\n",
        "print(a, \" * \", b, \"=\", a*b)\n",
        "print(a, \" / \", b, \"=\", a/b)\n",
        "print(a, \" % \", b, \"=\", a%b)\n",
        "print(a, \" ** \", b, \"=\", a**b)\n",
        "print(a, \" // \", b, \"=\", a//b)\n",
        "\n",
        "print(\" 1 + 2 - 3 * 2 = \", 1 + 2 - 3 * 2)\n",
        "print(\"( 1 + 2 - 3 ) * 2 = \", (1 + 2 - 3) * 2)"
      ],
      "metadata": {
        "colab": {
          "base_uri": "https://localhost:8080/"
        },
        "id": "LcIHZP3pTg-d",
        "outputId": "ca6a3af5-60c9-484b-c719-6d74cafb38d5"
      },
      "execution_count": 14,
      "outputs": [
        {
          "output_type": "stream",
          "name": "stdout",
          "text": [
            "10  +  5 = 15\n",
            "10  -  5 = 5\n",
            "10  *  5 = 50\n",
            "10  /  5 = 2.0\n",
            "10  %  5 = 0\n",
            "10  **  5 = 100000\n",
            "10  //  5 = 2\n",
            " 1 + 2 - 3 * 2 =  -3\n",
            "( 1 + 2 - 3 ) * 2 =  0\n"
          ]
        }
      ]
    },
    {
      "cell_type": "markdown",
      "source": [
        "Working with quotes and new lines"
      ],
      "metadata": {
        "id": "nrY4TSV7YqeZ"
      }
    },
    {
      "cell_type": "code",
      "source": [
        "quote = \"\\\"Always remember you are unique\"\n",
        "\n",
        "multi_line_quote = '''just\n",
        "like everyone else\\\"'''\n",
        "\n",
        "print(\"%s %s %s\" %('I like the quote', quote, multi_line_quote))\n",
        "\n",
        "print('\\n' * 5)\n",
        "\n",
        "print(\"I dont like \", end=\"\")\n",
        "print(\"newlines\")"
      ],
      "metadata": {
        "colab": {
          "base_uri": "https://localhost:8080/"
        },
        "id": "ox1dM6eIXWNZ",
        "outputId": "f6ac94bb-0770-42ce-bb5a-dc92c4dfdf73"
      },
      "execution_count": 20,
      "outputs": [
        {
          "output_type": "stream",
          "name": "stdout",
          "text": [
            "I like the quote \"Always remember you are unique just\n",
            "like everyone else\"\n",
            "\n",
            "\n",
            "\n",
            "\n",
            "\n",
            "\n",
            "I dont like newlines\n"
          ]
        }
      ]
    },
    {
      "cell_type": "markdown",
      "source": [
        "Lists and List operations"
      ],
      "metadata": {
        "id": "DsJOdebgabq1"
      }
    },
    {
      "cell_type": "code",
      "source": [
        "grocery_list = ['Juice', 'Tomatoes', 'Potatoes',\n",
        "                'Bananas']\n",
        "print('First Item is', grocery_list[0])\n",
        "\n",
        "grocery_list[0] = \"Green Juice\"\n",
        "print('First Item is', grocery_list[0])\n",
        "\n",
        "print(grocery_list[1:3])\n",
        "\n",
        "other_events = ['Wash Car', 'Pick Up Kids', 'Cash Check']\n",
        "to_do_list = [other_events, grocery_list]\n",
        "print(to_do_list)\n",
        "\n",
        "print(to_do_list[1][1])\n",
        "\n",
        "grocery_list.append('Onions')\n",
        "grocery_list.insert(1, 'Pickle')\n",
        "\n",
        "print(grocery_list)\n",
        "\n",
        "grocery_list.remove('Pickle')\n",
        "\n",
        "grocery_list.sort()\n",
        "\n",
        "grocery_list.reverse()\n",
        "\n",
        "del(grocery_list[4])\n",
        "\n",
        "print(to_do_list)\n",
        "\n",
        "to_do_list2 = other_events + grocery_list\n",
        "\n",
        "print(len(to_do_list2))\n",
        "print(max(to_do_list2))\n",
        "print(min(to_do_list2))"
      ],
      "metadata": {
        "colab": {
          "base_uri": "https://localhost:8080/"
        },
        "id": "CcWLWHqLYvlA",
        "outputId": "b0fe72a8-b45e-45a7-83e1-3a9cf0606375"
      },
      "execution_count": 26,
      "outputs": [
        {
          "output_type": "stream",
          "name": "stdout",
          "text": [
            "First Item is Juice\n",
            "First Item is Green Juice\n",
            "['Tomatoes', 'Potatoes']\n",
            "[['Wash Car', 'Pick Up Kids', 'Cash Check'], ['Green Juice', 'Tomatoes', 'Potatoes', 'Bananas']]\n",
            "Tomatoes\n",
            "['Green Juice', 'Pickle', 'Tomatoes', 'Potatoes', 'Bananas', 'Onions']\n",
            "[['Wash Car', 'Pick Up Kids', 'Cash Check'], ['Tomatoes', 'Potatoes', 'Onions', 'Green Juice']]\n",
            "7\n",
            "Wash Car\n",
            "Cash Check\n"
          ]
        }
      ]
    },
    {
      "cell_type": "markdown",
      "source": [
        "Tuples"
      ],
      "metadata": {
        "id": "aoIhqj_rbbAj"
      }
    },
    {
      "cell_type": "code",
      "source": [
        "pi_tuple = (3,1,4,5,9)\n",
        "\n",
        "new_list = list(pi_tuple)\n",
        "new_tuple = tuple(new_list)\n",
        "\n",
        "print(\"length:\", len(new_tuple), \" min:\", min(new_tuple), \" max:\", max(new_tuple))"
      ],
      "metadata": {
        "colab": {
          "base_uri": "https://localhost:8080/"
        },
        "id": "mtp8c8xBaktG",
        "outputId": "8d2c8162-d13f-448f-e405-524abba7cdf6"
      },
      "execution_count": 31,
      "outputs": [
        {
          "output_type": "stream",
          "name": "stdout",
          "text": [
            "length: 5  min: 1  max: 9\n"
          ]
        }
      ]
    },
    {
      "cell_type": "markdown",
      "source": [
        "Dictionary and Dictionary operations"
      ],
      "metadata": {
        "id": "o7BIkD9ucoA2"
      }
    },
    {
      "cell_type": "code",
      "source": [
        "super_villains = {'Fiddler' : 'Isaac Bowin',\n",
        "                  'Captain Cold' : 'Leonard Snart', \n",
        "                  'Weather Wizard' : 'Mark Mardon', \n",
        "                  'Mirror Master' : 'Sam Scudder', \n",
        "                  'Pied Piper' : 'Thomas Peterson'}\n",
        "\n",
        "print(super_villains['Captain Cold'])\n",
        "\n",
        "del super_villains['Fiddler']\n",
        "\n",
        "super_villains['Pied Piper'] = 'Hartley Rathaway'\n",
        "\n",
        "print(len(super_villains))\n",
        "\n",
        "print(super_villains.get('Pied Piper'))\n",
        "\n",
        "print(super_villains.keys())\n",
        "\n",
        "print(super_villains.values())\n"
      ],
      "metadata": {
        "colab": {
          "base_uri": "https://localhost:8080/"
        },
        "id": "Ra6Le9-kbdHh",
        "outputId": "2af32b4c-5ae9-4c4a-e4e2-e62874e0b9cc"
      },
      "execution_count": 33,
      "outputs": [
        {
          "output_type": "stream",
          "name": "stdout",
          "text": [
            "Leonard Snart\n",
            "4\n",
            "Hartley Rathaway\n",
            "dict_keys(['Captain Cold', 'Weather Wizard', 'Mirror Master', 'Pied Piper'])\n",
            "dict_values(['Leonard Snart', 'Mark Mardon', 'Sam Scudder', 'Hartley Rathaway'])\n"
          ]
        }
      ]
    },
    {
      "cell_type": "markdown",
      "source": [
        "If and Else Statements"
      ],
      "metadata": {
        "id": "7lY8m8ePg8DZ"
      }
    },
    {
      "cell_type": "code",
      "source": [
        "age = 30\n",
        "\n",
        "if age>16 :\n",
        "  print('You are old enough to drive')\n",
        "else :\n",
        "  print('You are not old enough to drive')\n",
        "\n",
        "if age >= 21 :\n",
        "  print('You are old enough to drive a tractor trailer')\n",
        "elif age >= 16 :\n",
        "  print('You are old enough to drive a car')\n",
        "else :\n",
        "  print('You are not old enough to drive')\n",
        "\n",
        "if ((age >= 1) and (age <= 18)) :\n",
        "  print(\"You get a brithday\")\n",
        "elif ((age == 21) or (age >= 65)) :\n",
        "  print(\"you get a birthday too\")\n",
        "elif not (age == 30) :\n",
        "  print(\"you dont get a birthday\")\n",
        "else :\n",
        "  print(\"you get a birthday party yeah\")"
      ],
      "metadata": {
        "colab": {
          "base_uri": "https://localhost:8080/"
        },
        "id": "qAywiWxmcuiK",
        "outputId": "554d1e22-643d-4b7b-c5ca-3ded857959d4"
      },
      "execution_count": 35,
      "outputs": [
        {
          "output_type": "stream",
          "name": "stdout",
          "text": [
            "You are old enough to drive\n",
            "You are old enough to drive a tractor trailer\n",
            "you get a birthday party yeah\n"
          ]
        }
      ]
    },
    {
      "cell_type": "markdown",
      "source": [
        "For Loop"
      ],
      "metadata": {
        "id": "ltKf3V4wi_9d"
      }
    },
    {
      "cell_type": "code",
      "source": [
        "for x in range (0,10):\n",
        "  print(x, ' ', end=\"\")\n",
        "\n",
        "print('\\n')\n",
        "\n",
        "grocery_list = ['Juice', 'Bananas', 'Potatoes', 'Tomatoes']\n",
        "\n",
        "for y in grocery_list:\n",
        "  print(y)\n",
        "\n",
        "for x in [2, 4, 6, 8, 10]:\n",
        "  print(x)\n",
        "\n",
        "num_list = [[1,2,3],[10,20,30],[100,200,330]]\n",
        "\n",
        "for x in range(0,3):\n",
        "  for y in range(0,3):\n",
        "    print(num_list[x][y])\n"
      ],
      "metadata": {
        "colab": {
          "base_uri": "https://localhost:8080/"
        },
        "id": "yiPgVSt0g_qm",
        "outputId": "78519b1e-13c4-49c1-b95c-de7076a6fdfc"
      },
      "execution_count": 39,
      "outputs": [
        {
          "output_type": "stream",
          "name": "stdout",
          "text": [
            "0  1  2  3  4  5  6  7  8  9  \n",
            "\n",
            "Juice\n",
            "Bananas\n",
            "Potatoes\n",
            "Tomatoes\n",
            "2\n",
            "4\n",
            "6\n",
            "8\n",
            "10\n",
            "1\n",
            "2\n",
            "3\n",
            "10\n",
            "20\n",
            "30\n",
            "100\n",
            "200\n",
            "330\n"
          ]
        }
      ]
    },
    {
      "cell_type": "markdown",
      "source": [
        "While Loop"
      ],
      "metadata": {
        "id": "yY3_FtICjCAz"
      }
    },
    {
      "cell_type": "code",
      "source": [
        "random_number = random.randrange(0, 100)\n",
        "\n",
        "while (random_number != 15) :\n",
        "  print(random_number)\n",
        "  random_number = random.randrange(0, 100)\n",
        "\n",
        "i = 0\n",
        "\n",
        "while(i <= 20) :\n",
        "  if(i%2 == 0) :\n",
        "    print(i)\n",
        "  elif(i == 9) :\n",
        "    break\n",
        "  else:\n",
        "    i += 1\n",
        "    continue\n",
        "  i += 1\n"
      ],
      "metadata": {
        "colab": {
          "base_uri": "https://localhost:8080/"
        },
        "id": "aDpagTx6h5eM",
        "outputId": "d01e9316-519a-4fec-a4c5-253b952eee09"
      },
      "execution_count": 42,
      "outputs": [
        {
          "output_type": "stream",
          "name": "stdout",
          "text": [
            "58\n",
            "89\n",
            "43\n",
            "81\n",
            "56\n",
            "8\n",
            "89\n",
            "53\n",
            "45\n",
            "67\n",
            "25\n",
            "91\n",
            "76\n",
            "36\n",
            "49\n",
            "46\n",
            "72\n",
            "49\n",
            "29\n",
            "53\n",
            "36\n",
            "17\n",
            "1\n",
            "22\n",
            "85\n",
            "80\n",
            "5\n",
            "46\n",
            "23\n",
            "26\n",
            "31\n",
            "76\n",
            "28\n",
            "29\n",
            "71\n",
            "27\n",
            "45\n",
            "42\n",
            "57\n",
            "49\n",
            "60\n",
            "39\n",
            "77\n",
            "84\n",
            "16\n",
            "49\n",
            "29\n",
            "34\n",
            "78\n",
            "89\n",
            "38\n",
            "31\n",
            "52\n",
            "10\n",
            "12\n",
            "97\n",
            "41\n",
            "94\n",
            "68\n",
            "78\n",
            "79\n",
            "16\n",
            "2\n",
            "59\n",
            "43\n",
            "19\n",
            "74\n",
            "6\n",
            "55\n",
            "57\n",
            "26\n",
            "93\n",
            "73\n",
            "84\n",
            "4\n",
            "0\n",
            "2\n",
            "4\n",
            "6\n",
            "8\n"
          ]
        }
      ]
    },
    {
      "cell_type": "markdown",
      "source": [
        "Function and user input"
      ],
      "metadata": {
        "id": "GszruGtqjJZu"
      }
    },
    {
      "cell_type": "code",
      "source": [
        "def addNumbers(num1, num2):\n",
        "  sumNum = num1 + num2\n",
        "  return sumNum\n",
        "\n",
        "print(addNumbers(5,3))\n",
        "\n",
        "print(\"What is your name\")\n",
        "#name = sys.stdin.readline() this din't work for me\n",
        "name = input() #using input to get user input\n",
        "print(\"Hello \", name)"
      ],
      "metadata": {
        "colab": {
          "base_uri": "https://localhost:8080/"
        },
        "id": "_wTy3ETvjIVv",
        "outputId": "42d0de96-e62e-4f8f-fda2-b9575de54eb5"
      },
      "execution_count": 49,
      "outputs": [
        {
          "output_type": "stream",
          "name": "stdout",
          "text": [
            "8\n",
            "What is your name\n",
            "Dhanasree\n",
            "Hello  Dhanasree\n"
          ]
        }
      ]
    },
    {
      "cell_type": "markdown",
      "source": [
        "String Operations"
      ],
      "metadata": {
        "id": "PRt_spCGlvtp"
      }
    },
    {
      "cell_type": "code",
      "source": [
        "long_String = \"i'll catch you if you fall - The Floor\"\n",
        "\n",
        "print(long_String[0:4])\n",
        "\n",
        "print(long_String[-5:])\n",
        "\n",
        "print(long_String[:-5])\n",
        "\n",
        "print(long_String[:4]+ \" be there\")\n",
        "\n",
        "print(\"%c is my %s letter and my number %d number is %.5f\" %\n",
        "      ('x','favorite',1,.14))\n",
        "\n",
        "print(long_String.capitalize())\n",
        "\n",
        "print(long_String.find(\"Floor\"))\n",
        "\n",
        "print(long_String.isalpha())\n",
        "\n",
        "print(long_String.isalnum())\n",
        "\n",
        "print(len(long_String))\n",
        "\n",
        "print(long_String.replace(\"Floor\", \"Ground\"))\n",
        "\n",
        "print(long_String.strip())\n",
        "\n",
        "quote_list = long_String.split(\" \")\n",
        "print(quote_list)"
      ],
      "metadata": {
        "colab": {
          "base_uri": "https://localhost:8080/"
        },
        "id": "O8lX2xVtj9px",
        "outputId": "a5118494-58d3-49ff-f4ba-cc5a2c4f6bac"
      },
      "execution_count": 54,
      "outputs": [
        {
          "output_type": "stream",
          "name": "stdout",
          "text": [
            "i'll\n",
            "Floor\n",
            "i'll catch you if you fall - The \n",
            "i'll be there\n",
            "x is my favorite letter and my number 1 number is 0.14000\n",
            "I'll catch you if you fall - the floor\n",
            "33\n",
            "False\n",
            "False\n",
            "38\n",
            "i'll catch you if you fall - The Ground\n",
            "i'll catch you if you fall - The Floor\n",
            "[\"i'll\", 'catch', 'you', 'if', 'you', 'fall', '-', 'The', 'Floor']\n"
          ]
        }
      ]
    },
    {
      "cell_type": "markdown",
      "source": [
        "File Operations"
      ],
      "metadata": {
        "id": "f_NgwZtOmefE"
      }
    },
    {
      "cell_type": "code",
      "source": [
        "test_file = open(\"test.txt\", \"wb\")\n",
        "\n",
        "print(test_file.mode)\n",
        "print(test_file.name)\n",
        "test_file.write(bytes(\"write me to the file\\n\", \"UTF-8\"))\n",
        "\n",
        "test_file.close()\n",
        "\n",
        "test_file = open(\"test.txt\", \"r+\")\n",
        "\n",
        "text_in_file = test_file.read()\n",
        "print(text_in_file)\n",
        "\n",
        "os.remove(\"test.txt\")\n"
      ],
      "metadata": {
        "colab": {
          "base_uri": "https://localhost:8080/"
        },
        "id": "lpaXASdylx_R",
        "outputId": "06b716f6-d7ee-41e8-d962-989838ad63fc"
      },
      "execution_count": 56,
      "outputs": [
        {
          "output_type": "stream",
          "name": "stdout",
          "text": [
            "wb\n",
            "test.txt\n",
            "write me to the file\n",
            "\n"
          ]
        }
      ]
    },
    {
      "cell_type": "code",
      "source": [
        "class Animal :\n",
        "  name = \"\"\n",
        "  height = 0\n",
        "  weight = 0\n",
        "  sound = 0\n",
        "\n",
        "  def __init__(self, name, height, weight, sound):\n",
        "    self.name = name\n",
        "    self.height = height\n",
        "    self.weight = weight\n",
        "    self.sound = sound\n",
        "\n",
        "  def set_name(self, name):\n",
        "    self.name = name\n",
        "  \n",
        "  def get_name(self):\n",
        "    return self.name\n",
        "  \n",
        "  def set_height(self, height):\n",
        "    self.height = height\n",
        "  \n",
        "  def get_height(self):\n",
        "    return self.height\n",
        "\n",
        "  def set_weight(self, weight):\n",
        "    self.weight = weight\n",
        "  \n",
        "  def get_weight(self):\n",
        "    return self.weight\n",
        "  \n",
        "  def set_sound(self, sound):\n",
        "    self.sound = sound\n",
        "  \n",
        "  def get_sound(self):\n",
        "    return self.sound\n",
        "\n",
        "  def get_type(self):\n",
        "    print(\"Animal\")\n",
        "  \n",
        "  def toString(self):\n",
        "    return \"{} is {} cm tall and {} kilograms and says {}\".format(self.name,\n",
        "                                                                  self.height,\n",
        "                                                                  self.weight,\n",
        "                                                                  self.sound)\n",
        "cat = Animal(\"Whiskers\", 33, 10, \"Meow\")\n",
        "print(cat.toString())\n",
        "\n",
        "class Dog(Animal):\n",
        "  owner = \"\"\n",
        "\n",
        "  def __init__(self, name, height, weight, sound, owner):\n",
        "    self.owner = owner\n",
        "    super().__init__(name, height, weight, sound)\n",
        "\n",
        "  def set_owner(self, owner):\n",
        "    self.owner = owner\n",
        "  \n",
        "  def get_owner(self):\n",
        "    return self.owner\n",
        "\n",
        "  def get_type(self):\n",
        "    print(\"Dog\")\n",
        "    \n",
        "  def toString(self):\n",
        "    return \"{} is {} cm tall and {} kilograms and says {}\".format(self.name,\n",
        "                                                                  self.height,\n",
        "                                                                  self.weight,\n",
        "                                                                  self.sound,\n",
        "                                                                  self.owner)\n",
        "  def multiple_sounds(self, how_many=None):\n",
        "    if how_many is None:\n",
        "      print(self.get_sound()) \n",
        "    else:\n",
        "      print(self.get_sound() * how_many)\n",
        " \n",
        "\n",
        "spot = Dog(\"Spot\", 53, 27, \"Ruff\", \"Dhana\")\n",
        "\n",
        "print(vars(spot))\n",
        "print(spot.toString())\n",
        "\n",
        "class AnimalTesting:\n",
        "  def get_type(self, animal):\n",
        "    animal.get_type()\n",
        "\n",
        "test_animals = AnimalTesting()\n",
        "\n",
        "test_animals.get_type(cat)\n",
        "test_animals.get_type(spot)\n",
        "\n",
        "spot.multiple_sounds(4)\n",
        "spot.multiple_sounds()\n",
        "\n"
      ],
      "metadata": {
        "colab": {
          "base_uri": "https://localhost:8080/"
        },
        "id": "2dJ7iSl5mhrk",
        "outputId": "e61f9bbb-b29b-4502-9f17-26e53a95f3c5"
      },
      "execution_count": 11,
      "outputs": [
        {
          "output_type": "stream",
          "name": "stdout",
          "text": [
            "Whiskers is 33 cm tall and 10 kilograms and says Meow\n",
            "{'owner': 'Dhana', 'name': 'Spot', 'height': 53, 'weight': 27, 'sound': 'Ruff'}\n",
            "Spot is 53 cm tall and 27 kilograms and says Ruff\n",
            "Animal\n",
            "Dog\n",
            "RuffRuffRuffRuff\n",
            "Ruff\n"
          ]
        }
      ]
    },
    {
      "cell_type": "code",
      "source": [],
      "metadata": {
        "id": "-8J5Myfjfa_M"
      },
      "execution_count": null,
      "outputs": []
    }
  ]
}