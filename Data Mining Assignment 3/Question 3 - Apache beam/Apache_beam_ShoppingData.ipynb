{
  "nbformat": 4,
  "nbformat_minor": 0,
  "metadata": {
    "colab": {
      "provenance": []
    },
    "kernelspec": {
      "name": "python3",
      "display_name": "Python 3"
    },
    "language_info": {
      "name": "python"
    }
  },
  "cells": [
    {
      "cell_type": "markdown",
      "source": [
        "### **Apache Beam**"
      ],
      "metadata": {
        "id": "Pf-XUX85WCGz"
      }
    },
    {
      "cell_type": "markdown",
      "source": [
        "In this notebook, I have set up Apache beam to perform operations such as:\n",
        " - Map, filter and core transforms\n",
        " - ParDo transform\n",
        " - Composite transform\n",
        " \n",
        "The data set consists of shopping data of customers who shopped IT related products. We perform operations on these customers to group customers who bought specific category Items, customers who return to buy the same product and customers who dont."
      ],
      "metadata": {
        "id": "MuEoWJY9WHwh"
      }
    },
    {
      "cell_type": "markdown",
      "source": [
        "Installing Apache beam"
      ],
      "metadata": {
        "id": "SQM9iInvXMZA"
      }
    },
    {
      "cell_type": "code",
      "execution_count": null,
      "metadata": {
        "colab": {
          "base_uri": "https://localhost:8080/",
          "height": 1000
        },
        "id": "hIv8T7fjUi4j",
        "outputId": "2c9ac4a9-742d-4e2f-ad06-ea8dccc332f4"
      },
      "outputs": [
        {
          "output_type": "stream",
          "name": "stdout",
          "text": [
            "Looking in indexes: https://pypi.org/simple, https://us-python.pkg.dev/colab-wheels/public/simple/\n",
            "Collecting apache-beam\n",
            "  Downloading apache_beam-2.41.0-cp37-cp37m-manylinux2010_x86_64.whl (10.9 MB)\n",
            "\u001b[K     |████████████████████████████████| 10.9 MB 3.9 MB/s \n",
            "\u001b[?25hRequirement already satisfied: grpcio<2,>=1.33.1 in /usr/local/lib/python3.7/dist-packages (from apache-beam) (1.48.1)\n",
            "Requirement already satisfied: typing-extensions>=3.7.0 in /usr/local/lib/python3.7/dist-packages (from apache-beam) (4.1.1)\n",
            "Collecting cloudpickle<3,>=2.1.0\n",
            "  Downloading cloudpickle-2.2.0-py3-none-any.whl (25 kB)\n",
            "Collecting pymongo<4.0.0,>=3.8.0\n",
            "  Downloading pymongo-3.12.3-cp37-cp37m-manylinux_2_17_x86_64.manylinux2014_x86_64.whl (508 kB)\n",
            "\u001b[K     |████████████████████████████████| 508 kB 50.2 MB/s \n",
            "\u001b[?25hRequirement already satisfied: protobuf<4,>=3.12.2 in /usr/local/lib/python3.7/dist-packages (from apache-beam) (3.17.3)\n",
            "Collecting requests<3.0.0,>=2.24.0\n",
            "  Downloading requests-2.28.1-py3-none-any.whl (62 kB)\n",
            "\u001b[K     |████████████████████████████████| 62 kB 1.4 MB/s \n",
            "\u001b[?25hRequirement already satisfied: crcmod<2.0,>=1.7 in /usr/local/lib/python3.7/dist-packages (from apache-beam) (1.7)\n",
            "Requirement already satisfied: pydot<2,>=1.2.0 in /usr/local/lib/python3.7/dist-packages (from apache-beam) (1.3.0)\n",
            "Requirement already satisfied: pytz>=2018.3 in /usr/local/lib/python3.7/dist-packages (from apache-beam) (2022.2.1)\n",
            "Requirement already satisfied: httplib2<0.21.0,>=0.8 in /usr/local/lib/python3.7/dist-packages (from apache-beam) (0.17.4)\n",
            "Collecting dill<0.3.2,>=0.3.1.1\n",
            "  Downloading dill-0.3.1.1.tar.gz (151 kB)\n",
            "\u001b[K     |████████████████████████████████| 151 kB 55.2 MB/s \n",
            "\u001b[?25hCollecting fastavro<2,>=0.23.6\n",
            "  Downloading fastavro-1.6.1-cp37-cp37m-manylinux_2_17_x86_64.manylinux2014_x86_64.whl (2.4 MB)\n",
            "\u001b[K     |████████████████████████████████| 2.4 MB 62.9 MB/s \n",
            "\u001b[?25hRequirement already satisfied: numpy<1.23.0,>=1.14.3 in /usr/local/lib/python3.7/dist-packages (from apache-beam) (1.21.6)\n",
            "Requirement already satisfied: pyarrow<8.0.0,>=0.15.1 in /usr/local/lib/python3.7/dist-packages (from apache-beam) (6.0.1)\n",
            "Collecting proto-plus<2,>=1.7.1\n",
            "  Downloading proto_plus-1.22.1-py3-none-any.whl (47 kB)\n",
            "\u001b[K     |████████████████████████████████| 47 kB 4.2 MB/s \n",
            "\u001b[?25hCollecting hdfs<3.0.0,>=2.1.0\n",
            "  Downloading hdfs-2.7.0-py3-none-any.whl (34 kB)\n",
            "Collecting orjson<4.0\n",
            "  Downloading orjson-3.8.0-cp37-cp37m-manylinux_2_17_x86_64.manylinux2014_x86_64.whl (270 kB)\n",
            "\u001b[K     |████████████████████████████████| 270 kB 57.9 MB/s \n",
            "\u001b[?25hRequirement already satisfied: python-dateutil<3,>=2.8.0 in /usr/local/lib/python3.7/dist-packages (from apache-beam) (2.8.2)\n",
            "Requirement already satisfied: six>=1.5.2 in /usr/local/lib/python3.7/dist-packages (from grpcio<2,>=1.33.1->apache-beam) (1.15.0)\n",
            "Collecting docopt\n",
            "  Downloading docopt-0.6.2.tar.gz (25 kB)\n",
            "Collecting protobuf<4,>=3.12.2\n",
            "  Downloading protobuf-3.20.2-cp37-cp37m-manylinux_2_5_x86_64.manylinux1_x86_64.whl (1.0 MB)\n",
            "\u001b[K     |████████████████████████████████| 1.0 MB 65.9 MB/s \n",
            "\u001b[?25hRequirement already satisfied: pyparsing>=2.1.4 in /usr/local/lib/python3.7/dist-packages (from pydot<2,>=1.2.0->apache-beam) (3.0.9)\n",
            "Requirement already satisfied: charset-normalizer<3,>=2 in /usr/local/lib/python3.7/dist-packages (from requests<3.0.0,>=2.24.0->apache-beam) (2.1.1)\n",
            "Requirement already satisfied: certifi>=2017.4.17 in /usr/local/lib/python3.7/dist-packages (from requests<3.0.0,>=2.24.0->apache-beam) (2022.6.15)\n",
            "Requirement already satisfied: urllib3<1.27,>=1.21.1 in /usr/local/lib/python3.7/dist-packages (from requests<3.0.0,>=2.24.0->apache-beam) (1.24.3)\n",
            "Requirement already satisfied: idna<4,>=2.5 in /usr/local/lib/python3.7/dist-packages (from requests<3.0.0,>=2.24.0->apache-beam) (2.10)\n",
            "Building wheels for collected packages: dill, docopt\n",
            "  Building wheel for dill (setup.py) ... \u001b[?25l\u001b[?25hdone\n",
            "  Created wheel for dill: filename=dill-0.3.1.1-py3-none-any.whl size=78544 sha256=9db679685b7a475345ae0dd95970a0e1a4cd06de8992cb1b1dc276271948756c\n",
            "  Stored in directory: /root/.cache/pip/wheels/a4/61/fd/c57e374e580aa78a45ed78d5859b3a44436af17e22ca53284f\n",
            "  Building wheel for docopt (setup.py) ... \u001b[?25l\u001b[?25hdone\n",
            "  Created wheel for docopt: filename=docopt-0.6.2-py2.py3-none-any.whl size=13723 sha256=9bc09c4a2b6e1faefbff7145f6232e8aebcd23294e2e7c572118dc3e09e38dae\n",
            "  Stored in directory: /root/.cache/pip/wheels/72/b0/3f/1d95f96ff986c7dfffe46ce2be4062f38ebd04b506c77c81b9\n",
            "Successfully built dill docopt\n",
            "Installing collected packages: requests, protobuf, docopt, pymongo, proto-plus, orjson, hdfs, fastavro, dill, cloudpickle, apache-beam\n",
            "  Attempting uninstall: requests\n",
            "    Found existing installation: requests 2.23.0\n",
            "    Uninstalling requests-2.23.0:\n",
            "      Successfully uninstalled requests-2.23.0\n",
            "  Attempting uninstall: protobuf\n",
            "    Found existing installation: protobuf 3.17.3\n",
            "    Uninstalling protobuf-3.17.3:\n",
            "      Successfully uninstalled protobuf-3.17.3\n",
            "  Attempting uninstall: pymongo\n",
            "    Found existing installation: pymongo 4.2.0\n",
            "    Uninstalling pymongo-4.2.0:\n",
            "      Successfully uninstalled pymongo-4.2.0\n",
            "  Attempting uninstall: dill\n",
            "    Found existing installation: dill 0.3.5.1\n",
            "    Uninstalling dill-0.3.5.1:\n",
            "      Successfully uninstalled dill-0.3.5.1\n",
            "  Attempting uninstall: cloudpickle\n",
            "    Found existing installation: cloudpickle 1.5.0\n",
            "    Uninstalling cloudpickle-1.5.0:\n",
            "      Successfully uninstalled cloudpickle-1.5.0\n",
            "\u001b[31mERROR: pip's dependency resolver does not currently take into account all the packages that are installed. This behaviour is the source of the following dependency conflicts.\n",
            "tensorflow 2.8.2+zzzcolab20220719082949 requires protobuf<3.20,>=3.9.2, but you have protobuf 3.20.2 which is incompatible.\u001b[0m\n",
            "Successfully installed apache-beam-2.41.0 cloudpickle-2.2.0 dill-0.3.1.1 docopt-0.6.2 fastavro-1.6.1 hdfs-2.7.0 orjson-3.8.0 proto-plus-1.22.1 protobuf-3.20.2 pymongo-3.12.3 requests-2.28.1\n"
          ]
        },
        {
          "output_type": "display_data",
          "data": {
            "application/vnd.colab-display-data+json": {
              "pip_warning": {
                "packages": [
                  "google"
                ]
              }
            }
          },
          "metadata": {}
        }
      ],
      "source": [
        "!pip install apache-beam"
      ]
    },
    {
      "cell_type": "markdown",
      "source": [
        "Get the input shopping data of customers, calculate number of customers who bought monitor. Write their details into an output file. Core transform- map, filter is used here, which is done on the basis of customerID. "
      ],
      "metadata": {
        "id": "RUz7KYfgXQqZ"
      }
    },
    {
      "cell_type": "code",
      "source": [
        "import apache_beam as beam\n",
        "\n",
        "pipe1 = beam.Pipeline()\n",
        "\n",
        "shopping_count = (\n",
        "    \n",
        "    pipe1\n",
        "    |beam.io.ReadFromText('/content/sample_data/Shopping_Input_Apache.txt')\n",
        "\n",
        "    |beam.Map(lambda record: record.split(\",\"))\n",
        "    |beam.Filter(lambda record: record[2] == 'Monitor')\n",
        "    |beam.Map(lambda record: (record[1],1))\n",
        "    |beam.CombinePerKey(sum)\n",
        "\n",
        "    |beam.io.WriteToText('output_MonitorSales_count.txt')\n",
        ")\n",
        "\n",
        "pipe1.run()"
      ],
      "metadata": {
        "colab": {
          "base_uri": "https://localhost:8080/",
          "height": 72
        },
        "id": "akU_5F3cUrVF",
        "outputId": "4a82f209-0a45-4275-96b1-aa28c61fdbb6"
      },
      "execution_count": null,
      "outputs": [
        {
          "output_type": "stream",
          "name": "stderr",
          "text": [
            "WARNING:apache_beam.runners.interactive.interactive_environment:Dependencies required for Interactive Beam PCollection visualization are not available, please use: `pip install apache-beam[interactive]` to install necessary dependencies to enable all data visualization features.\n"
          ]
        },
        {
          "output_type": "display_data",
          "data": {
            "application/javascript": [
              "\n",
              "        if (typeof window.interactive_beam_jquery == 'undefined') {\n",
              "          var jqueryScript = document.createElement('script');\n",
              "          jqueryScript.src = 'https://code.jquery.com/jquery-3.4.1.slim.min.js';\n",
              "          jqueryScript.type = 'text/javascript';\n",
              "          jqueryScript.onload = function() {\n",
              "            var datatableScript = document.createElement('script');\n",
              "            datatableScript.src = 'https://cdn.datatables.net/1.10.20/js/jquery.dataTables.min.js';\n",
              "            datatableScript.type = 'text/javascript';\n",
              "            datatableScript.onload = function() {\n",
              "              window.interactive_beam_jquery = jQuery.noConflict(true);\n",
              "              window.interactive_beam_jquery(document).ready(function($){\n",
              "                \n",
              "              });\n",
              "            }\n",
              "            document.head.appendChild(datatableScript);\n",
              "          };\n",
              "          document.head.appendChild(jqueryScript);\n",
              "        } else {\n",
              "          window.interactive_beam_jquery(document).ready(function($){\n",
              "            \n",
              "          });\n",
              "        }"
            ]
          },
          "metadata": {}
        },
        {
          "output_type": "execute_result",
          "data": {
            "text/plain": [
              "<apache_beam.runners.portability.fn_api_runner.fn_runner.RunnerResult at 0x7f6e6ed002d0>"
            ]
          },
          "metadata": {},
          "execution_count": 2
        }
      ]
    },
    {
      "cell_type": "markdown",
      "source": [
        "Filter and calculate the number of customers who bought headphones using ParDo transform, adn write result to an output file"
      ],
      "metadata": {
        "id": "3u9vbPuSYNvT"
      }
    },
    {
      "cell_type": "code",
      "source": [
        "import apache_beam as beam\n",
        "\n",
        "class SplitRow(beam.DoFn):\n",
        " \n",
        "  def process(self, element):\n",
        "    return  [element.split(',')]\n",
        " \n",
        "\n",
        "class FilterHeadphoneCustomers(beam.DoFn):\n",
        " \n",
        "  def process(self, element):\n",
        "    if element[2] == 'Headphones':\n",
        "      return [element]  \n",
        "    \n",
        "class PairCustomers(beam.DoFn):\n",
        " \n",
        "  def process(self, element):\n",
        "    return [(element[1], 1)]\n",
        " \n",
        "class Counting(beam.DoFn):\n",
        " \n",
        "  def process(self, element):\n",
        "    (key, values) = element         \n",
        "    return [(key, sum(values))]\n",
        "     \n",
        "\n",
        "pipe2 = beam.Pipeline()\n",
        "\n",
        "sales_count = (\n",
        "    \n",
        "   pipe2\n",
        "    |beam.io.ReadFromText('/content/sample_data/Shopping_Input_Apache.txt')\n",
        "    \n",
        "    |beam.ParDo(SplitRow())\n",
        "    |beam.ParDo(FilterHeadphoneCustomers())\n",
        "    |beam.ParDo(PairCustomers())\n",
        "    | 'Group ' >> beam.GroupByKey()\n",
        "    | 'Sum using ParDo' >> beam.ParDo(Counting())  \n",
        "    \n",
        "    |beam.io.WriteToText('pardo_output_headphones_sales.txt')\n",
        " \n",
        ")\n",
        "\n",
        "pipe2.run()"
      ],
      "metadata": {
        "colab": {
          "base_uri": "https://localhost:8080/"
        },
        "id": "I-NJOm3jVQc6",
        "outputId": "51122cf4-ec92-4821-c588-85d7e74512d6"
      },
      "execution_count": null,
      "outputs": [
        {
          "output_type": "execute_result",
          "data": {
            "text/plain": [
              "<apache_beam.runners.portability.fn_api_runner.fn_runner.RunnerResult at 0x7f6e6ec26610>"
            ]
          },
          "metadata": {},
          "execution_count": 4
        }
      ]
    },
    {
      "cell_type": "markdown",
      "source": [
        "Using Composite transform to group and calculate all(returning and non-returning) customers of every item in the input file such as chair, monitor, mouse, headphones and keyboard - and write the details to an output file."
      ],
      "metadata": {
        "id": "rDMVia8FYn6L"
      }
    },
    {
      "cell_type": "code",
      "source": [
        "import apache_beam as beam\n",
        "\n",
        "class CustomTransform(beam.PTransform):\n",
        "  \n",
        "  def expand(self, input_coll):\n",
        "    \n",
        "    a = ( \n",
        "        input_coll\n",
        "                       | 'Group and sum' >> beam.CombinePerKey(sum)\n",
        "                       | 'Customers and sales' >> beam.Map(format_output)\n",
        "              \n",
        "    )\n",
        "    return a\n",
        "\n",
        "def SplitRow(element):\n",
        "    return element.split(',')\n",
        "  \n",
        "def format_output(element):\n",
        "  name, count = element\n",
        "  return ', '.join((name,str(count)))\n",
        "\n",
        "pipe3 = beam.Pipeline()\n",
        "\n",
        "input_collection = ( \n",
        "                      pipe3 \n",
        "                      | \"Read from text file\" >> beam.io.ReadFromText('/content/sample_data/Shopping_Input_Apache.txt')\n",
        "                      | \"Split rows\" >> beam.Map(SplitRow)\n",
        "                   )\n",
        "\n",
        "monitor_customer_sales_count = (\n",
        "                      input_collection\n",
        "                      | 'Get all cusotmer who shopped Monitors' >> beam.Filter(lambda record: record[2] == 'Monitor')\n",
        "                      | 'Pair each Monitor customer with 1' >> beam.Map(lambda record: (\"Monitor, \" +record[1], 1))\n",
        "                      | 'composite Monitor customers' >> CustomTransform()\n",
        "                      | 'Write results for Monitor' >> beam.io.WriteToText('monitor_output.txt')\n",
        "                 )\n",
        "\n",
        "keyboard_customer_sales_count = (\n",
        "                input_collection\n",
        "                | 'Get all customers who shopped keyboards' >> beam.Filter(lambda record: record[2] == 'Keyboard')\n",
        "                | 'Pair each Keyboard customer with 1' >> beam.Map(lambda record: (\"Keyboard, \" +record[1], 1))\n",
        "                | 'composite Keyboard customers' >> CustomTransform()\n",
        "                | 'Write results for Keyboard' >> beam.io.WriteToText('keyboard_output.txt')\n",
        "           )\n",
        "\n",
        "headphones_customer_sales_count = (\n",
        "                      input_collection\n",
        "                      | 'Get all cusotmer who shopped Headphones' >> beam.Filter(lambda record: record[2] == 'Headphones')\n",
        "                      | 'Pair each headphone customer with 1' >> beam.Map(lambda record: (\"Headphones, \" +record[1], 1))\n",
        "                      | 'composite Headphones customers' >> CustomTransform()\n",
        "                      | 'Write results for Headphones' >> beam.io.WriteToText('headphones_output.txt')\n",
        "                 )\n",
        "\n",
        "mouse_customer_sales_count = (\n",
        "                input_collection\n",
        "                | 'Get all customers who shopped mouse' >> beam.Filter(lambda record: record[2] == 'Mouse')\n",
        "                | 'Pair each mouse customer with 1' >> beam.Map(lambda record: (\"Mouse, \" +record[1], 1))\n",
        "                | 'composite Keyboard mouse' >> CustomTransform()\n",
        "                | 'Write results for mouse' >> beam.io.WriteToText('mouse_output.txt')\n",
        "                )\n",
        "\n",
        "chair_customer_sales_count = (\n",
        "                      input_collection\n",
        "                      | 'Get all cusotmer who shopped chairs' >> beam.Filter(lambda record: record[2] == 'Chair')\n",
        "                      | 'Pair each chair customer with 1' >> beam.Map(lambda record: (\"Chair, \" +record[1], 1))\n",
        "                      | 'composite chair customers' >> CustomTransform()\n",
        "                      | 'Write results for chair' >> beam.io.WriteToText('chair_output.txt')\n",
        "                 )\n",
        "\n",
        "pipe3.run()"
      ],
      "metadata": {
        "colab": {
          "base_uri": "https://localhost:8080/"
        },
        "id": "yPK5t7hmX5NA",
        "outputId": "d51523c7-c1e6-45f7-9ba9-d5884c614d9a"
      },
      "execution_count": null,
      "outputs": [
        {
          "output_type": "execute_result",
          "data": {
            "text/plain": [
              "<apache_beam.runners.portability.fn_api_runner.fn_runner.RunnerResult at 0x7f6e6d5a4fd0>"
            ]
          },
          "metadata": {},
          "execution_count": 9
        }
      ]
    },
    {
      "cell_type": "markdown",
      "source": [
        "Using Composite transform to group, filter and identify returning customers of every item in the input file such as chair, monitor, mouse, headphones and keyboard - and write the details to an output file."
      ],
      "metadata": {
        "id": "c2rfHA9gYrww"
      }
    },
    {
      "cell_type": "code",
      "source": [
        "import apache_beam as beam\n",
        "\n",
        "class CustomTransform(beam.PTransform):\n",
        "  \n",
        "  def expand(self, input_coll):\n",
        "    \n",
        "    a = ( \n",
        "        input_coll\n",
        "                       | 'Group and sum' >> beam.CombinePerKey(sum)\n",
        "                       | 'count filter accounts' >> beam.Filter(filter_on_count)\n",
        "                       | 'Returning Customers' >> beam.Map(format_output)\n",
        "              \n",
        "    )\n",
        "    return a\n",
        "\n",
        "def SplitRow(element):\n",
        "    return element.split(',')\n",
        "\n",
        "def filter_on_count(element):\n",
        "  name, count = element\n",
        "  if count > 1:\n",
        "    return element\n",
        "  \n",
        "def format_output(element):\n",
        "  name, count = element\n",
        "  return ', '.join((name,str(count), 'Returning Customer'))\n",
        "\n",
        "pipe4 = beam.Pipeline()\n",
        "\n",
        "input_collection = ( \n",
        "                      pipe4\n",
        "                      | \"Read from text file\" >> beam.io.ReadFromText('/content/sample_data/Shopping_Input_Apache.txt')\n",
        "                      | \"Split rows\" >> beam.Map(SplitRow)\n",
        "                   )\n",
        "\n",
        "monitor_customer_sales_count = (\n",
        "                      input_collection\n",
        "                      | 'Get all cusotmer who shopped Monitors' >> beam.Filter(lambda record: record[2] == 'Monitor')\n",
        "                      | 'Pair each Monitor customer with 1' >> beam.Map(lambda record: (\"Monitor, \" +record[1], 1))\n",
        "                      | 'composite Monitor customers' >> CustomTransform()\n",
        "                      | 'Write results for Monitor' >> beam.io.WriteToText('regular_cust_monitor_output.txt')\n",
        "                 )\n",
        "\n",
        "keyboard_customer_sales_count = (\n",
        "                input_collection\n",
        "                | 'Get all customers who shopped keyboards' >> beam.Filter(lambda record: record[2] == 'Keyboard')\n",
        "                | 'Pair each Keyboard customer with 1' >> beam.Map(lambda record: (\"Keyboard, \" +record[1], 1))\n",
        "                | 'composite Keyboard customers' >> CustomTransform()\n",
        "                | 'Write results for Keyboard' >> beam.io.WriteToText('regular_cust_keyboard_output.txt')\n",
        "           )\n",
        "\n",
        "headphones_customer_sales_count = (\n",
        "                      input_collection\n",
        "                      | 'Get all cusotmer who shopped Headphones' >> beam.Filter(lambda record: record[2] == 'Headphones')\n",
        "                      | 'Pair each headphone customer with 1' >> beam.Map(lambda record: (\"Headphones, \" +record[1], 1))\n",
        "                      | 'composite Headphones customers' >> CustomTransform()\n",
        "                      | 'Write results for Headphones' >> beam.io.WriteToText('regular_cust_headphones_output.txt')\n",
        "                 )\n",
        "\n",
        "mouse_customer_sales_count = (\n",
        "                input_collection\n",
        "                | 'Get all customers who shopped mouse' >> beam.Filter(lambda record: record[2] == 'Mouse')\n",
        "                | 'Pair each mouse customer with 1' >> beam.Map(lambda record: (\"Mouse, \" +record[1], 1))\n",
        "                | 'composite Keyboard mouse' >> CustomTransform()\n",
        "                | 'Write results for mouse' >> beam.io.WriteToText('regular_cust_mouse_output.txt')\n",
        "                )\n",
        "\n",
        "chair_customer_sales_count = (\n",
        "                      input_collection\n",
        "                      | 'Get all cusotmer who shopped chairs' >> beam.Filter(lambda record: record[2] == 'Chair')\n",
        "                      | 'Pair each chair customer with 1' >> beam.Map(lambda record: (\"Chair, \" +record[1], 1))\n",
        "                      | 'composite chair customers' >> CustomTransform()\n",
        "                      | 'Write results for chair' >> beam.io.WriteToText('regular_cust_chair_output.txt')\n",
        "                 )\n",
        "\n",
        "pipe4.run()"
      ],
      "metadata": {
        "colab": {
          "base_uri": "https://localhost:8080/"
        },
        "id": "8nPVAWNOXDt-",
        "outputId": "eb5fa408-753f-456b-b0a0-c69091647938"
      },
      "execution_count": null,
      "outputs": [
        {
          "output_type": "execute_result",
          "data": {
            "text/plain": [
              "<apache_beam.runners.portability.fn_api_runner.fn_runner.RunnerResult at 0x7f6e6ddc36d0>"
            ]
          },
          "metadata": {},
          "execution_count": 12
        }
      ]
    },
    {
      "cell_type": "code",
      "source": [],
      "metadata": {
        "id": "XsgAnAvxb2yD"
      },
      "execution_count": null,
      "outputs": []
    }
  ]
}