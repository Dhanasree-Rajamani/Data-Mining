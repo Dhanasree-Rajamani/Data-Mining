{
  "nbformat": 4,
  "nbformat_minor": 0,
  "metadata": {
    "colab": {
      "provenance": [],
      "mount_file_id": "1NlkxX6iumHLJfgEQqQJzx5a1laJSBtAY",
      "authorship_tag": "ABX9TyNTj8vP18wgMT4PeMa+6UKO",
      "include_colab_link": true
    },
    "kernelspec": {
      "name": "python3",
      "display_name": "Python 3"
    },
    "language_info": {
      "name": "python"
    }
  },
  "cells": [
    {
      "cell_type": "markdown",
      "metadata": {
        "id": "view-in-github",
        "colab_type": "text"
      },
      "source": [
        "<a href=\"https://colab.research.google.com/github/Dhanasree-Rajamani/Data-Mining/blob/main/Data%20Mining%20Assignment%203/Question%203%20-%20Apache%20Beam/Apache_beam_ShoppingData.ipynb\" target=\"_parent\"><img src=\"https://colab.research.google.com/assets/colab-badge.svg\" alt=\"Open In Colab\"/></a>"
      ]
    },
    {
      "cell_type": "markdown",
      "source": [
        "### **Apache Beam**"
      ],
      "metadata": {
        "id": "Pf-XUX85WCGz"
      }
    },
    {
      "cell_type": "markdown",
      "source": [
        "In this notebook, I have set up Apache beam to perform operations such as:\n",
        " - Map, filter and core transforms\n",
        " - ParDo transform\n",
        " - Composite transform\n",
        " \n",
        "The data set consists of shopping data of customers who shopped IT related products. We perform operations on these customers to group customers who bought specific category Items, customers who return to buy the same product and customers who dont."
      ],
      "metadata": {
        "id": "MuEoWJY9WHwh"
      }
    },
    {
      "cell_type": "markdown",
      "source": [
        "The output file for each of these operations gets generated in colab locally. It can be viewed from the files pane on the left."
      ],
      "metadata": {
        "id": "2due3zOysQQv"
      }
    },
    {
      "cell_type": "markdown",
      "source": [
        "Installing Apache beam"
      ],
      "metadata": {
        "id": "SQM9iInvXMZA"
      }
    },
    {
      "cell_type": "code",
      "execution_count": null,
      "metadata": {
        "colab": {
          "base_uri": "https://localhost:8080/"
        },
        "id": "hIv8T7fjUi4j",
        "outputId": "e4ec99b0-7057-4b2d-bf22-22ff88e200d5"
      },
      "outputs": [
        {
          "output_type": "stream",
          "name": "stdout",
          "text": [
            "Looking in indexes: https://pypi.org/simple, https://us-python.pkg.dev/colab-wheels/public/simple/\n",
            "Requirement already satisfied: apache-beam in /usr/local/lib/python3.7/dist-packages (2.41.0)\n",
            "Requirement already satisfied: fastavro<2,>=0.23.6 in /usr/local/lib/python3.7/dist-packages (from apache-beam) (1.6.1)\n",
            "Requirement already satisfied: dill<0.3.2,>=0.3.1.1 in /usr/local/lib/python3.7/dist-packages (from apache-beam) (0.3.1.1)\n",
            "Requirement already satisfied: pydot<2,>=1.2.0 in /usr/local/lib/python3.7/dist-packages (from apache-beam) (1.3.0)\n",
            "Requirement already satisfied: python-dateutil<3,>=2.8.0 in /usr/local/lib/python3.7/dist-packages (from apache-beam) (2.8.2)\n",
            "Requirement already satisfied: httplib2<0.21.0,>=0.8 in /usr/local/lib/python3.7/dist-packages (from apache-beam) (0.17.4)\n",
            "Requirement already satisfied: cloudpickle<3,>=2.1.0 in /usr/local/lib/python3.7/dist-packages (from apache-beam) (2.2.0)\n",
            "Requirement already satisfied: pytz>=2018.3 in /usr/local/lib/python3.7/dist-packages (from apache-beam) (2022.2.1)\n",
            "Requirement already satisfied: orjson<4.0 in /usr/local/lib/python3.7/dist-packages (from apache-beam) (3.8.0)\n",
            "Requirement already satisfied: crcmod<2.0,>=1.7 in /usr/local/lib/python3.7/dist-packages (from apache-beam) (1.7)\n",
            "Requirement already satisfied: requests<3.0.0,>=2.24.0 in /usr/local/lib/python3.7/dist-packages (from apache-beam) (2.28.1)\n",
            "Requirement already satisfied: numpy<1.23.0,>=1.14.3 in /usr/local/lib/python3.7/dist-packages (from apache-beam) (1.21.6)\n",
            "Requirement already satisfied: grpcio<2,>=1.33.1 in /usr/local/lib/python3.7/dist-packages (from apache-beam) (1.49.1)\n",
            "Requirement already satisfied: hdfs<3.0.0,>=2.1.0 in /usr/local/lib/python3.7/dist-packages (from apache-beam) (2.7.0)\n",
            "Requirement already satisfied: protobuf<4,>=3.12.2 in /usr/local/lib/python3.7/dist-packages (from apache-beam) (3.20.3)\n",
            "Requirement already satisfied: proto-plus<2,>=1.7.1 in /usr/local/lib/python3.7/dist-packages (from apache-beam) (1.22.1)\n",
            "Requirement already satisfied: pyarrow<8.0.0,>=0.15.1 in /usr/local/lib/python3.7/dist-packages (from apache-beam) (6.0.1)\n",
            "Requirement already satisfied: pymongo<4.0.0,>=3.8.0 in /usr/local/lib/python3.7/dist-packages (from apache-beam) (3.12.3)\n",
            "Requirement already satisfied: typing-extensions>=3.7.0 in /usr/local/lib/python3.7/dist-packages (from apache-beam) (4.1.1)\n",
            "Requirement already satisfied: six>=1.5.2 in /usr/local/lib/python3.7/dist-packages (from grpcio<2,>=1.33.1->apache-beam) (1.15.0)\n",
            "Requirement already satisfied: docopt in /usr/local/lib/python3.7/dist-packages (from hdfs<3.0.0,>=2.1.0->apache-beam) (0.6.2)\n",
            "Requirement already satisfied: pyparsing>=2.1.4 in /usr/local/lib/python3.7/dist-packages (from pydot<2,>=1.2.0->apache-beam) (3.0.9)\n",
            "Requirement already satisfied: charset-normalizer<3,>=2 in /usr/local/lib/python3.7/dist-packages (from requests<3.0.0,>=2.24.0->apache-beam) (2.1.1)\n",
            "Requirement already satisfied: urllib3<1.27,>=1.21.1 in /usr/local/lib/python3.7/dist-packages (from requests<3.0.0,>=2.24.0->apache-beam) (1.24.3)\n",
            "Requirement already satisfied: certifi>=2017.4.17 in /usr/local/lib/python3.7/dist-packages (from requests<3.0.0,>=2.24.0->apache-beam) (2022.6.15)\n",
            "Requirement already satisfied: idna<4,>=2.5 in /usr/local/lib/python3.7/dist-packages (from requests<3.0.0,>=2.24.0->apache-beam) (2.10)\n"
          ]
        }
      ],
      "source": [
        "!pip install apache-beam"
      ]
    },
    {
      "cell_type": "markdown",
      "source": [
        "Reading file from github using pandas, and writing it to a new file on colab which is used as input to apache beam "
      ],
      "metadata": {
        "id": "qW_4DTCNcU83"
      }
    },
    {
      "cell_type": "code",
      "source": [
        "import pandas as pd\n",
        "\n",
        "input_file = 'https://raw.githubusercontent.com/Dhanasree-Rajamani/Data-Mining/main/Data%20Mining%20Assignment%203/Datasets/Shopping_Input_Apache.txt'\n",
        "colab_input_file = '/content/sample_data/Shopping_Input_Apache.txt'\n",
        "data=pd.read_csv(input_file, sep = \",\")\n",
        "data.to_csv(r'/content/sample_data/Shopping_Input_Apache.txt', index=None, sep=',', mode='a')"
      ],
      "metadata": {
        "id": "wGkDGBoaV-e-"
      },
      "execution_count": null,
      "outputs": []
    },
    {
      "cell_type": "markdown",
      "source": [
        "Get the input shopping data of customers, calculate number of customers who bought monitor. Write their details into an output file. Core transform- map, filter is used here, which is done on the basis of customerID. "
      ],
      "metadata": {
        "id": "RUz7KYfgXQqZ"
      }
    },
    {
      "cell_type": "code",
      "source": [
        "import apache_beam as beam\n",
        "\n",
        "pipe1 = beam.Pipeline()\n",
        "\n",
        "shopping_count = (\n",
        "    \n",
        "    pipe1\n",
        "    |beam.io.ReadFromText(colab_input_file)\n",
        "\n",
        "    |beam.Map(lambda record: record.split(\",\"))\n",
        "    |beam.Filter(lambda record: record[2] == 'Monitor')\n",
        "    |beam.Map(lambda record: (record[1],1))\n",
        "    |beam.CombinePerKey(sum)\n",
        "\n",
        "    |beam.io.WriteToText('output_MonitorSales_count.txt')\n",
        ")\n",
        "\n",
        "pipe1.run()"
      ],
      "metadata": {
        "colab": {
          "base_uri": "https://localhost:8080/"
        },
        "id": "akU_5F3cUrVF",
        "outputId": "0b1ab92b-a2a8-4b69-f876-15fae0db7ee7"
      },
      "execution_count": null,
      "outputs": [
        {
          "output_type": "execute_result",
          "data": {
            "text/plain": [
              "<apache_beam.runners.portability.fn_api_runner.fn_runner.RunnerResult at 0x7f91bd5da8d0>"
            ]
          },
          "metadata": {},
          "execution_count": 17
        }
      ]
    },
    {
      "cell_type": "markdown",
      "source": [
        "Filter and calculate the number of customers who bought headphones using ParDo transform, adn write result to an output file"
      ],
      "metadata": {
        "id": "3u9vbPuSYNvT"
      }
    },
    {
      "cell_type": "code",
      "source": [
        "import apache_beam as beam\n",
        "\n",
        "class SplitRow(beam.DoFn):\n",
        " \n",
        "  def process(self, element):\n",
        "    return  [element.split(',')]\n",
        " \n",
        "\n",
        "class FilterHeadphoneCustomers(beam.DoFn):\n",
        " \n",
        "  def process(self, element):\n",
        "    if element[2] == 'Headphones':\n",
        "      return [element]  \n",
        "    \n",
        "class PairCustomers(beam.DoFn):\n",
        " \n",
        "  def process(self, element):\n",
        "    return [(element[1], 1)]\n",
        " \n",
        "class Counting(beam.DoFn):\n",
        " \n",
        "  def process(self, element):\n",
        "    (key, values) = element         \n",
        "    return [(key, sum(values))]\n",
        "     \n",
        "\n",
        "pipe2 = beam.Pipeline()\n",
        "\n",
        "sales_count = (\n",
        "    \n",
        "   pipe2\n",
        "    |beam.io.ReadFromText(colab_input_file)\n",
        "    \n",
        "    |beam.ParDo(SplitRow())\n",
        "    |beam.ParDo(FilterHeadphoneCustomers())\n",
        "    |beam.ParDo(PairCustomers())\n",
        "    | 'Group ' >> beam.GroupByKey()\n",
        "    | 'Sum using ParDo' >> beam.ParDo(Counting())  \n",
        "    \n",
        "    |beam.io.WriteToText('pardo_output_headphones_sales.txt')\n",
        " \n",
        ")\n",
        "\n",
        "pipe2.run()"
      ],
      "metadata": {
        "colab": {
          "base_uri": "https://localhost:8080/"
        },
        "id": "I-NJOm3jVQc6",
        "outputId": "0f8b9cdd-9365-4ed0-f34c-3d8a236a31fa"
      },
      "execution_count": null,
      "outputs": [
        {
          "output_type": "execute_result",
          "data": {
            "text/plain": [
              "<apache_beam.runners.portability.fn_api_runner.fn_runner.RunnerResult at 0x7f91bd55f7d0>"
            ]
          },
          "metadata": {},
          "execution_count": 18
        }
      ]
    },
    {
      "cell_type": "markdown",
      "source": [
        "Using Composite transform to group and calculate all(returning and non-returning) customers of every item in the input file such as chair, monitor, mouse, headphones and keyboard - and write the details to an output file."
      ],
      "metadata": {
        "id": "rDMVia8FYn6L"
      }
    },
    {
      "cell_type": "code",
      "source": [
        "import apache_beam as beam\n",
        "\n",
        "class CustomTransform(beam.PTransform):\n",
        "  \n",
        "  def expand(self, input_coll):\n",
        "    \n",
        "    a = ( \n",
        "        input_coll\n",
        "                       | 'Group and sum' >> beam.CombinePerKey(sum)\n",
        "                       | 'Customers and sales' >> beam.Map(format_output)\n",
        "              \n",
        "    )\n",
        "    return a\n",
        "\n",
        "def SplitRow(element):\n",
        "    return element.split(',')\n",
        "  \n",
        "def format_output(element):\n",
        "  name, count = element\n",
        "  return ', '.join((name,str(count)))\n",
        "\n",
        "pipe3 = beam.Pipeline()\n",
        "\n",
        "input_collection = ( \n",
        "                      pipe3 \n",
        "                      | \"Read from text file\" >> beam.io.ReadFromText(colab_input_file)\n",
        "                      | \"Split rows\" >> beam.Map(SplitRow)\n",
        "                   )\n",
        "\n",
        "monitor_customer_sales_count = (\n",
        "                      input_collection\n",
        "                      | 'Get all cusotmer who shopped Monitors' >> beam.Filter(lambda record: record[2] == 'Monitor')\n",
        "                      | 'Pair each Monitor customer with 1' >> beam.Map(lambda record: (\"Monitor, \" +record[1], 1))\n",
        "                      | 'composite Monitor customers' >> CustomTransform()\n",
        "                      | 'Write results for Monitor' >> beam.io.WriteToText('monitor_output.txt')\n",
        "                 )\n",
        "\n",
        "keyboard_customer_sales_count = (\n",
        "                input_collection\n",
        "                | 'Get all customers who shopped keyboards' >> beam.Filter(lambda record: record[2] == 'Keyboard')\n",
        "                | 'Pair each Keyboard customer with 1' >> beam.Map(lambda record: (\"Keyboard, \" +record[1], 1))\n",
        "                | 'composite Keyboard customers' >> CustomTransform()\n",
        "                | 'Write results for Keyboard' >> beam.io.WriteToText('keyboard_output.txt')\n",
        "           )\n",
        "\n",
        "headphones_customer_sales_count = (\n",
        "                      input_collection\n",
        "                      | 'Get all cusotmer who shopped Headphones' >> beam.Filter(lambda record: record[2] == 'Headphones')\n",
        "                      | 'Pair each headphone customer with 1' >> beam.Map(lambda record: (\"Headphones, \" +record[1], 1))\n",
        "                      | 'composite Headphones customers' >> CustomTransform()\n",
        "                      | 'Write results for Headphones' >> beam.io.WriteToText('headphones_output.txt')\n",
        "                 )\n",
        "\n",
        "mouse_customer_sales_count = (\n",
        "                input_collection\n",
        "                | 'Get all customers who shopped mouse' >> beam.Filter(lambda record: record[2] == 'Mouse')\n",
        "                | 'Pair each mouse customer with 1' >> beam.Map(lambda record: (\"Mouse, \" +record[1], 1))\n",
        "                | 'composite Keyboard mouse' >> CustomTransform()\n",
        "                | 'Write results for mouse' >> beam.io.WriteToText('mouse_output.txt')\n",
        "                )\n",
        "\n",
        "chair_customer_sales_count = (\n",
        "                      input_collection\n",
        "                      | 'Get all cusotmer who shopped chairs' >> beam.Filter(lambda record: record[2] == 'Chair')\n",
        "                      | 'Pair each chair customer with 1' >> beam.Map(lambda record: (\"Chair, \" +record[1], 1))\n",
        "                      | 'composite chair customers' >> CustomTransform()\n",
        "                      | 'Write results for chair' >> beam.io.WriteToText('chair_output.txt')\n",
        "                 )\n",
        "\n",
        "pipe3.run()"
      ],
      "metadata": {
        "colab": {
          "base_uri": "https://localhost:8080/"
        },
        "id": "yPK5t7hmX5NA",
        "outputId": "3b9618ed-c441-4d1a-aecc-63558737773d"
      },
      "execution_count": null,
      "outputs": [
        {
          "output_type": "execute_result",
          "data": {
            "text/plain": [
              "<apache_beam.runners.portability.fn_api_runner.fn_runner.RunnerResult at 0x7f91bf938390>"
            ]
          },
          "metadata": {},
          "execution_count": 19
        }
      ]
    },
    {
      "cell_type": "markdown",
      "source": [
        "Using Composite transform to group, filter and identify returning customers of every item in the input file such as chair, monitor, mouse, headphones and keyboard - and write the details to an output file."
      ],
      "metadata": {
        "id": "c2rfHA9gYrww"
      }
    },
    {
      "cell_type": "code",
      "source": [
        "import apache_beam as beam\n",
        "\n",
        "class CustomTransform(beam.PTransform):\n",
        "  \n",
        "  def expand(self, input_coll):\n",
        "    \n",
        "    a = ( \n",
        "        input_coll\n",
        "                       | 'Group and sum' >> beam.CombinePerKey(sum)\n",
        "                       | 'count filter accounts' >> beam.Filter(filter_on_count)\n",
        "                       | 'Returning Customers' >> beam.Map(format_output)\n",
        "              \n",
        "    )\n",
        "    return a\n",
        "\n",
        "def SplitRow(element):\n",
        "    return element.split(',')\n",
        "\n",
        "def filter_on_count(element):\n",
        "  name, count = element\n",
        "  if count > 1:\n",
        "    return element\n",
        "  \n",
        "def format_output(element):\n",
        "  name, count = element\n",
        "  return ', '.join((name,str(count), 'Returning Customer'))\n",
        "\n",
        "pipe4 = beam.Pipeline()\n",
        "\n",
        "input_collection = ( \n",
        "                      pipe4\n",
        "                      | \"Read from text file\" >> beam.io.ReadFromText(colab_input_file)\n",
        "                      | \"Split rows\" >> beam.Map(SplitRow)\n",
        "                   )\n",
        "\n",
        "monitor_customer_sales_count = (\n",
        "                      input_collection\n",
        "                      | 'Get all cusotmer who shopped Monitors' >> beam.Filter(lambda record: record[2] == 'Monitor')\n",
        "                      | 'Pair each Monitor customer with 1' >> beam.Map(lambda record: (\"Monitor, \" +record[1], 1))\n",
        "                      | 'composite Monitor customers' >> CustomTransform()\n",
        "                      | 'Write results for Monitor' >> beam.io.WriteToText('regular_cust_monitor_output.txt')\n",
        "                 )\n",
        "\n",
        "keyboard_customer_sales_count = (\n",
        "                input_collection\n",
        "                | 'Get all customers who shopped keyboards' >> beam.Filter(lambda record: record[2] == 'Keyboard')\n",
        "                | 'Pair each Keyboard customer with 1' >> beam.Map(lambda record: (\"Keyboard, \" +record[1], 1))\n",
        "                | 'composite Keyboard customers' >> CustomTransform()\n",
        "                | 'Write results for Keyboard' >> beam.io.WriteToText('regular_cust_keyboard_output.txt')\n",
        "           )\n",
        "\n",
        "headphones_customer_sales_count = (\n",
        "                      input_collection\n",
        "                      | 'Get all cusotmer who shopped Headphones' >> beam.Filter(lambda record: record[2] == 'Headphones')\n",
        "                      | 'Pair each headphone customer with 1' >> beam.Map(lambda record: (\"Headphones, \" +record[1], 1))\n",
        "                      | 'composite Headphones customers' >> CustomTransform()\n",
        "                      | 'Write results for Headphones' >> beam.io.WriteToText('regular_cust_headphones_output.txt')\n",
        "                 )\n",
        "\n",
        "mouse_customer_sales_count = (\n",
        "                input_collection\n",
        "                | 'Get all customers who shopped mouse' >> beam.Filter(lambda record: record[2] == 'Mouse')\n",
        "                | 'Pair each mouse customer with 1' >> beam.Map(lambda record: (\"Mouse, \" +record[1], 1))\n",
        "                | 'composite Keyboard mouse' >> CustomTransform()\n",
        "                | 'Write results for mouse' >> beam.io.WriteToText('regular_cust_mouse_output.txt')\n",
        "                )\n",
        "\n",
        "chair_customer_sales_count = (\n",
        "                      input_collection\n",
        "                      | 'Get all cusotmer who shopped chairs' >> beam.Filter(lambda record: record[2] == 'Chair')\n",
        "                      | 'Pair each chair customer with 1' >> beam.Map(lambda record: (\"Chair, \" +record[1], 1))\n",
        "                      | 'composite chair customers' >> CustomTransform()\n",
        "                      | 'Write results for chair' >> beam.io.WriteToText('regular_cust_chair_output.txt')\n",
        "                 )\n",
        "\n",
        "pipe4.run()"
      ],
      "metadata": {
        "colab": {
          "base_uri": "https://localhost:8080/"
        },
        "id": "8nPVAWNOXDt-",
        "outputId": "c1e20082-cc68-40b9-f405-34787903fee8"
      },
      "execution_count": null,
      "outputs": [
        {
          "output_type": "execute_result",
          "data": {
            "text/plain": [
              "<apache_beam.runners.portability.fn_api_runner.fn_runner.RunnerResult at 0x7f91bd27b490>"
            ]
          },
          "metadata": {},
          "execution_count": 20
        }
      ]
    },
    {
      "cell_type": "code",
      "source": [],
      "metadata": {
        "id": "XsgAnAvxb2yD"
      },
      "execution_count": null,
      "outputs": []
    }
  ]
}