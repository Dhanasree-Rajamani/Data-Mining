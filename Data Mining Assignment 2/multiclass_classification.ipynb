{
  "nbformat": 4,
  "nbformat_minor": 0,
  "metadata": {
    "colab": {
      "provenance": [],
      "collapsed_sections": [],
      "mount_file_id": "1fCIDO5gwkxhrjVU82AVOEgXx-qGAESOn",
      "authorship_tag": "ABX9TyNutXWd6ey1tXsKi0PZFQdQ",
      "include_colab_link": true
    },
    "kernelspec": {
      "name": "python3",
      "display_name": "Python 3"
    },
    "language_info": {
      "name": "python"
    }
  },
  "cells": [
    {
      "cell_type": "markdown",
      "metadata": {
        "id": "view-in-github",
        "colab_type": "text"
      },
      "source": [
        "<a href=\"https://colab.research.google.com/github/Dhanasree-Rajamani/Data-Mining/blob/main/Data%20Mining%20Assignment%202/multiclass_classification.ipynb\" target=\"_parent\"><img src=\"https://colab.research.google.com/assets/colab-badge.svg\" alt=\"Open In Colab\"/></a>"
      ]
    },
    {
      "cell_type": "code",
      "execution_count": null,
      "metadata": {
        "id": "gUPJFPYQ2Gd1"
      },
      "outputs": [],
      "source": [
        "!pip install pycaret"
      ]
    },
    {
      "cell_type": "code",
      "source": [
        "from pycaret.utils import enable_colab\n",
        "enable_colab()"
      ],
      "metadata": {
        "id": "OEvbKhe_442T"
      },
      "execution_count": null,
      "outputs": []
    },
    {
      "cell_type": "markdown",
      "source": [
        "# New Section"
      ],
      "metadata": {
        "id": "wefFz1RaZNMd"
      }
    },
    {
      "cell_type": "code",
      "source": [
        "from pycaret.datasets import get_data\n",
        "import pandas as pd"
      ],
      "metadata": {
        "id": "7oFs12NEdeQr"
      },
      "execution_count": null,
      "outputs": []
    },
    {
      "cell_type": "code",
      "source": [
        "file = 'https://raw.githubusercontent.com/Dhanasree-Rajamani/Data-Mining/main/Data%20Mining%20Assignment%202/DataMining_Datasets/bodyPerformance.csv'\n",
        "#file = '/content/drive/MyDrive/DataMining_Datasets/bodyPerformance.csv'\n",
        "data = pd.read_csv(file)\n",
        "data.head()"
      ],
      "metadata": {
        "id": "fMOKC-Vhdgl-"
      },
      "execution_count": null,
      "outputs": []
    },
    {
      "cell_type": "code",
      "source": [
        "!pip install Jinja2\n",
        "!pip install markupsafe==2.0.1"
      ],
      "metadata": {
        "id": "WzYMrcJ2ssJ8"
      },
      "execution_count": null,
      "outputs": []
    },
    {
      "cell_type": "code",
      "source": [
        "import jinja2"
      ],
      "metadata": {
        "id": "oh--HvtNtgnP"
      },
      "execution_count": null,
      "outputs": []
    },
    {
      "cell_type": "code",
      "source": [
        "data.shape"
      ],
      "metadata": {
        "id": "GBs4w4BvwQ1-"
      },
      "execution_count": null,
      "outputs": []
    },
    {
      "cell_type": "code",
      "source": [
        "data_set = data.sample(frac = 0.90, random_state=786)\n",
        "data_unseen = data.drop(data_set.index)\n",
        "\n",
        "#data.reset_index(inplace=True, drop=True)\n",
        "#data_unseen.reset_index(inplace = True, drop = True)\n",
        "\n",
        "print(\"data for modelling \"+str(data_set.shape))\n",
        "print(\"unseen data for predictions \"+str(data_unseen.shape))"
      ],
      "metadata": {
        "id": "zm4gwYiHsDBN"
      },
      "execution_count": null,
      "outputs": []
    },
    {
      "cell_type": "code",
      "source": [
        "from pycaret.classification import *"
      ],
      "metadata": {
        "id": "60FjPu6NaY7o"
      },
      "execution_count": null,
      "outputs": []
    },
    {
      "cell_type": "code",
      "source": [
        "multiclass = setup(data = data_set, target = 'class', session_id = 1)"
      ],
      "metadata": {
        "id": "Ps4TNthcrpB7"
      },
      "execution_count": null,
      "outputs": []
    },
    {
      "cell_type": "code",
      "source": [
        "#compare_models()\n",
        "#commenting since it takes a lot of time "
      ],
      "metadata": {
        "id": "5LuKaZXntreC"
      },
      "execution_count": null,
      "outputs": []
    },
    {
      "cell_type": "code",
      "source": [
        "lightgbm_ = create_model('lightgbm')"
      ],
      "metadata": {
        "id": "c8tkbYIIeo4v"
      },
      "execution_count": null,
      "outputs": []
    },
    {
      "cell_type": "code",
      "source": [
        "dt = create_model('dt')"
      ],
      "metadata": {
        "id": "maXHOjVSvZy5"
      },
      "execution_count": null,
      "outputs": []
    },
    {
      "cell_type": "code",
      "source": [
        "!pip install gradio"
      ],
      "metadata": {
        "id": "iUed7ALwvx07"
      },
      "execution_count": null,
      "outputs": []
    },
    {
      "cell_type": "code",
      "source": [
        "create_app(lightgbm_)"
      ],
      "metadata": {
        "id": "sWZsZzu0skcz"
      },
      "execution_count": null,
      "outputs": []
    },
    {
      "cell_type": "code",
      "source": [
        "tuned_lightgbm = tune_model(lightgbm_)"
      ],
      "metadata": {
        "id": "LJpCkIDVwD3w"
      },
      "execution_count": null,
      "outputs": []
    },
    {
      "cell_type": "code",
      "source": [
        "print(tuned_lightgbm)"
      ],
      "metadata": {
        "id": "346L9RdlwL7w"
      },
      "execution_count": null,
      "outputs": []
    },
    {
      "cell_type": "code",
      "source": [
        "plot_model(tuned_lightgbm, plot = 'auc')"
      ],
      "metadata": {
        "id": "ZTz-dg-r8_Hw"
      },
      "execution_count": null,
      "outputs": []
    },
    {
      "cell_type": "code",
      "source": [
        "plot_model(tuned_lightgbm, plot = 'confusion_matrix')"
      ],
      "metadata": {
        "id": "4a_hj-NX5pA9"
      },
      "execution_count": null,
      "outputs": []
    },
    {
      "cell_type": "code",
      "source": [
        "plot_model(tuned_lightgbm, plot='feature')"
      ],
      "metadata": {
        "id": "fBs60UwNAEcz"
      },
      "execution_count": null,
      "outputs": []
    },
    {
      "cell_type": "code",
      "source": [
        "plot_model(tuned_lightgbm, plot='error')"
      ],
      "metadata": {
        "id": "QuxncmNB56vk"
      },
      "execution_count": null,
      "outputs": []
    },
    {
      "cell_type": "code",
      "source": [
        "final_model = finalize_model(tuned_lightgbm)"
      ],
      "metadata": {
        "id": "VPwm9P1kKe04"
      },
      "execution_count": null,
      "outputs": []
    },
    {
      "cell_type": "code",
      "source": [
        "test_prediction = predict_model(final_model, data = data_unseen)\n",
        "test_prediction.head()"
      ],
      "metadata": {
        "id": "hbJ3dH3r9wuR"
      },
      "execution_count": null,
      "outputs": []
    },
    {
      "cell_type": "code",
      "source": [
        "save_model(final_model,'Final_Multiclass_model')"
      ],
      "metadata": {
        "id": "QfyBYsQR-EZI"
      },
      "execution_count": null,
      "outputs": []
    },
    {
      "cell_type": "code",
      "source": [
        "saved_model = load_model('Final_Multiclass_model')"
      ],
      "metadata": {
        "id": "mto_Ze2cBOsq"
      },
      "execution_count": null,
      "outputs": []
    },
    {
      "cell_type": "code",
      "source": [
        "new_prediction = predict_model(saved_model, data = data_unseen)\n",
        "new_prediction.head()"
      ],
      "metadata": {
        "id": "qCP30thcBa3E"
      },
      "execution_count": null,
      "outputs": []
    },
    {
      "cell_type": "code",
      "source": [
        "from pycaret.utils import check_metric\n",
        "check_metric(new_prediction['class'], new_prediction['Label'], metric = 'Accuracy')\n",
        "#can evaluate a model"
      ],
      "metadata": {
        "id": "30naeLcJBuGE"
      },
      "execution_count": null,
      "outputs": []
    }
  ]
}