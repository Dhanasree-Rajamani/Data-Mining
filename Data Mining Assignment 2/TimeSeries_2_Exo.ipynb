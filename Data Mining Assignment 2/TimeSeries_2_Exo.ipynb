{
  "nbformat": 4,
  "nbformat_minor": 0,
  "metadata": {
    "colab": {
      "provenance": [],
      "mount_file_id": "1JtLxrvc1JmMtAS_-lf1zzxEiFXBDIAXD",
      "authorship_tag": "ABX9TyNhwSUOVPLWRqmgLrVU08QT",
      "include_colab_link": true
    },
    "kernelspec": {
      "name": "python3",
      "display_name": "Python 3"
    },
    "language_info": {
      "name": "python"
    }
  },
  "cells": [
    {
      "cell_type": "markdown",
      "metadata": {
        "id": "view-in-github",
        "colab_type": "text"
      },
      "source": [
        "<a href=\"https://colab.research.google.com/github/Dhanasree-Rajamani/Data-Mining/blob/main/TimeSeries_2_Exo.ipynb\" target=\"_parent\"><img src=\"https://colab.research.google.com/assets/colab-badge.svg\" alt=\"Open In Colab\"/></a>"
      ]
    },
    {
      "cell_type": "code",
      "execution_count": null,
      "metadata": {
        "id": "ZxoRH57iVzF7"
      },
      "outputs": [],
      "source": [
        "!pip install pycaret \n",
        "!pip install pycaret-ts-alpha"
      ]
    },
    {
      "cell_type": "code",
      "source": [
        "from pycaret.utils import enable_colab\n",
        "enable_colab()"
      ],
      "metadata": {
        "id": "Jb5rZ8TxZ3CM"
      },
      "execution_count": null,
      "outputs": []
    },
    {
      "cell_type": "code",
      "source": [
        "import time\n",
        "import numpy as np\n",
        "import pandas as pd\n",
        "\n",
        "from pycaret.datasets import get_data\n",
        "from pycaret.time_series import *\n",
        "from pycaret.time_series import TSForecastingExperiment"
      ],
      "metadata": {
        "id": "h8lCFtu3Z4_U"
      },
      "execution_count": null,
      "outputs": []
    },
    {
      "cell_type": "code",
      "source": [
        "file = '/content/drive/MyDrive/DataMining_Datasets/DailyDelhiClimateTrain.csv'\n",
        "data = pd.read_csv(file)\n",
        "data.head()"
      ],
      "metadata": {
        "id": "uR7nERMMaB45"
      },
      "execution_count": null,
      "outputs": []
    },
    {
      "cell_type": "code",
      "source": [
        "!pip install Jinja2\n",
        "!pip install markupsafe==2.0.1"
      ],
      "metadata": {
        "id": "ZgXII-WAaGNd"
      },
      "execution_count": null,
      "outputs": []
    },
    {
      "cell_type": "code",
      "source": [
        "fig_kwargs={'renderer': 'notebook'}"
      ],
      "metadata": {
        "id": "VAyMLgxoAvoQ"
      },
      "execution_count": null,
      "outputs": []
    },
    {
      "cell_type": "code",
      "source": [
        "import jinja2"
      ],
      "metadata": {
        "id": "THE_NkpnaP1M"
      },
      "execution_count": null,
      "outputs": []
    },
    {
      "cell_type": "code",
      "source": [
        "#data_set = get_data('pycaret_downloads')\n",
        "data_set = data\n",
        "#data_set = get_data(\"airquality\")\n",
        "data_set[\"index\"] = pd.to_datetime(data_set[\"date\"])\n",
        "# + \" \" + data_set[\"Time\"])\n",
        "data_set.drop(columns=[\"date\"], inplace=True)\n",
        "target = \"meantemp\""
      ],
      "metadata": {
        "id": "2g6ZexI7toLx"
      },
      "execution_count": null,
      "outputs": []
    },
    {
      "cell_type": "code",
      "source": [
        "#data_set[data_set[target] == -200].head()"
      ],
      "metadata": {
        "id": "BqlAOTwQmvbq"
      },
      "execution_count": null,
      "outputs": []
    },
    {
      "cell_type": "code",
      "source": [
        "#data_set.replace(-200, np.nan, inplace=True)\n",
        "#data_set[data_set[target] == -200]"
      ],
      "metadata": {
        "id": "KAY5RUgym3uS"
      },
      "execution_count": null,
      "outputs": []
    },
    {
      "cell_type": "code",
      "source": [
        "fh = 12 \n",
        "fold = 3"
      ],
      "metadata": {
        "id": "J-y-siqJJxvR"
      },
      "execution_count": null,
      "outputs": []
    },
    {
      "cell_type": "code",
      "source": [
        "#data_set['Date'] = pd.to_datetime(data_set['Date'])\n",
        "#data_set.set_index('Date', drop = True, inplace = True)"
      ],
      "metadata": {
        "id": "VMqg8S5S00ub"
      },
      "execution_count": null,
      "outputs": []
    },
    {
      "cell_type": "code",
      "source": [
        "#data_set.plot()"
      ],
      "metadata": {
        "id": "kn6RGqak4Se1"
      },
      "execution_count": null,
      "outputs": []
    },
    {
      "cell_type": "code",
      "source": [
        "data_set.head()"
      ],
      "metadata": {
        "id": "uhUUrD7x04E0"
      },
      "execution_count": null,
      "outputs": []
    },
    {
      "cell_type": "code",
      "source": [
        "data_set.tail()"
      ],
      "metadata": {
        "id": "lUd3KwPJDuFR"
      },
      "execution_count": null,
      "outputs": []
    },
    {
      "cell_type": "code",
      "source": [
        "from pycaret.utils import version\n",
        "version()"
      ],
      "metadata": {
        "id": "ICT04izC4fDv"
      },
      "execution_count": null,
      "outputs": []
    },
    {
      "cell_type": "code",
      "source": [
        "data.shape"
      ],
      "metadata": {
        "id": "x0AG_7uhPGNU"
      },
      "execution_count": null,
      "outputs": []
    },
    {
      "cell_type": "code",
      "source": [
        "#s = setup(data_set, fold =3, fh=12, session_id =7, fig_kwargs={'renderer': 'notebook'})\n",
        "ts_obj = TSForecastingExperiment()\n",
        "print(ts_obj)\n",
        "ts_obj.setup(data=data_set, target = target, index = \"index\", fh=48, numeric_imputation_target=\"ffill\", \n",
        "             numeric_imputation_exogenous=\"ffill\", fig_kwargs={\"renderer\": \"notebook\", \"width\": None, \"height\": 600}, session_id = 8, use_gpu=True)"
      ],
      "metadata": {
        "id": "yREu7RC5vpid"
      },
      "execution_count": null,
      "outputs": []
    },
    {
      "cell_type": "code",
      "source": [
        "ts_obj.plot_model(fig_kwargs={\"renderer\": \"png\", \"width\": 1000, \"height\": 1200})"
      ],
      "metadata": {
        "id": "k9oXWzRUtxTb"
      },
      "execution_count": null,
      "outputs": []
    },
    {
      "cell_type": "code",
      "source": [
        "ts_obj.plot_model(\n",
        "    plot=\"ts\",\n",
        "    fig_kwargs={\n",
        "        'height': 1200,\n",
        "        # With resampler_kwargs, the constructor of the plotly-resampler object\n",
        "        # can be configured.\n",
        "        \"resampler_kwargs\": {\n",
        "            \"default_n_shown_samples\": 1500,\n",
        "            # show_dash kwargs withholds the kwargs of the show_dash (render) method.\n",
        "            \"show_dash\": {\"mode\": \"inline\", \"port\": 8055},\n",
        "        },\n",
        "    }\n",
        ")"
      ],
      "metadata": {
        "id": "bpqHGQHwmWlh"
      },
      "execution_count": null,
      "outputs": []
    },
    {
      "cell_type": "code",
      "source": [
        "#exclude = [\"NMHC(GT)\"]"
      ],
      "metadata": {
        "id": "O5oolY-smy-o"
      },
      "execution_count": null,
      "outputs": []
    },
    {
      "cell_type": "code",
      "source": [
        "# Plots original data with first difference (order d = 1) by default\n",
        "ts_obj.plot_model(\n",
        "    plot=\"diff\",\n",
        "    fig_kwargs={\n",
        "        \"height\": 900,\n",
        "        # No need to pass show_dash kwargs when using a plotly-widget\n",
        "        \"resampler_kwargs\": {\"default_n_shown_samples\": 1500 }\n",
        "    },\n",
        "    data_kwargs={\"acf\": True, \"pacf\": True, \"periodogram\": True},\n",
        ")"
      ],
      "metadata": {
        "id": "phgcEOELm2cG"
      },
      "execution_count": null,
      "outputs": []
    },
    {
      "cell_type": "code",
      "source": [
        "ts_obj.plot_model(\n",
        "    plot=\"diff\",\n",
        "    fig_kwargs={\n",
        "        \"height\": 900,\n",
        "        \"resampler_kwargs\": {\n",
        "            \"default_n_shown_samples\": 1500,\n",
        "            \"show_dash\": {\"mode\": \"inline\", \"port\": 8056},\n",
        "        },\n",
        "    },\n",
        "    data_kwargs={\n",
        "        \"lags_list\": [1, [1, 24]],\n",
        "        \"acf\": True,\n",
        "        \"pacf\": True,\n",
        "        \"periodogram\": True,\n",
        "    }\n",
        ")"
      ],
      "metadata": {
        "id": "L9bAdqq4nAQg"
      },
      "execution_count": null,
      "outputs": []
    },
    {
      "cell_type": "code",
      "source": [
        "#ts_obj.plot_model(plot=\"ccf\", fig_kwargs={\"height\": 1000, \"width\": 1500})\n",
        "ts_obj.plot_model(plot=\"ccf\", fig_kwargs={\"height\": 600, \"width\": 1000})"
      ],
      "metadata": {
        "id": "y5X2PdFBBcg9"
      },
      "execution_count": null,
      "outputs": []
    },
    {
      "cell_type": "code",
      "source": [
        "model = ts_obj.create_model(\"lightgbm_cds_dt\")"
      ],
      "metadata": {
        "id": "mFvHOLUFbgcz"
      },
      "execution_count": null,
      "outputs": []
    },
    {
      "cell_type": "code",
      "source": [
        "ts_obj.plot_model(model)"
      ],
      "metadata": {
        "id": "oP9rr1y5Wfow"
      },
      "execution_count": null,
      "outputs": []
    },
    {
      "cell_type": "code",
      "source": [
        "ts_obj.plot_model(model, plot=\"train_test_split\")"
      ],
      "metadata": {
        "id": "bBT9q6sTWaAd"
      },
      "execution_count": null,
      "outputs": []
    },
    {
      "cell_type": "code",
      "source": [
        "file = '/content/drive/MyDrive/DataMining_Datasets/DailyDelhiClimateTrain.csv'\n",
        "data = pd.read_csv(file)\n",
        "data.head()\n",
        "\n",
        "data_set = data\n",
        "#data_set = get_data(\"airquality\")\n",
        "data_set[\"index\"] = pd.to_datetime(data_set[\"date\"])\n",
        "# + \" \" + data_set[\"Time\"])\n",
        "data_set.drop(columns=[\"date\"], inplace=True)\n",
        "target = \"meantemp\"\n",
        "\n",
        "exclude = ['wind_speed']\n",
        "data.drop(columns=exclude, inplace=True)\n",
        "data.head()"
      ],
      "metadata": {
        "id": "LD6lBwHojZ_v"
      },
      "execution_count": null,
      "outputs": []
    },
    {
      "cell_type": "code",
      "source": [
        "global_fig_settings = {\"renderer\": \"notebook\", \"width\": 1000, \"height\": 600}"
      ],
      "metadata": {
        "id": "SnngwJI9on6r"
      },
      "execution_count": null,
      "outputs": []
    },
    {
      "cell_type": "code",
      "source": [
        "data_uni = data.copy()\n",
        "data_uni.set_index(\"index\", inplace=True)\n",
        "data_uni = data_uni[target]\n",
        "\n",
        "exp_uni = TSForecastingExperiment()\n",
        "exp_uni.setup(\n",
        "    data=data_uni, fh=48,\n",
        "    numeric_imputation_target=\"ffill\", numeric_imputation_exogenous=\"ffill\",\n",
        "    fig_kwargs=global_fig_settings, session_id=42\n",
        ")"
      ],
      "metadata": {
        "id": "mzXYfDgvjlyA"
      },
      "execution_count": null,
      "outputs": []
    },
    {
      "cell_type": "code",
      "source": [
        "model = exp_uni.create_model(\"arima\", order=(0,1,0), seasonal_order=(0,1,0,24))"
      ],
      "metadata": {
        "id": "-6dtVvFm6MmP"
      },
      "execution_count": null,
      "outputs": []
    },
    {
      "cell_type": "code",
      "source": [
        "exp_uni.plot_model(model, plot=\"train_test_split\")"
      ],
      "metadata": {
        "id": "fEwBsCYQVMtW"
      },
      "execution_count": null,
      "outputs": []
    },
    {
      "cell_type": "code",
      "source": [
        "exp_uni.plot_model(model, plot=\"diagnostics\")"
      ],
      "metadata": {
        "id": "D7J_e79aVdi-"
      },
      "execution_count": null,
      "outputs": []
    },
    {
      "cell_type": "code",
      "source": [
        "exp_uni.plot_model(model)"
      ],
      "metadata": {
        "id": "siMO9Hk6Dj5B"
      },
      "execution_count": null,
      "outputs": []
    },
    {
      "cell_type": "code",
      "source": [],
      "metadata": {
        "id": "RS5GwVQ3UB-A"
      },
      "execution_count": null,
      "outputs": []
    }
  ]
}
