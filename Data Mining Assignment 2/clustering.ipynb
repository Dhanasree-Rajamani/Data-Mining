{
  "cells": [
    {
      "cell_type": "markdown",
      "metadata": {
        "id": "view-in-github",
        "colab_type": "text"
      },
      "source": [
        "<a href=\"https://colab.research.google.com/github/Dhanasree-Rajamani/Data-Mining/blob/main/clustering.ipynb\" target=\"_parent\"><img src=\"https://colab.research.google.com/assets/colab-badge.svg\" alt=\"Open In Colab\"/></a>"
      ]
    },
    {
      "cell_type": "code",
      "execution_count": null,
      "metadata": {
        "id": "PqtQ000l4YJ4"
      },
      "outputs": [],
      "source": [
        "!pip install pycaret"
      ]
    },
    {
      "cell_type": "code",
      "execution_count": null,
      "metadata": {
        "id": "Uh7Qixdi4nKy"
      },
      "outputs": [],
      "source": [
        "from pycaret.utils import enable_colab\n",
        "enable_colab()"
      ]
    },
    {
      "cell_type": "code",
      "execution_count": null,
      "metadata": {
        "id": "z6ch6Gg3_dYL"
      },
      "outputs": [],
      "source": [
        "from pycaret.utils import version\n",
        "version()"
      ]
    },
    {
      "cell_type": "code",
      "execution_count": null,
      "metadata": {
        "id": "xzQnf8qU4rWo"
      },
      "outputs": [],
      "source": [
        "import pandas as pd"
      ]
    },
    {
      "cell_type": "code",
      "execution_count": null,
      "metadata": {
        "id": "bs3oC4ciyhBX"
      },
      "outputs": [],
      "source": [
        "test_data = '/content/drive/MyDrive/DataMining_Datasets/test_airline.csv'\n",
        "cols = [0,1]\n",
        "data_unseen = pd.read_csv(test_data)\n",
        "data_unseen.drop(data_unseen.columns[cols],axis=1,inplace=True)"
      ]
    },
    {
      "cell_type": "code",
      "execution_count": null,
      "metadata": {
        "id": "JcS-NMWZ5Cnu"
      },
      "outputs": [],
      "source": [
        "data_unseen.head()"
      ]
    },
    {
      "cell_type": "code",
      "execution_count": null,
      "metadata": {
        "id": "7dLDoxGd4sQv"
      },
      "outputs": [],
      "source": [
        "file = '/content/drive/MyDrive/DataMining_Datasets/train_airline.csv'\n",
        "data = pd.read_csv(file)\n",
        "# displaying the contents of the XLSX file\n",
        "cols = [0,1]\n",
        "data.drop(data.columns[cols],axis=1,inplace=True)\n",
        "data.head()"
      ]
    },
    {
      "cell_type": "code",
      "execution_count": null,
      "metadata": {
        "id": "OsPuXFZn5rMD"
      },
      "outputs": [],
      "source": [
        "!pip install Jinja2\n",
        "!pip install markupsafe==2.0.1"
      ]
    },
    {
      "cell_type": "code",
      "execution_count": null,
      "metadata": {
        "id": "n-RGomai5tXj"
      },
      "outputs": [],
      "source": [
        "import jinja2"
      ]
    },
    {
      "cell_type": "code",
      "execution_count": null,
      "metadata": {
        "id": "ZJ7nbNV35vLz"
      },
      "outputs": [],
      "source": [
        "data.shape\n",
        "data_set = data"
      ]
    },
    {
      "cell_type": "code",
      "execution_count": null,
      "metadata": {
        "id": "rKhx0fzq5y33"
      },
      "outputs": [],
      "source": [
        "#data_set = data.sample(frac = 0.90, random_state=786)\n",
        "#data_unseen = data.drop(data_set.index)\n",
        "#data.reset_index(inplace=True, drop=True)\n",
        "#data_unseen.reset_index(inplace = True, drop = True)\n",
        "print(\"data for modelling \"+str(data_set.shape))\n",
        "#print(\"unseen data for predictions \"+str(data_unseen.shape))"
      ]
    },
    {
      "cell_type": "code",
      "execution_count": null,
      "metadata": {
        "id": "LBCFGEhm58LF"
      },
      "outputs": [],
      "source": [
        "from pycaret.clustering import *\n",
        "cluster1 = setup(data = data_set, normalize = True, session_id = 4, use_gpu = True)\n",
        "#ignore_features=['id'], "
      ]
    },
    {
      "cell_type": "code",
      "execution_count": null,
      "metadata": {
        "id": "DKT8-kC66Jrm"
      },
      "outputs": [],
      "source": [
        "models()"
      ]
    },
    {
      "cell_type": "code",
      "execution_count": null,
      "metadata": {
        "colab": {
          "background_save": true
        },
        "id": "hcRxvHZG60Au"
      },
      "outputs": [],
      "source": [
        "k_means = create_model('kmeans')"
      ]
    },
    {
      "cell_type": "code",
      "execution_count": null,
      "metadata": {
        "colab": {
          "background_save": true
        },
        "id": "fw9rKsjS8sUt"
      },
      "outputs": [],
      "source": [
        "print(k_means)"
      ]
    },
    {
      "cell_type": "code",
      "execution_count": null,
      "metadata": {
        "id": "7BtR4bY78wWM"
      },
      "outputs": [],
      "source": [
        "#k_modes = create_model('kmodes', num_clusters=6)"
      ]
    },
    {
      "cell_type": "code",
      "execution_count": null,
      "metadata": {
        "id": "VccfJCrFDVEZ"
      },
      "outputs": [],
      "source": [
        "#print(k_modes)"
      ]
    },
    {
      "cell_type": "code",
      "execution_count": null,
      "metadata": {
        "colab": {
          "background_save": true
        },
        "id": "w3-K_lmADeNS"
      },
      "outputs": [],
      "source": [
        "k_mean_results = assign_model(k_means)\n",
        "k_mean_results.head()"
      ]
    },
    {
      "cell_type": "code",
      "execution_count": null,
      "metadata": {
        "colab": {
          "background_save": true
        },
        "id": "GgedNuHW66C3"
      },
      "outputs": [],
      "source": [
        "from pycaret.utils import version\n",
        "version()"
      ]
    },
    {
      "cell_type": "code",
      "execution_count": null,
      "metadata": {
        "colab": {
          "background_save": true
        },
        "id": "HT3jpwelDxnP"
      },
      "outputs": [],
      "source": [
        "plot_model(k_means)"
      ]
    },
    {
      "cell_type": "code",
      "execution_count": null,
      "metadata": {
        "colab": {
          "background_save": true
        },
        "id": "GfLKTwozsr5h"
      },
      "outputs": [],
      "source": [
        "plot_model(k_means, plot = 'elbow')\n",
        "#optimal number of clusters"
      ]
    },
    {
      "cell_type": "code",
      "execution_count": null,
      "metadata": {
        "colab": {
          "background_save": true
        },
        "id": "yC2Arh5Is3g-"
      },
      "outputs": [],
      "source": [
        "plot_model(k_means, plot= 'silhouette')"
      ]
    },
    {
      "cell_type": "code",
      "execution_count": null,
      "metadata": {
        "colab": {
          "background_save": true
        },
        "id": "aX0nDRQl81h3"
      },
      "outputs": [],
      "source": [
        "plot_model(k_means, plot = 'distribution')"
      ]
    },
    {
      "cell_type": "code",
      "execution_count": null,
      "metadata": {
        "colab": {
          "background_save": true
        },
        "id": "jGEdMcBL847k"
      },
      "outputs": [],
      "source": [
        "plot_model(k_means, feature = 'satisfaction')"
      ]
    },
    {
      "cell_type": "code",
      "execution_count": null,
      "metadata": {
        "colab": {
          "background_save": true
        },
        "id": "hrjoqJLg88FO"
      },
      "outputs": [],
      "source": [
        "test_pred = predict_model(k_means, data = data_unseen)"
      ]
    },
    {
      "cell_type": "code",
      "execution_count": null,
      "metadata": {
        "colab": {
          "background_save": true
        },
        "id": "b6mv1nAP8_Vj"
      },
      "outputs": [],
      "source": [
        "test_pred.head()"
      ]
    },
    {
      "cell_type": "code",
      "execution_count": null,
      "metadata": {
        "colab": {
          "background_save": true
        },
        "id": "vtQsZbKHuAMA"
      },
      "outputs": [],
      "source": [
        "save_model(k_means, 'kmeans model')"
      ]
    },
    {
      "cell_type": "code",
      "execution_count": null,
      "metadata": {
        "colab": {
          "background_save": true
        },
        "id": "D7jyMPEsuEUs"
      },
      "outputs": [],
      "source": [
        "saved_kmeans = load_model('kmeans model')"
      ]
    },
    {
      "cell_type": "code",
      "execution_count": null,
      "metadata": {
        "colab": {
          "background_save": true
        },
        "id": "_WkvpAC-uNpq"
      },
      "outputs": [],
      "source": [
        "new_pred = predict_model(saved_kmeans, data = data_unseen)\n",
        "new_pred.head()"
      ]
    }
  ],
  "metadata": {
    "colab": {
      "provenance": [],
      "mount_file_id": "1YuZDDDSj0X8-d2F8sXavS0HazX1_6F5f",
      "authorship_tag": "ABX9TyNDNjc6w5rTO54Xe4sjVHLk",
      "include_colab_link": true
    },
    "kernelspec": {
      "display_name": "Python 3",
      "name": "python3"
    },
    "language_info": {
      "name": "python"
    }
  },
  "nbformat": 4,
  "nbformat_minor": 0
}
