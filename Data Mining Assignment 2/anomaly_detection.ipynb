{
  "nbformat": 4,
  "nbformat_minor": 0,
  "metadata": {
    "colab": {
      "provenance": [],
      "mount_file_id": "1ZVm1lhZxxgbYiAyTqXRgtaAWSvTv8L-_",
      "authorship_tag": "ABX9TyN0JyrwxOds1J9hKAXVe3CY",
      "include_colab_link": true
    },
    "kernelspec": {
      "name": "python3",
      "display_name": "Python 3"
    },
    "language_info": {
      "name": "python"
    }
  },
  "cells": [
    {
      "cell_type": "markdown",
      "metadata": {
        "id": "view-in-github",
        "colab_type": "text"
      },
      "source": [
        "<a href=\"https://colab.research.google.com/github/Dhanasree-Rajamani/Data-Mining/blob/main/Data%20Mining%20Assignment%202/anomaly_detection.ipynb\" target=\"_parent\"><img src=\"https://colab.research.google.com/assets/colab-badge.svg\" alt=\"Open In Colab\"/></a>"
      ]
    },
    {
      "cell_type": "code",
      "execution_count": null,
      "metadata": {
        "id": "U2uoHr4V0ayu"
      },
      "outputs": [],
      "source": [
        "!pip install pycaret"
      ]
    },
    {
      "cell_type": "code",
      "source": [
        "from pycaret.utils import enable_colab\n",
        "enable_colab()"
      ],
      "metadata": {
        "id": "cuOt6lEC0jQB"
      },
      "execution_count": null,
      "outputs": []
    },
    {
      "cell_type": "code",
      "source": [
        "from pycaret.datasets import get_data\n",
        "#data = get_data('delaware_anomaly')\n",
        "import pandas as pd"
      ],
      "metadata": {
        "id": "GwTmAiF20sbd"
      },
      "execution_count": null,
      "outputs": []
    },
    {
      "cell_type": "code",
      "source": [
        "file = '/content/drive/MyDrive/DataMining_Datasets/AggregatedData.csv'\n",
        "data = pd.read_csv(file)\n",
        "# displaying the contents of the XLSX file\n",
        "#cols = [0]\n",
        "#data.drop(data.columns[cols],axis=1,inplace=True)\n",
        "data.head()"
      ],
      "metadata": {
        "id": "xoC44Tiz0uli"
      },
      "execution_count": null,
      "outputs": []
    },
    {
      "cell_type": "code",
      "source": [
        "data.dtypes"
      ],
      "metadata": {
        "id": "KpG2ftG0PKo3"
      },
      "execution_count": null,
      "outputs": []
    },
    {
      "cell_type": "code",
      "source": [
        "data['Transaction Date'] = pd.to_datetime(data['Transaction Date'])\n",
        "#data.set_index('Transaction Date', drop = True, inplace = True)"
      ],
      "metadata": {
        "id": "KkbYuhKbPTrZ"
      },
      "execution_count": null,
      "outputs": []
    },
    {
      "cell_type": "code",
      "source": [
        "!pip install Jinja2\n",
        "!pip install markupsafe==2.0.1"
      ],
      "metadata": {
        "id": "fOHkjMCt02_A"
      },
      "execution_count": null,
      "outputs": []
    },
    {
      "cell_type": "code",
      "source": [
        "import jinja2"
      ],
      "metadata": {
        "id": "_BrKzyQM05Ac"
      },
      "execution_count": null,
      "outputs": []
    },
    {
      "cell_type": "code",
      "source": [
        "data_set = data.sample(frac = 0.90, random_state=786)\n",
        "data_unseen = data.drop(data_set.index)\n",
        "\n",
        "data_set.reset_index(inplace=True, drop=True)\n",
        "data_unseen.reset_index(inplace = True, drop = True)\n",
        "\n",
        "print(\"data for modelling \"+str(data_set.shape))\n",
        "print(\"unseen data for predictions \"+str(data_unseen.shape))"
      ],
      "metadata": {
        "id": "pFfTVXdS06sQ"
      },
      "execution_count": null,
      "outputs": []
    },
    {
      "cell_type": "code",
      "source": [
        "data_set.head()"
      ],
      "metadata": {
        "id": "-wnugIkw1LDd"
      },
      "execution_count": null,
      "outputs": []
    },
    {
      "cell_type": "code",
      "source": [
        "from pycaret.anomaly import *"
      ],
      "metadata": {
        "id": "galW4HC3gla-"
      },
      "execution_count": null,
      "outputs": []
    },
    {
      "cell_type": "code",
      "source": [
        "anomaly1 = setup(data = data_set, normalize=True, session_id=5)"
      ],
      "metadata": {
        "id": "BcYdRngz_3P4"
      },
      "execution_count": null,
      "outputs": []
    },
    {
      "cell_type": "code",
      "source": [
        "iforest_anomaly_model = create_model(\"iforest\")"
      ],
      "metadata": {
        "id": "sQD_UiahMo3h"
      },
      "execution_count": null,
      "outputs": []
    },
    {
      "cell_type": "code",
      "source": [
        "print(iforest_anomaly_model)"
      ],
      "metadata": {
        "id": "PAl2e2nzMosD"
      },
      "execution_count": null,
      "outputs": []
    },
    {
      "cell_type": "code",
      "source": [
        "models()"
      ],
      "metadata": {
        "id": "RtuGdm-QNIv4"
      },
      "execution_count": null,
      "outputs": []
    },
    {
      "cell_type": "code",
      "source": [
        "iforest_result = assign_model(iforest_anomaly_model)"
      ],
      "metadata": {
        "id": "CbRp7-IvNImx"
      },
      "execution_count": null,
      "outputs": []
    },
    {
      "cell_type": "code",
      "source": [
        "iforest_result.head()"
      ],
      "metadata": {
        "id": "IQJ-Eq90Mofl"
      },
      "execution_count": null,
      "outputs": []
    },
    {
      "cell_type": "code",
      "source": [
        "#plot_model(iforest_anomaly_model)"
      ],
      "metadata": {
        "id": "aPI_OoqTNueB"
      },
      "execution_count": null,
      "outputs": []
    },
    {
      "cell_type": "code",
      "source": [
        "plot_model(iforest_anomaly_model, plot='umap')"
      ],
      "metadata": {
        "id": "lmeuSD_EOMe6"
      },
      "execution_count": null,
      "outputs": []
    },
    {
      "cell_type": "code",
      "source": [
        "test_pred = predict_model(iforest_anomaly_model, data=data_unseen)"
      ],
      "metadata": {
        "id": "vFmIrxkkOSpc"
      },
      "execution_count": null,
      "outputs": []
    },
    {
      "cell_type": "code",
      "source": [
        "test_pred.head()"
      ],
      "metadata": {
        "id": "qTFAsAeOOcrB"
      },
      "execution_count": null,
      "outputs": []
    },
    {
      "cell_type": "code",
      "source": [
        "save_model(iforest_anomaly_model, 'anomaly model')"
      ],
      "metadata": {
        "id": "esKlfAhuOqX5"
      },
      "execution_count": null,
      "outputs": []
    },
    {
      "cell_type": "code",
      "source": [
        "saved_model = load_model('anomaly model')"
      ],
      "metadata": {
        "id": "kpFLRg9hOwNk"
      },
      "execution_count": null,
      "outputs": []
    },
    {
      "cell_type": "code",
      "source": [
        "new_pred = predict_model(saved_model, data=data_unseen)"
      ],
      "metadata": {
        "id": "yYyjQkO9O0gz"
      },
      "execution_count": null,
      "outputs": []
    },
    {
      "cell_type": "code",
      "source": [
        "new_pred.head()"
      ],
      "metadata": {
        "id": "2EW_Ezf4O9-w"
      },
      "execution_count": null,
      "outputs": []
    },
    {
      "cell_type": "code",
      "source": [],
      "metadata": {
        "id": "q2pfPNAvQQ_d"
      },
      "execution_count": null,
      "outputs": []
    }
  ]
}