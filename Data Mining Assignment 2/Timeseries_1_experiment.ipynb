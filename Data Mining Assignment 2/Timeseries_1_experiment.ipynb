{
  "nbformat": 4,
  "nbformat_minor": 0,
  "metadata": {
    "colab": {
      "provenance": [],
      "collapsed_sections": [],
      "authorship_tag": "ABX9TyPc1rRJzrzcC/n1zTvcy3U1",
      "include_colab_link": true
    },
    "kernelspec": {
      "name": "python3",
      "display_name": "Python 3"
    },
    "language_info": {
      "name": "python"
    }
  },
  "cells": [
    {
      "cell_type": "markdown",
      "metadata": {
        "id": "view-in-github",
        "colab_type": "text"
      },
      "source": [
        "<a href=\"https://colab.research.google.com/github/Dhanasree-Rajamani/Data-Mining/blob/main/Timeseries_1_experiment.ipynb\" target=\"_parent\"><img src=\"https://colab.research.google.com/assets/colab-badge.svg\" alt=\"Open In Colab\"/></a>"
      ]
    },
    {
      "cell_type": "code",
      "execution_count": null,
      "metadata": {
        "id": "rS4UVjrWsz9g"
      },
      "outputs": [],
      "source": [
        "!pip install pycaret \n",
        "!pip install pycaret-ts-alpha"
      ]
    },
    {
      "cell_type": "code",
      "source": [
        "from pycaret.utils import enable_colab\n",
        "enable_colab()\n",
        "\n",
        "import time\n",
        "import numpy as np\n",
        "import pandas as pd\n",
        "\n",
        "from pycaret.datasets import get_data\n",
        "from pycaret.time_series import *\n",
        "from pycaret.time_series import TSForecastingExperiment"
      ],
      "metadata": {
        "id": "pOEHEXCcs54t"
      },
      "execution_count": null,
      "outputs": []
    },
    {
      "cell_type": "code",
      "source": [
        "!pip install Jinja2\n",
        "!pip install markupsafe==2.0.1"
      ],
      "metadata": {
        "id": "eqNo38W4s6p0"
      },
      "execution_count": null,
      "outputs": []
    },
    {
      "cell_type": "code",
      "source": [
        "import jinja2"
      ],
      "metadata": {
        "id": "BmARmbMstApp"
      },
      "execution_count": null,
      "outputs": []
    },
    {
      "cell_type": "code",
      "source": [
        "fig_kwargs={'renderer': 'notebook'}"
      ],
      "metadata": {
        "id": "6F9Z_hWRtCUh"
      },
      "execution_count": null,
      "outputs": []
    },
    {
      "cell_type": "code",
      "source": [
        "data_set = get_data('pycaret_downloads')"
      ],
      "metadata": {
        "id": "vDYggwhWtEnH"
      },
      "execution_count": null,
      "outputs": []
    },
    {
      "cell_type": "code",
      "source": [
        "fh = 12 \n",
        "fold = 3\n",
        "data_set['Date'] = pd.to_datetime(data_set['Date'])\n",
        "data_set.set_index('Date', drop = True, inplace = True)"
      ],
      "metadata": {
        "id": "7CFamViJtEhI"
      },
      "execution_count": null,
      "outputs": []
    },
    {
      "cell_type": "code",
      "source": [
        "ts_obj = TSForecastingExperiment()\n",
        "ts_obj.setup(data=data_set, fh=fh, fold=fold, fig_kwargs=fig_kwargs)"
      ],
      "metadata": {
        "id": "s4nD0K3FtNJw"
      },
      "execution_count": null,
      "outputs": []
    },
    {
      "cell_type": "code",
      "source": [
        "best_baseline_models = ts_obj.compare_models(n_select=3)\n",
        "best_baseline_models"
      ],
      "metadata": {
        "id": "u4V-pUZKtsYJ"
      },
      "execution_count": null,
      "outputs": []
    },
    {
      "cell_type": "code",
      "source": [
        "compare_metrics = ts_obj.pull()"
      ],
      "metadata": {
        "id": "pa1O2L-wtu2r"
      },
      "execution_count": null,
      "outputs": []
    },
    {
      "cell_type": "code",
      "source": [
        "tm_model = ts_obj.create_model('huber_cds_dt')"
      ],
      "metadata": {
        "id": "LicpFtiUHbaf"
      },
      "execution_count": null,
      "outputs": []
    },
    {
      "cell_type": "code",
      "source": [
        "best_tuned_models = [ts_obj.tune_model(tm_model) for model in best_baseline_models]\n",
        "best_tuned_models"
      ],
      "metadata": {
        "id": "1JZejc9Otwnw"
      },
      "execution_count": null,
      "outputs": []
    },
    {
      "cell_type": "code",
      "source": [
        "top_model_metrics = compare_metrics.iloc[0:3]['MAE']\n",
        "display(top_model_metrics)\n",
        "\n",
        "top_model_weights = 1 - top_model_metrics/top_model_metrics.sum()\n",
        "display(top_model_weights)"
      ],
      "metadata": {
        "id": "-LWz-7VZtytN"
      },
      "execution_count": null,
      "outputs": []
    },
    {
      "cell_type": "code",
      "source": [
        "blender = ts_obj.blend_models(best_tuned_models, method='voting', weights=top_model_weights.values.tolist())"
      ],
      "metadata": {
        "id": "ph0PLf4dt0s6"
      },
      "execution_count": null,
      "outputs": []
    },
    {
      "cell_type": "code",
      "source": [
        "y_predict = ts_obj.predict_model(blender)\n",
        "print(y_predict)\n",
        "ts_obj.plot_model(estimator=blender)"
      ],
      "metadata": {
        "id": "c3HMmWYrt2js"
      },
      "execution_count": null,
      "outputs": []
    },
    {
      "cell_type": "code",
      "source": [
        "final_model_1 = ts_obj.finalize_model(blender)\n",
        "print(ts_obj.predict_model(final_model_1))\n",
        "ts_obj.plot_model(final_model_1, fig_kwargs={\"height\": 600, \"width\": 1000})"
      ],
      "metadata": {
        "id": "pgbutbnOt5Br"
      },
      "execution_count": null,
      "outputs": []
    },
    {
      "cell_type": "code",
      "source": [
        "blender_model = ts_obj.save_model(final_model_1, \"my_blender\")"
      ],
      "metadata": {
        "id": "F-LDldYOt7Oi"
      },
      "execution_count": null,
      "outputs": []
    },
    {
      "cell_type": "code",
      "source": [
        "loaded_exp = TSForecastingExperiment()\n",
        "m = loaded_exp.load_model(\"my_blender\")\n",
        "# Predictions should be same as before the model was saved and loaded\n",
        "loaded_exp.predict_model(m)"
      ],
      "metadata": {
        "id": "AI2e1rsAt9n2"
      },
      "execution_count": null,
      "outputs": []
    },
    {
      "cell_type": "code",
      "source": [
        "ts_obj.predict_model(tm_model)"
      ],
      "metadata": {
        "id": "ilh--IYTt_hg"
      },
      "execution_count": null,
      "outputs": []
    },
    {
      "cell_type": "code",
      "source": [
        "# Increased forecast horizon to 2 years instead of the original 1 year\n",
        "ts_obj.predict_model(tm_model, fh=24)"
      ],
      "metadata": {
        "id": "oj8p1sYQuBp6"
      },
      "execution_count": null,
      "outputs": []
    },
    {
      "cell_type": "code",
      "source": [
        "ts_obj.plot_model(tm_model, fig_kwargs={\"height\": 600, \"width\": 1000})"
      ],
      "metadata": {
        "id": "5Tg1ISMMuDpg"
      },
      "execution_count": null,
      "outputs": []
    },
    {
      "cell_type": "code",
      "source": [
        "ts_obj.plot_model(tm_model, data_kwargs={\"alpha\": 0.7, \"coverage\": 0.8}, fig_kwargs={\"height\": 600, \"width\": 1000})"
      ],
      "metadata": {
        "id": "34RKtpltuFrC"
      },
      "execution_count": null,
      "outputs": []
    },
    {
      "cell_type": "code",
      "source": [
        "exp = TSForecastingExperiment()\n",
        "exp.setup(data=data_set, fh=fh, fold=fold, fig_kwargs=fig_kwargs, fold_strategy='sliding', verbose=False)\n",
        "exp.plot_model(plot=\"cv\", fig_kwargs={\"height\": 600, \"width\": 1000})"
      ],
      "metadata": {
        "id": "Cwk48y79uH8S"
      },
      "execution_count": null,
      "outputs": []
    },
    {
      "cell_type": "code",
      "source": [
        "exp = TSForecastingExperiment()\n",
        "exp.setup(data=data_set, fh=fh, fold=fold, fig_kwargs=fig_kwargs, fold_strategy='expanding', verbose=False)\n",
        "exp.plot_model(plot=\"cv\", fig_kwargs={\"height\": 600, \"width\": 1000})"
      ],
      "metadata": {
        "id": "FDzsvU1-uLVN"
      },
      "execution_count": null,
      "outputs": []
    },
    {
      "cell_type": "code",
      "source": [
        "exp = TSForecastingExperiment()\n",
        "exp.setup(data=data_set, fh=fh, fold=fold, fig_kwargs=fig_kwargs, fold_strategy='rolling', verbose=False)\n",
        "exp.plot_model(plot=\"cv\", fig_kwargs={\"height\": 600, \"width\": 1000})"
      ],
      "metadata": {
        "id": "HR5gjQvRuNX5"
      },
      "execution_count": null,
      "outputs": []
    },
    {
      "cell_type": "code",
      "source": [
        "try:\n",
        "    exp = TSForecastingExperiment()\n",
        "    exp.setup(data=data_set[:30], fh=12, fold=3, fig_kwargs=fig_kwargs)\n",
        "except ValueError as error:\n",
        "    print(error)"
      ],
      "metadata": {
        "id": "4g7lxWzfuPZU"
      },
      "execution_count": null,
      "outputs": []
    },
    {
      "cell_type": "code",
      "source": [
        "try:\n",
        "    exp = TSForecastingExperiment()\n",
        "    exp.setup(data=data_set[:30], fh=6, fold=3, fig_kwargs=fig_kwargs)\n",
        "except ValueError as error:\n",
        "    print(error)"
      ],
      "metadata": {
        "id": "b6V8pRXOuQ47"
      },
      "execution_count": null,
      "outputs": []
    },
    {
      "cell_type": "code",
      "source": [
        "exp = TSForecastingExperiment()\n",
        "exp.setup(data=data_set, fh=fh, fold=fold, fig_kwargs=fig_kwargs, session_id=42)"
      ],
      "metadata": {
        "id": "cFQGTXCFuTBW"
      },
      "execution_count": null,
      "outputs": []
    },
    {
      "cell_type": "code",
      "source": [
        "model = exp.create_model(\"lr_cds_dt\")"
      ],
      "metadata": {
        "id": "HOu1j4LHuU7g"
      },
      "execution_count": null,
      "outputs": []
    },
    {
      "cell_type": "code",
      "source": [
        "# Random Grid Search (default)\n",
        "tuned_model = exp.tune_model(model)\n",
        "print(model)\n",
        "print(tuned_model)"
      ],
      "metadata": {
        "id": "xg7hYo5MuWY9"
      },
      "execution_count": null,
      "outputs": []
    },
    {
      "cell_type": "code",
      "source": [
        "exp.plot_model([model, tuned_model], data_kwargs={\"labels\": [\"Original\", \"Tuned\"]}, fig_kwargs={\"height\": 600, \"width\": 1000})"
      ],
      "metadata": {
        "id": "VJd-JT3AuX7a"
      },
      "execution_count": null,
      "outputs": []
    },
    {
      "cell_type": "code",
      "source": [
        "tuned_model = exp.tune_model(model, search_algorithm=\"grid\")\n",
        "print(model)\n",
        "print(tuned_model)"
      ],
      "metadata": {
        "id": "x-3XTFQ6uZq8"
      },
      "execution_count": null,
      "outputs": []
    },
    {
      "cell_type": "code",
      "source": [
        "ts_obj.plot_model(tm_model, plot='forecast', fig_kwargs={\"height\": 600, \"width\": 1000})"
      ],
      "metadata": {
        "id": "94gM2qZjubKa"
      },
      "execution_count": null,
      "outputs": []
    },
    {
      "cell_type": "code",
      "source": [
        "best = ts_obj.compare_models()"
      ],
      "metadata": {
        "id": "LK2f4Y15IHfY"
      },
      "execution_count": null,
      "outputs": []
    },
    {
      "cell_type": "code",
      "source": [
        "ts_obj.plot_model(best, plot='forecast', fig_kwargs={\"height\": 600, \"width\": 1000})"
      ],
      "metadata": {
        "id": "z4lPu96uuc0q"
      },
      "execution_count": null,
      "outputs": []
    },
    {
      "cell_type": "code",
      "source": [
        "ts_obj.plot_model(plot=\"diagnostics\", fig_kwargs={\"height\": 600, \"width\": 1000})"
      ],
      "metadata": {
        "id": "4G9oYmbDufdA"
      },
      "execution_count": null,
      "outputs": []
    }
  ]
}
