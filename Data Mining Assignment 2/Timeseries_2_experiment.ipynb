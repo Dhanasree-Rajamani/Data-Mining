{
  "nbformat": 4,
  "nbformat_minor": 0,
  "metadata": {
    "colab": {
      "provenance": [],
      "collapsed_sections": [],
      "mount_file_id": "1alb2AHgnmRfAk-M7SCTbQjvcmf6FUgMt",
      "authorship_tag": "ABX9TyMm3lLLe5KgOO4gpa+3fgHG",
      "include_colab_link": true
    },
    "kernelspec": {
      "name": "python3",
      "display_name": "Python 3"
    },
    "language_info": {
      "name": "python"
    }
  },
  "cells": [
    {
      "cell_type": "markdown",
      "metadata": {
        "id": "view-in-github",
        "colab_type": "text"
      },
      "source": [
        "<a href=\"https://colab.research.google.com/github/Dhanasree-Rajamani/Data-Mining/blob/main/Data%20Mining%20Assignment%202/Timeseries_2_experiment.ipynb\" target=\"_parent\"><img src=\"https://colab.research.google.com/assets/colab-badge.svg\" alt=\"Open In Colab\"/></a>"
      ]
    },
    {
      "cell_type": "code",
      "execution_count": null,
      "metadata": {
        "id": "A-YNn173CGuE"
      },
      "outputs": [],
      "source": [
        "!pip install pycaret \n",
        "!pip install pycaret-ts-alpha"
      ]
    },
    {
      "cell_type": "code",
      "source": [
        "from pycaret.utils import enable_colab\n",
        "enable_colab()"
      ],
      "metadata": {
        "id": "1vo25WcJJryG"
      },
      "execution_count": null,
      "outputs": []
    },
    {
      "cell_type": "code",
      "source": [
        "import time\n",
        "import numpy as np\n",
        "import pandas as pd\n",
        "\n",
        "from pycaret.datasets import get_data\n",
        "from pycaret.time_series import *\n",
        "from pycaret.time_series import TSForecastingExperiment"
      ],
      "metadata": {
        "id": "Hgf-7AsLJrvp"
      },
      "execution_count": null,
      "outputs": []
    },
    {
      "cell_type": "code",
      "source": [
        "!pip install Jinja2\n",
        "!pip install markupsafe==2.0.1"
      ],
      "metadata": {
        "id": "5pUpE_luJrPo"
      },
      "execution_count": null,
      "outputs": []
    },
    {
      "cell_type": "code",
      "source": [
        "fig_kwargs={'renderer': 'notebook'}\n",
        "fh = 12 \n",
        "fold = 3"
      ],
      "metadata": {
        "id": "ZUkPm9A-JrMH"
      },
      "execution_count": null,
      "outputs": []
    },
    {
      "cell_type": "code",
      "source": [
        "#file = '/content/drive/MyDrive/DataMining_Datasets/DailyDelhiClimateTrain.csv'\n",
        "file = 'https://raw.githubusercontent.com/Dhanasree-Rajamani/Data-Mining/main/Data%20Mining%20Assignment%202/DataMining_Datasets/DailyDelhiClimateTrain.csv'\n",
        "data = pd.read_csv(file)\n",
        "data.head()\n",
        "\n",
        "data_set = data\n",
        "data_set[\"index\"] = pd.to_datetime(data_set[\"date\"])\n",
        "data_set.drop(columns=[\"date\"], inplace=True)\n",
        "target = \"meantemp\""
      ],
      "metadata": {
        "id": "FUUd-hpkJrI3"
      },
      "execution_count": null,
      "outputs": []
    },
    {
      "cell_type": "code",
      "source": [
        "data_set.head()"
      ],
      "metadata": {
        "id": "M2DUqHMRXTod"
      },
      "execution_count": null,
      "outputs": []
    },
    {
      "cell_type": "code",
      "source": [
        "global_fig_settings = {\"renderer\": \"notebook\", \"width\": 1000, \"height\": 600}"
      ],
      "metadata": {
        "id": "hIIvP1GzUdiW"
      },
      "execution_count": null,
      "outputs": []
    },
    {
      "cell_type": "code",
      "source": [
        "exp_exo = TSForecastingExperiment()\n",
        "exp_exo.setup(\n",
        "    data=data, target=target, index=\"index\", fh=48,\n",
        "    numeric_imputation_target=\"ffill\", numeric_imputation_exogenous=\"ffill\",\n",
        "    fig_kwargs=global_fig_settings, session_id=42\n",
        ")"
      ],
      "metadata": {
        "id": "AzXjx9JOLBps"
      },
      "execution_count": null,
      "outputs": []
    },
    {
      "cell_type": "code",
      "source": [
        "model_exo = exp_exo.create_model(\"arima\", order=(0,1,0), seasonal_order=(0,1,0,24))"
      ],
      "metadata": {
        "id": "6GipOtzgLBms"
      },
      "execution_count": null,
      "outputs": []
    },
    {
      "cell_type": "code",
      "source": [
        "exp_exo.plot_model(model_exo)"
      ],
      "metadata": {
        "id": "9JO4WWwyLBkE"
      },
      "execution_count": null,
      "outputs": []
    },
    {
      "cell_type": "code",
      "source": [
        "final_model_exo = exp_exo.finalize_model(model_exo)"
      ],
      "metadata": {
        "id": "gEpeEGvhLBg8"
      },
      "execution_count": null,
      "outputs": []
    },
    {
      "cell_type": "code",
      "source": [
        "def safe_predict(exp, model):\n",
        "    \"\"\"Prediction wrapper for demo purposes.\"\"\"\n",
        "    try: \n",
        "        exp.predict_model(model)\n",
        "    except ValueError as exception:\n",
        "        print(exception)\n",
        "        exo_vars = exp.exogenous_variables\n",
        "        print(f\"{len(exo_vars)} exogenous variables (X) needed in order to make future predictions:\\n{exo_vars}\")\n",
        "\n",
        "safe_predict(exp_exo, final_model_exo)"
      ],
      "metadata": {
        "id": "QiV5JfCMKwk3"
      },
      "execution_count": null,
      "outputs": []
    },
    {
      "cell_type": "code",
      "source": [
        "exp_slim = TSForecastingExperiment()\n",
        "keep = [target, \"index\", 'humidity',\t'wind_speed',\t'meanpressure']\n",
        "data_slim = data[keep]\n",
        "exp_slim.setup(\n",
        "    data=data_slim, target=target, index=\"index\", fh=48,\n",
        "    numeric_imputation_target=\"ffill\", numeric_imputation_exogenous=\"ffill\",\n",
        "    fig_kwargs=global_fig_settings, session_id=42 \n",
        ")"
      ],
      "metadata": {
        "id": "99uvpkBsKwhe"
      },
      "execution_count": null,
      "outputs": []
    },
    {
      "cell_type": "code",
      "source": [
        "model_slim = exp_slim.create_model(\"arima\", order=(0,1,0), seasonal_order=(0,1,0,24))"
      ],
      "metadata": {
        "id": "LG8VbqC5Kweq"
      },
      "execution_count": null,
      "outputs": []
    },
    {
      "cell_type": "code",
      "source": [
        "exp_slim.plot_model(model_slim)"
      ],
      "metadata": {
        "id": "BBFuuayFKwWe"
      },
      "execution_count": null,
      "outputs": []
    },
    {
      "cell_type": "code",
      "source": [
        "final_slim_model = exp_slim.finalize_model(model_slim)"
      ],
      "metadata": {
        "id": "orOpHldoKwLt"
      },
      "execution_count": null,
      "outputs": []
    },
    {
      "cell_type": "code",
      "source": [
        "exp_slim.save_model(final_slim_model, \"final_slim_model\")"
      ],
      "metadata": {
        "id": "COK2dCJFKwIP"
      },
      "execution_count": null,
      "outputs": []
    },
    {
      "cell_type": "code",
      "source": [
        "safe_predict(exp_slim, final_slim_model)"
      ],
      "metadata": {
        "id": "wJ8nYtOtKwFb"
      },
      "execution_count": null,
      "outputs": []
    },
    {
      "cell_type": "code",
      "source": [
        "data = pd.read_csv(file)\n",
        "data.head()\n",
        "\n",
        "data[\"index\"] = pd.to_datetime(data[\"date\"])\n",
        "data.drop(columns=[\"date\"], inplace=True)\n",
        "data.set_index(\"index\", inplace=True)\n",
        "\n",
        "exog_vars = ['humidity',\t'wind_speed',\t'meanpressure']\n",
        "data = data[exog_vars]\n",
        "data.head()"
      ],
      "metadata": {
        "id": "fQBxJFwTKwCs"
      },
      "execution_count": null,
      "outputs": []
    },
    {
      "cell_type": "code",
      "source": [
        "exog_exps = []\n",
        "exog_models = []\n",
        "for exog_var in exog_vars:\n",
        "    exog_exp = TSForecastingExperiment()\n",
        "    exog_exp.setup(\n",
        "        data=data[exog_var], fh=48,\n",
        "        numeric_imputation_target=\"ffill\", numeric_imputation_exogenous=\"ffill\",\n",
        "        fig_kwargs=global_fig_settings, session_id=42\n",
        "    )\n",
        "\n",
        "    # Users can customize how to model future exogenous variables i.e. add\n",
        "    # more steps and models to potentially get better models at the expense\n",
        "    # of higher modeling time.\n",
        "    best = exog_exp.compare_models(\n",
        "        sort=\"mase\", include=[\"arima\", \"ets\", \"exp_smooth\", \"theta\", \"lightgbm_cds_dt\",]        \n",
        "    )\n",
        "    final_exog_model = exog_exp.finalize_model(best)\n",
        "\n",
        "    exog_exps.append(exog_exp)\n",
        "    exog_models.append(final_exog_model)\n",
        "\n",
        "# Step 2: Get future predictions for exog variables ----\n",
        "future_exog = [\n",
        "    exog_exp.predict_model(exog_model)\n",
        "    for exog_exp, exog_model in zip(exog_exps, exog_models)\n",
        "]\n",
        "future_exog = pd.concat(future_exog, axis=1)\n",
        "future_exog.columns = exog_vars"
      ],
      "metadata": {
        "id": "ShjmjEHjKv_r"
      },
      "execution_count": null,
      "outputs": []
    },
    {
      "cell_type": "code",
      "source": [
        "future_exog"
      ],
      "metadata": {
        "id": "qjejReDjJq8y"
      },
      "execution_count": null,
      "outputs": []
    },
    {
      "cell_type": "code",
      "source": [
        "exp_future = TSForecastingExperiment()"
      ],
      "metadata": {
        "id": "OVoKXNuQJq5M"
      },
      "execution_count": null,
      "outputs": []
    },
    {
      "cell_type": "code",
      "source": [
        "final_slim_model = exp_future.load_model(\"final_slim_model\")"
      ],
      "metadata": {
        "id": "nhVUt4hbJq2u"
      },
      "execution_count": null,
      "outputs": []
    },
    {
      "cell_type": "code",
      "source": [
        "!pip install matplotlib==3.1.3"
      ],
      "metadata": {
        "id": "I4pIhKcqY7cW"
      },
      "execution_count": null,
      "outputs": []
    },
    {
      "cell_type": "code",
      "source": [
        "future_preds = exp_future.predict_model(final_slim_model, X=future_exog)\n",
        "future_preds.plot()"
      ],
      "metadata": {
        "id": "gjlfeezrJq0k"
      },
      "execution_count": null,
      "outputs": []
    },
    {
      "cell_type": "code",
      "source": [
        "data = pd.read_csv(file)\n",
        "data.head()\n",
        "data[\"index\"] = pd.to_datetime(data[\"date\"])\n",
        "data.drop(columns=[\"date\"], inplace=True)\n",
        "data.set_index(\"index\", inplace=True)\n",
        "\n",
        "target = \"meantemp\"\n",
        "exog_vars = ['humidity',\t'wind_speed',\t'meanpressure']\n",
        "include = [target] + exog_vars\n",
        "data = data[include]\n",
        "data.head()"
      ],
      "metadata": {
        "id": "8TODW-5TJqyR"
      },
      "execution_count": null,
      "outputs": []
    },
    {
      "cell_type": "code",
      "source": [
        "FH=48\n",
        "metric = \"mase\"\n",
        "exclude = [\"auto_arima\", \"bats\", \"tbats\", \"lar_cds_dt\", \"par_cds_dt\"]"
      ],
      "metadata": {
        "id": "j191dSiVJqv0"
      },
      "execution_count": null,
      "outputs": []
    },
    {
      "cell_type": "code",
      "source": [
        "exp_auto = TSForecastingExperiment()\n",
        "\n",
        "# enforce_exogenous=False --> Use multivariate forecasting when model supports it, else use univariate forecasting\n",
        "exp_auto.setup(\n",
        "    data=data, target=target, fh=FH, enforce_exogenous=False,\n",
        "    numeric_imputation_target=\"ffill\", numeric_imputation_exogenous=\"ffill\",\n",
        "    fig_kwargs=global_fig_settings, session_id=42\n",
        ")"
      ],
      "metadata": {
        "id": "X57GrOPAJqtW"
      },
      "execution_count": null,
      "outputs": []
    },
    {
      "cell_type": "code",
      "source": [
        "#best = exp_auto.compare_models(sort=metric, turbo=False, exclude=exclude)"
      ],
      "metadata": {
        "id": "TWKcgDvpJqrM"
      },
      "execution_count": null,
      "outputs": []
    },
    {
      "cell_type": "code",
      "source": [
        "model = exp_auto.create_model('lightgbm_cds_dt')"
      ],
      "metadata": {
        "id": "bwMzWqfIJqo2"
      },
      "execution_count": null,
      "outputs": []
    },
    {
      "cell_type": "code",
      "source": [
        "exp_auto.plot_model(model)"
      ],
      "metadata": {
        "id": "wqmzLT_EJqmd"
      },
      "execution_count": null,
      "outputs": []
    },
    {
      "cell_type": "code",
      "source": [
        "final_auto_model = exp_auto.finalize_model(model)"
      ],
      "metadata": {
        "id": "e70xwhGoJqj9"
      },
      "execution_count": null,
      "outputs": []
    },
    {
      "cell_type": "code",
      "source": [
        "def safe_predict(exp, model):\n",
        "    \"\"\"Prediction wrapper for demo purposes.\"\"\"\n",
        "    try: \n",
        "        future_preds = exp.predict_model(model)\n",
        "    except ValueError as exception:\n",
        "        print(exception)\n",
        "        exo_vars = exp.exogenous_variables\n",
        "        print(f\"{len(exo_vars)} exogenous variables (X) needed in order to make future predictions:\\n{exo_vars}\")\n",
        "        \n",
        "        \n",
        "        exog_exps = []\n",
        "        exog_models = []\n",
        "        for exog_var in exog_vars:\n",
        "            exog_exp = TSForecastingExperiment()\n",
        "            exog_exp.setup(\n",
        "                data=data[exog_var], fh=FH,\n",
        "                numeric_imputation_target=\"ffill\", numeric_imputation_exogenous=\"ffill\",\n",
        "                fig_kwargs=global_fig_settings, session_id=42\n",
        "            )\n",
        "\n",
        "            # Users can customize how to model future exogenous variables i.e. add\n",
        "            # more steps and models to potentially get better models at the expense\n",
        "            # of higher modeling time.\n",
        "            best = exog_exp.compare_models(\n",
        "                sort=metric, include=[\"arima\", \"ets\", \"exp_smooth\", \"theta\", \"lightgbm_cds_dt\",]        \n",
        "            )\n",
        "            final_exog_model = exog_exp.finalize_model(best)\n",
        "\n",
        "            exog_exps.append(exog_exp)\n",
        "            exog_models.append(final_exog_model)\n",
        "\n",
        "        # Step 2: Get future predictions for exog variables ----\n",
        "        future_exog = [\n",
        "            exog_exp.predict_model(exog_model)\n",
        "            for exog_exp, exog_model in zip(exog_exps, exog_models)\n",
        "        ]\n",
        "        future_exog = pd.concat(future_exog, axis=1)\n",
        "        future_exog.columns = exog_vars\n",
        "        \n",
        "        future_preds = exp.predict_model(model, X=future_exog)\n",
        "    \n",
        "    return future_preds  "
      ],
      "metadata": {
        "id": "dT6MUz5FJqht"
      },
      "execution_count": null,
      "outputs": []
    },
    {
      "cell_type": "code",
      "source": [
        "future_preds = safe_predict(exp_auto, final_auto_model)\n",
        "future_preds.plot()"
      ],
      "metadata": {
        "id": "lxTsD6LRJqfk"
      },
      "execution_count": null,
      "outputs": []
    }
  ]
}