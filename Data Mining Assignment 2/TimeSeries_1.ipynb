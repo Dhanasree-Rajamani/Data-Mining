{
  "nbformat": 4,
  "nbformat_minor": 0,
  "metadata": {
    "colab": {
      "provenance": [],
      "collapsed_sections": [],
      "authorship_tag": "ABX9TyOykYJCREvgwNaWzZaFcBGN",
      "include_colab_link": true
    },
    "kernelspec": {
      "name": "python3",
      "display_name": "Python 3"
    },
    "language_info": {
      "name": "python"
    }
  },
  "cells": [
    {
      "cell_type": "markdown",
      "metadata": {
        "id": "view-in-github",
        "colab_type": "text"
      },
      "source": [
        "<a href=\"https://colab.research.google.com/github/Dhanasree-Rajamani/Data-Mining/blob/main/Data%20Mining%20Assignment%202/TimeSeries_1.ipynb\" target=\"_parent\"><img src=\"https://colab.research.google.com/assets/colab-badge.svg\" alt=\"Open In Colab\"/></a>"
      ]
    },
    {
      "cell_type": "code",
      "execution_count": null,
      "metadata": {
        "id": "ZxoRH57iVzF7"
      },
      "outputs": [],
      "source": [
        "!pip install pycaret \n",
        "!pip install pycaret-ts-alpha"
      ]
    },
    {
      "cell_type": "code",
      "source": [
        "from pycaret.utils import enable_colab\n",
        "enable_colab()"
      ],
      "metadata": {
        "id": "Jb5rZ8TxZ3CM"
      },
      "execution_count": null,
      "outputs": []
    },
    {
      "cell_type": "code",
      "source": [
        "import time\n",
        "import numpy as np\n",
        "import pandas as pd\n",
        "\n",
        "from pycaret.datasets import get_data\n",
        "from pycaret.time_series import *\n",
        "from pycaret.time_series import TSForecastingExperiment"
      ],
      "metadata": {
        "id": "h8lCFtu3Z4_U"
      },
      "execution_count": null,
      "outputs": []
    },
    {
      "cell_type": "code",
      "source": [
        "#file = '/content/drive/MyDrive/DataMining_Datasets/train_airline.csv'\n",
        "#data = pd.read_csv(file)\n",
        "#data.head()"
      ],
      "metadata": {
        "id": "uR7nERMMaB45"
      },
      "execution_count": null,
      "outputs": []
    },
    {
      "cell_type": "code",
      "source": [
        "!pip install Jinja2\n",
        "!pip install markupsafe==2.0.1"
      ],
      "metadata": {
        "id": "ZgXII-WAaGNd"
      },
      "execution_count": null,
      "outputs": []
    },
    {
      "cell_type": "code",
      "source": [
        "fig_kwargs={'renderer': 'notebook'}"
      ],
      "metadata": {
        "id": "VAyMLgxoAvoQ"
      },
      "execution_count": null,
      "outputs": []
    },
    {
      "cell_type": "code",
      "source": [
        "import jinja2"
      ],
      "metadata": {
        "id": "THE_NkpnaP1M"
      },
      "execution_count": null,
      "outputs": []
    },
    {
      "cell_type": "code",
      "source": [
        "data_set = get_data('pycaret_downloads')"
      ],
      "metadata": {
        "id": "2g6ZexI7toLx"
      },
      "execution_count": null,
      "outputs": []
    },
    {
      "cell_type": "code",
      "source": [
        "fh = 12 \n",
        "fold = 3"
      ],
      "metadata": {
        "id": "J-y-siqJJxvR"
      },
      "execution_count": null,
      "outputs": []
    },
    {
      "cell_type": "code",
      "source": [
        "data_set['Total'].plot()"
      ],
      "metadata": {
        "id": "OvW5Jh5K3_A7"
      },
      "execution_count": null,
      "outputs": []
    },
    {
      "cell_type": "code",
      "source": [
        "data_set.dtypes"
      ],
      "metadata": {
        "id": "PdMjGHNF4Jcu"
      },
      "execution_count": null,
      "outputs": []
    },
    {
      "cell_type": "code",
      "source": [
        "data_set['Date'] = pd.to_datetime(data_set['Date'])\n",
        "data_set.set_index('Date', drop = True, inplace = True)"
      ],
      "metadata": {
        "id": "VMqg8S5S00ub"
      },
      "execution_count": null,
      "outputs": []
    },
    {
      "cell_type": "code",
      "source": [
        "data_set.plot()"
      ],
      "metadata": {
        "id": "kn6RGqak4Se1"
      },
      "execution_count": null,
      "outputs": []
    },
    {
      "cell_type": "code",
      "source": [
        "data_set.tail()"
      ],
      "metadata": {
        "id": "uhUUrD7x04E0"
      },
      "execution_count": null,
      "outputs": []
    },
    {
      "cell_type": "code",
      "source": [
        "from pycaret.utils import version\n",
        "version()"
      ],
      "metadata": {
        "id": "ICT04izC4fDv"
      },
      "execution_count": null,
      "outputs": []
    },
    {
      "cell_type": "code",
      "source": [
        "#s = setup(data_set, fold =3, fh=12, session_id =7, fig_kwargs={'renderer': 'notebook'})\n",
        "ts_obj = TSForecastingExperiment()\n",
        "ts_obj.setup(data=data_set, fh=fh, fold=fold, fig_kwargs=fig_kwargs)"
      ],
      "metadata": {
        "id": "yREu7RC5vpid"
      },
      "execution_count": null,
      "outputs": []
    },
    {
      "cell_type": "code",
      "source": [
        "ts_obj.plot_model()"
      ],
      "metadata": {
        "id": "k9oXWzRUtxTb"
      },
      "execution_count": null,
      "outputs": []
    },
    {
      "cell_type": "code",
      "source": [
        "ts_obj.plot_model(data_kwargs={\"plot_data_type\": ['original', 'imputed', 'transformed']})"
      ],
      "metadata": {
        "id": "5DXwFyIZBQHB"
      },
      "execution_count": null,
      "outputs": []
    },
    {
      "cell_type": "code",
      "source": [
        "ts_obj.plot_model(plot='acf')"
      ],
      "metadata": {
        "id": "y5lVE7TXBUzA"
      },
      "execution_count": null,
      "outputs": []
    },
    {
      "cell_type": "code",
      "source": [
        "ts_obj.plot_model(plot='diagnostics')"
      ],
      "metadata": {
        "id": "y5X2PdFBBcg9"
      },
      "execution_count": null,
      "outputs": []
    },
    {
      "cell_type": "code",
      "source": [
        "ts_obj.check_stats()"
      ],
      "metadata": {
        "id": "OV1UykdKbIka"
      },
      "execution_count": null,
      "outputs": []
    },
    {
      "cell_type": "code",
      "source": [
        "ts_obj.plot_model(plot=\"train_test_split\")"
      ],
      "metadata": {
        "id": "Z72Ny_ZoLP2j"
      },
      "execution_count": null,
      "outputs": []
    },
    {
      "cell_type": "code",
      "source": [
        "ts_obj.plot_model(plot=\"cv\", fig_kwargs={\"height\": 400, \"width\": 900})"
      ],
      "metadata": {
        "id": "WjX45okRLPrh"
      },
      "execution_count": null,
      "outputs": []
    },
    {
      "cell_type": "code",
      "source": [
        "best = ts_obj.compare_models()"
      ],
      "metadata": {
        "id": "mFvHOLUFbgcz"
      },
      "execution_count": null,
      "outputs": []
    },
    {
      "cell_type": "code",
      "source": [
        "tm_model = ts_obj.create_model('huber_cds_dt')"
      ],
      "metadata": {
        "id": "-6dtVvFm6MmP"
      },
      "execution_count": null,
      "outputs": []
    },
    {
      "cell_type": "code",
      "source": [
        "ts_predict = ts_obj.predict_model(tm_model)"
      ],
      "metadata": {
        "id": "zG-bD9iZMlg2"
      },
      "execution_count": null,
      "outputs": []
    },
    {
      "cell_type": "code",
      "source": [
        "ts_predict"
      ],
      "metadata": {
        "id": "Ntau8QYdM8mw"
      },
      "execution_count": null,
      "outputs": []
    },
    {
      "cell_type": "code",
      "source": [
        "tuned_model = ts_obj.tune_model(tm_model)"
      ],
      "metadata": {
        "id": "siMO9Hk6Dj5B"
      },
      "execution_count": null,
      "outputs": []
    },
    {
      "cell_type": "code",
      "source": [
        "ts_obj.plot_model(estimator = tm_model)"
      ],
      "metadata": {
        "id": "xv2KccxR6yDy"
      },
      "execution_count": null,
      "outputs": []
    },
    {
      "cell_type": "code",
      "source": [
        "ts_obj.predict_model(tm_model, fh=24)"
      ],
      "metadata": {
        "id": "gmemrkE7bttv"
      },
      "execution_count": null,
      "outputs": []
    },
    {
      "cell_type": "code",
      "source": [
        "ts_obj.plot_model(tuned_model)"
      ],
      "metadata": {
        "id": "x8b4w-9XN9F_"
      },
      "execution_count": null,
      "outputs": []
    },
    {
      "cell_type": "code",
      "source": [
        "final_model = ts_obj.finalize_model(tuned_model)\n",
        "ts_obj.plot_model(final_model)\n",
        "ts_obj.predict_model(final_model)"
      ],
      "metadata": {
        "id": "HyBPTKKfbtit"
      },
      "execution_count": null,
      "outputs": []
    },
    {
      "cell_type": "code",
      "source": [
        "print(tuned_model)\n",
        "print(final_model)"
      ],
      "metadata": {
        "id": "MgXuZ3aBOqHT"
      },
      "execution_count": null,
      "outputs": []
    },
    {
      "cell_type": "code",
      "source": [
        "save_model = ts_obj.save_model(final_model, 'final model timeseries1')"
      ],
      "metadata": {
        "id": "GE5WcBmkOxi1"
      },
      "execution_count": null,
      "outputs": []
    },
    {
      "cell_type": "code",
      "source": [
        "loaded_model = ts_obj.load_model('final model timeseries1')"
      ],
      "metadata": {
        "id": "jTZ8ACawQRuL"
      },
      "execution_count": null,
      "outputs": []
    },
    {
      "cell_type": "code",
      "source": [
        "ts_obj.predict_model(loaded_model)"
      ],
      "metadata": {
        "id": "Byg1Rg0yQgq9"
      },
      "execution_count": null,
      "outputs": []
    },
    {
      "cell_type": "code",
      "source": [
        "ts_obj.plot_model(estimator=final_model, data_kwargs={'fh': 36}) "
      ],
      "metadata": {
        "id": "c_w88_zhQoCw"
      },
      "execution_count": null,
      "outputs": []
    }
  ]
}