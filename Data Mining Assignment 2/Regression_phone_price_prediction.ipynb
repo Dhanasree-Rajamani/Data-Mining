{
  "cells": [
    {
      "cell_type": "markdown",
      "metadata": {
        "id": "view-in-github",
        "colab_type": "text"
      },
      "source": [
        "<a href=\"https://colab.research.google.com/github/Dhanasree-Rajamani/Data-Mining/blob/main/Data%20Mining%20Assignment%202/Regression_phone_price_prediction.ipynb\" target=\"_parent\"><img src=\"https://colab.research.google.com/assets/colab-badge.svg\" alt=\"Open In Colab\"/></a>"
      ]
    },
    {
      "cell_type": "code",
      "execution_count": null,
      "metadata": {
        "id": "IgvFC2eHAp25"
      },
      "outputs": [],
      "source": [
        "!pip install pycaret"
      ]
    },
    {
      "cell_type": "code",
      "execution_count": null,
      "metadata": {
        "id": "XjedGt2rA6EC"
      },
      "outputs": [],
      "source": [
        "from pycaret.utils import enable_colab\n",
        "enable_colab()"
      ]
    },
    {
      "cell_type": "code",
      "execution_count": null,
      "metadata": {
        "id": "EQ1gpWVtBCF_"
      },
      "outputs": [],
      "source": [
        "from pandas_profiling import profile_report\n",
        "import pandas as pd\n",
        "import pandas_profiling\n",
        "from pandas_profiling import ProfileReport\n",
        "\n",
        "#file = '/content/drive/MyDrive/DataMining_Datasets/ndtv_data_final.csv'\n",
        "file = 'https://raw.githubusercontent.com/Dhanasree-Rajamani/Data-Mining/main/Data%20Mining%20Assignment%202/DataMining_Datasets/ndtv_data_final.csv' \n",
        "\n",
        "data = pd.read_csv(file)\n",
        "  \n",
        "data.head()"
      ]
    },
    {
      "cell_type": "code",
      "source": [
        "profile = ProfileReport(data)\n",
        "profile"
      ],
      "metadata": {
        "id": "Ae1PtNSQ5G6M"
      },
      "execution_count": null,
      "outputs": []
    },
    {
      "cell_type": "code",
      "execution_count": null,
      "metadata": {
        "id": "bZSsRaRHBXaW"
      },
      "outputs": [],
      "source": [
        "data.shape"
      ]
    },
    {
      "cell_type": "code",
      "execution_count": null,
      "metadata": {
        "id": "0nx5Y_KDCXgE"
      },
      "outputs": [],
      "source": [
        "!pip install Jinja2\n",
        "!pip install markupsafe==2.0.1"
      ]
    },
    {
      "cell_type": "code",
      "execution_count": null,
      "metadata": {
        "id": "L7m8gtmhCa0w"
      },
      "outputs": [],
      "source": [
        "import jinja2"
      ]
    },
    {
      "cell_type": "code",
      "execution_count": null,
      "metadata": {
        "id": "le7DWikkCewm"
      },
      "outputs": [],
      "source": [
        "dataset = data.sample(frac=0.9, random_state=786)\n",
        "data_unseen = data.drop(dataset.index)\n",
        "\n",
        "#dataset.reset_index(drop=True, inplace=True)\n",
        "#data_unseen.reset_index(drop=True, inplace=True)\n",
        "\n",
        "print('Data for Modeling: ' + str(dataset.shape))\n",
        "print('Unseen Data For Predictions: ' + str(data_unseen.shape))"
      ]
    },
    {
      "cell_type": "code",
      "source": [
        "!pip install gradio"
      ],
      "metadata": {
        "id": "raF5iKsoVe1-"
      },
      "execution_count": null,
      "outputs": []
    },
    {
      "cell_type": "code",
      "execution_count": null,
      "metadata": {
        "id": "SbFPc8RWCIwq"
      },
      "outputs": [],
      "source": [
        "from pycaret.regression import *"
      ]
    },
    {
      "cell_type": "code",
      "source": [
        "reg = setup(data = dataset, target = 'Price', ignore_features=['Unnamed: 0'], session_id=3,\n",
        "                  normalize = True, transformation = True, transform_target = True, \n",
        "                  combine_rare_levels = True, rare_level_threshold = 0.05,\n",
        "                  remove_multicollinearity = True, multicollinearity_threshold = 0.95, \n",
        "                  log_experiment = True, experiment_name = 'mobile_price_regression') "
      ],
      "metadata": {
        "id": "hGg2bkHV6LUs"
      },
      "execution_count": null,
      "outputs": []
    },
    {
      "cell_type": "code",
      "source": [
        "best = compare_models(exclude = ['ransac'])"
      ],
      "metadata": {
        "id": "9nRnOuyJ0REt"
      },
      "execution_count": null,
      "outputs": []
    },
    {
      "cell_type": "code",
      "execution_count": null,
      "metadata": {
        "id": "4_ccU8YNCP3R"
      },
      "outputs": [],
      "source": [
        "models()\n",
        "#exclude = ['ID']"
      ]
    },
    {
      "cell_type": "code",
      "source": [
        "rf = create_model('rf', round=2)"
      ],
      "metadata": {
        "id": "Y9LI-ATH61Ry"
      },
      "execution_count": null,
      "outputs": []
    },
    {
      "cell_type": "code",
      "source": [
        "knn = create_model('knn')"
      ],
      "metadata": {
        "id": "xYy5HPPf6rXP"
      },
      "execution_count": null,
      "outputs": []
    },
    {
      "cell_type": "code",
      "source": [
        "print(knn)"
      ],
      "metadata": {
        "id": "enW1B77A6tv0"
      },
      "execution_count": null,
      "outputs": []
    },
    {
      "cell_type": "code",
      "source": [
        "!pip install matplotlib==3.1.3"
      ],
      "metadata": {
        "id": "yYQSUgIr8lVi"
      },
      "execution_count": null,
      "outputs": []
    },
    {
      "cell_type": "code",
      "source": [
        "top3 = compare_models(exclude = ['ransac'], n_select = 3)"
      ],
      "metadata": {
        "id": "RN_WtNye817u"
      },
      "execution_count": null,
      "outputs": []
    },
    {
      "cell_type": "code",
      "execution_count": null,
      "metadata": {
        "id": "bRWD4Q_wEQyN"
      },
      "outputs": [],
      "source": [
        "plot_model(rf)"
      ]
    },
    {
      "cell_type": "code",
      "source": [
        "tuned_rf = tune_model(rf)"
      ],
      "metadata": {
        "id": "Sqm-ENnm7IV-"
      },
      "execution_count": null,
      "outputs": []
    },
    {
      "cell_type": "code",
      "execution_count": null,
      "metadata": {
        "id": "IxRJrtwyD5cm"
      },
      "outputs": [],
      "source": [
        "plot_model(tuned_rf, plot = 'error')"
      ]
    },
    {
      "cell_type": "code",
      "source": [
        "create_app(tuned_rf)"
      ],
      "metadata": {
        "id": "xD81CSboVj-1"
      },
      "execution_count": null,
      "outputs": []
    },
    {
      "cell_type": "code",
      "source": [
        "plot_model(tuned_rf, plot = 'feature')"
      ],
      "metadata": {
        "id": "95XHUzEvhJyR"
      },
      "execution_count": null,
      "outputs": []
    },
    {
      "cell_type": "code",
      "source": [
        "plot_model(tuned_rf, plot = 'parameter')"
      ],
      "metadata": {
        "id": "i5K7ATIJha58"
      },
      "execution_count": null,
      "outputs": []
    },
    {
      "cell_type": "code",
      "source": [
        "dt = create_model('dt')"
      ],
      "metadata": {
        "id": "cy-_JUHy-Gqm"
      },
      "execution_count": null,
      "outputs": []
    },
    {
      "cell_type": "code",
      "source": [
        "bagged_dt = ensemble_model(dt)"
      ],
      "metadata": {
        "id": "Zm28TtaJ7AwK"
      },
      "execution_count": null,
      "outputs": []
    },
    {
      "cell_type": "code",
      "source": [
        "print(bagged_dt)"
      ],
      "metadata": {
        "id": "SqBCC1X57DKo"
      },
      "execution_count": null,
      "outputs": []
    },
    {
      "cell_type": "code",
      "source": [
        "boosted_dt = ensemble_model(dt, method = 'Boosting')"
      ],
      "metadata": {
        "id": "QPruISv17GRW"
      },
      "execution_count": null,
      "outputs": []
    },
    {
      "cell_type": "code",
      "source": [
        "bagged_dt2 = ensemble_model(dt, n_estimators=50)"
      ],
      "metadata": {
        "id": "WL9cYoC67IIz"
      },
      "execution_count": null,
      "outputs": []
    },
    {
      "cell_type": "code",
      "source": [
        "test_pred = predict_model(tuned_rf, data =data_unseen)"
      ],
      "metadata": {
        "id": "64hDr4q7hokk"
      },
      "execution_count": null,
      "outputs": []
    },
    {
      "cell_type": "code",
      "source": [
        "test_pred.head()"
      ],
      "metadata": {
        "id": "mMYao8Juhu0C"
      },
      "execution_count": null,
      "outputs": []
    },
    {
      "cell_type": "code",
      "source": [
        "save_model(tuned_rf, 'regression model')"
      ],
      "metadata": {
        "id": "AYxQsG9nhxkl"
      },
      "execution_count": null,
      "outputs": []
    },
    {
      "cell_type": "code",
      "source": [
        "saved_final_model = load_model('regression model')"
      ],
      "metadata": {
        "id": "lj3z18oTh3IC"
      },
      "execution_count": null,
      "outputs": []
    },
    {
      "cell_type": "code",
      "source": [
        "new_pred = predict_model(saved_final_model, data=data_unseen)"
      ],
      "metadata": {
        "id": "XHApkKWch7er"
      },
      "execution_count": null,
      "outputs": []
    },
    {
      "cell_type": "code",
      "source": [
        "new_pred.tail()"
      ],
      "metadata": {
        "id": "xw_LE48GiDi2"
      },
      "execution_count": null,
      "outputs": []
    },
    {
      "cell_type": "code",
      "source": [
        "# train individual models to blend\n",
        "lightgbm = create_model('lightgbm', verbose = False)\n",
        "dt = create_model('dt', verbose = False)\n",
        "rf = create_model('rf', verbose = False)"
      ],
      "metadata": {
        "id": "3nCzaDnu7L2S"
      },
      "execution_count": null,
      "outputs": []
    },
    {
      "cell_type": "code",
      "source": [
        "# blend individual models\n",
        "blender = blend_models(estimator_list = [lightgbm, dt, rf])"
      ],
      "metadata": {
        "id": "t20YOfkF7N5Q"
      },
      "execution_count": null,
      "outputs": []
    },
    {
      "cell_type": "code",
      "source": [
        "# blend top3 models from compare_models\n",
        "blender_top3 = blend_models(top3)"
      ],
      "metadata": {
        "id": "KuixjzyL7Xsq"
      },
      "execution_count": null,
      "outputs": []
    },
    {
      "cell_type": "code",
      "source": [
        "print(blender_top3.estimators_)"
      ],
      "metadata": {
        "id": "t0lh4N6B7RtP"
      },
      "execution_count": null,
      "outputs": []
    }
  ],
  "metadata": {
    "colab": {
      "provenance": [],
      "collapsed_sections": [],
      "mount_file_id": "19VJWnk95aNdkb8uobmvBPTzr3Mb6OL9G",
      "authorship_tag": "ABX9TyOhiKVwrsj3t3GLe5eBpyrS",
      "include_colab_link": true
    },
    "kernelspec": {
      "display_name": "Python 3",
      "name": "python3"
    },
    "language_info": {
      "name": "python"
    }
  },
  "nbformat": 4,
  "nbformat_minor": 0
}