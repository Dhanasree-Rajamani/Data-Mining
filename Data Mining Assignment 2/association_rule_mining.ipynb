{
  "nbformat": 4,
  "nbformat_minor": 0,
  "metadata": {
    "colab": {
      "provenance": [],
      "mount_file_id": "1LdLKECMA65WRy6Uw7rNuBRLXpSDjZpub",
      "authorship_tag": "ABX9TyPBqEp4xcL85G/uuW2MUoLJ",
      "include_colab_link": true
    },
    "kernelspec": {
      "name": "python3",
      "display_name": "Python 3"
    },
    "language_info": {
      "name": "python"
    }
  },
  "cells": [
    {
      "cell_type": "markdown",
      "metadata": {
        "id": "view-in-github",
        "colab_type": "text"
      },
      "source": [
        "<a href=\"https://colab.research.google.com/github/Dhanasree-Rajamani/Data-Mining/blob/main/Data%20Mining%20Assignment%202/association_rule_mining.ipynb\" target=\"_parent\"><img src=\"https://colab.research.google.com/assets/colab-badge.svg\" alt=\"Open In Colab\"/></a>"
      ]
    },
    {
      "cell_type": "code",
      "execution_count": null,
      "metadata": {
        "id": "rcWTJMpsD5cA"
      },
      "outputs": [],
      "source": [
        "!pip install pycaret"
      ]
    },
    {
      "cell_type": "code",
      "source": [
        "from pycaret.utils import enable_colab\n",
        "enable_colab()"
      ],
      "metadata": {
        "id": "lMSCHpq5GYX3"
      },
      "execution_count": null,
      "outputs": []
    },
    {
      "cell_type": "code",
      "source": [
        "import pandas as pd\n",
        "file = '/content/drive/MyDrive/DataMining_Datasets/Groceries_dataset.csv'\n",
        "data = pd.read_csv(file)\n",
        "\n",
        "from pycaret.datasets import get_data\n",
        "#dataset = get_data('germany')\n",
        " \n",
        "data.head()"
      ],
      "metadata": {
        "id": "6oZv1MjrGbGN"
      },
      "execution_count": null,
      "outputs": []
    },
    {
      "cell_type": "code",
      "source": [
        "!pip install Jinja2\n",
        "!pip install markupsafe==2.0.1"
      ],
      "metadata": {
        "id": "VZXZHLuzGna6"
      },
      "execution_count": null,
      "outputs": []
    },
    {
      "cell_type": "code",
      "source": [
        "import jinja2"
      ],
      "metadata": {
        "id": "W-TO2fD7HSpY"
      },
      "execution_count": null,
      "outputs": []
    },
    {
      "cell_type": "code",
      "source": [
        "dataset = data\n",
        "dataset.shape"
      ],
      "metadata": {
        "id": "SMohYfy-HVI9"
      },
      "execution_count": null,
      "outputs": []
    },
    {
      "cell_type": "code",
      "source": [
        "from pycaret.arules import *"
      ],
      "metadata": {
        "id": "QzY50cThHbIo"
      },
      "execution_count": null,
      "outputs": []
    },
    {
      "cell_type": "code",
      "source": [
        "arm = setup(data = dataset, \n",
        "                    transaction_id = 'Member_number',\n",
        "                    item_id = 'itemDescription', session_id=6) "
      ],
      "metadata": {
        "id": "16_b_AslHfGY"
      },
      "execution_count": null,
      "outputs": []
    },
    {
      "cell_type": "code",
      "source": [
        "arm"
      ],
      "metadata": {
        "id": "uMDPn3DiHRSf"
      },
      "execution_count": null,
      "outputs": []
    },
    {
      "cell_type": "code",
      "source": [
        "arm_model = create_model()"
      ],
      "metadata": {
        "id": "QC27sMQ7Hr1M"
      },
      "execution_count": null,
      "outputs": []
    },
    {
      "cell_type": "code",
      "source": [
        "print(arm_model.shape)"
      ],
      "metadata": {
        "id": "FTeO5rrlH4i4"
      },
      "execution_count": null,
      "outputs": []
    },
    {
      "cell_type": "code",
      "source": [
        "arm_model.tail()"
      ],
      "metadata": {
        "id": "92GRNGcZH8_4"
      },
      "execution_count": null,
      "outputs": []
    },
    {
      "cell_type": "code",
      "source": [
        "plot_model(arm_model)"
      ],
      "metadata": {
        "id": "lQK0fnuFKO84"
      },
      "execution_count": null,
      "outputs": []
    },
    {
      "cell_type": "code",
      "source": [
        "plot_model(arm_model, plot='3d')"
      ],
      "metadata": {
        "id": "WD1SMC12ICEZ"
      },
      "execution_count": null,
      "outputs": []
    },
    {
      "cell_type": "code",
      "source": [],
      "metadata": {
        "id": "eTBScvvtIbca"
      },
      "execution_count": null,
      "outputs": []
    }
  ]
}