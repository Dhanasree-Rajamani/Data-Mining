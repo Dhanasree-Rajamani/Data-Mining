{
  "nbformat": 4,
  "nbformat_minor": 0,
  "metadata": {
    "colab": {
      "provenance": [],
      "mount_file_id": "1LwQbtIb5WE3ngUoOYCcZswYpDON5zRLk",
      "authorship_tag": "ABX9TyN8T/nlVxDofkqFDXdidfrv",
      "include_colab_link": true
    },
    "kernelspec": {
      "name": "python3",
      "display_name": "Python 3"
    },
    "language_info": {
      "name": "python"
    }
  },
  "cells": [
    {
      "cell_type": "markdown",
      "metadata": {
        "id": "view-in-github",
        "colab_type": "text"
      },
      "source": [
        "<a href=\"https://colab.research.google.com/github/Dhanasree-Rajamani/Data-Mining/blob/main/Data%20Mining%20Assignment%202/Binary_classification.ipynb\" target=\"_parent\"><img src=\"https://colab.research.google.com/assets/colab-badge.svg\" alt=\"Open In Colab\"/></a>"
      ]
    },
    {
      "cell_type": "code",
      "execution_count": null,
      "metadata": {
        "id": "FBL6paQzL8DT"
      },
      "outputs": [],
      "source": [
        "!pip install pycaret[full]"
      ]
    },
    {
      "cell_type": "code",
      "source": [
        "from pycaret.utils import enable_colab\n",
        "enable_colab()"
      ],
      "metadata": {
        "id": "myHIt2pETF2T"
      },
      "execution_count": null,
      "outputs": []
    },
    {
      "cell_type": "code",
      "source": [
        "from pycaret.datasets import get_data\n",
        "import pandas as pd"
      ],
      "metadata": {
        "id": "i8q8SpeWlzlx"
      },
      "execution_count": null,
      "outputs": []
    },
    {
      "cell_type": "code",
      "source": [
        "file = '/content/drive/MyDrive/DataMining_Datasets/citrus.csv'\n",
        "data = pd.read_csv(file)\n",
        "data.tail()"
      ],
      "metadata": {
        "id": "yMfYV7z4l2nj"
      },
      "execution_count": null,
      "outputs": []
    },
    {
      "cell_type": "code",
      "source": [
        "!pip install Jinja2\n",
        "!pip install markupsafe==2.0.1"
      ],
      "metadata": {
        "id": "iSO-egRnoukt"
      },
      "execution_count": null,
      "outputs": []
    },
    {
      "cell_type": "code",
      "source": [
        "import jinja2"
      ],
      "metadata": {
        "id": "IdQL5E9Vo0zo"
      },
      "execution_count": null,
      "outputs": []
    },
    {
      "cell_type": "code",
      "source": [
        "data.shape"
      ],
      "metadata": {
        "id": "cOiPqQi5pCOV"
      },
      "execution_count": null,
      "outputs": []
    },
    {
      "cell_type": "code",
      "source": [
        "data_set = data.sample(frac = 0.90, random_state=786)\n",
        "data_unseen = data.drop(data_set.index)\n",
        "\n",
        "#data.reset_index(inplace=True, drop=True)\n",
        "#data_unseen.reset_index(inplace = True, drop = True)\n",
        "\n",
        "print(\"data for modelling \"+str(data_set.shape))\n",
        "print(\"unseen data for predictions \"+str(data_unseen.shape))"
      ],
      "metadata": {
        "id": "qxc02nyVpFnz"
      },
      "execution_count": null,
      "outputs": []
    },
    {
      "cell_type": "code",
      "source": [
        "from pycaret.classification import *"
      ],
      "metadata": {
        "id": "Ff1LVOU8pIiU"
      },
      "execution_count": null,
      "outputs": []
    },
    {
      "cell_type": "code",
      "source": [
        "binary_cluster = setup(data = data_set, target = 'name', session_id=2,\n",
        "                  normalize = True, \n",
        "                  transformation = True, \n",
        "                  ignore_low_variance = True,\n",
        "                  remove_multicollinearity = True, \n",
        "                  multicollinearity_threshold = 0.95,\n",
        "                  group_features = ['red', 'green', 'blue'],\n",
        "                  log_experiment = True, experiment_name = 'orangevsgrapefruit')"
      ],
      "metadata": {
        "id": "bjU00u4rcah5"
      },
      "execution_count": null,
      "outputs": []
    },
    {
      "cell_type": "code",
      "source": [
        "top3 = compare_models(n_select = 3)"
      ],
      "metadata": {
        "id": "DSoOpe2PpX3g"
      },
      "execution_count": null,
      "outputs": []
    },
    {
      "cell_type": "code",
      "source": [
        "type(top3)\n",
        "print(top3)"
      ],
      "metadata": {
        "id": "XDqDFr-SzpY3"
      },
      "execution_count": null,
      "outputs": []
    },
    {
      "cell_type": "code",
      "source": [
        "lr = create_model('lr')"
      ],
      "metadata": {
        "id": "sKoTGXdnpe5O"
      },
      "execution_count": null,
      "outputs": []
    },
    {
      "cell_type": "code",
      "source": [
        "dt = create_model('dt', fold = 5)"
      ],
      "metadata": {
        "id": "o6lRWHI3znnQ"
      },
      "execution_count": null,
      "outputs": []
    },
    {
      "cell_type": "code",
      "source": [
        "rf = create_model('rf', round = 2)"
      ],
      "metadata": {
        "id": "nbCmlFg10A_d"
      },
      "execution_count": null,
      "outputs": []
    },
    {
      "cell_type": "code",
      "source": [
        "tuned_rf = tune_model(rf, optimize = 'AUC')"
      ],
      "metadata": {
        "id": "AD-gCoBA0TEL"
      },
      "execution_count": null,
      "outputs": []
    },
    {
      "cell_type": "code",
      "source": [
        "tuned_rf2 = tune_model(rf, optimize = 'Recall')"
      ],
      "metadata": {
        "id": "FaJR2o9g0VhK"
      },
      "execution_count": null,
      "outputs": []
    },
    {
      "cell_type": "code",
      "source": [
        "bagged_dt = ensemble_model(dt)"
      ],
      "metadata": {
        "id": "GEPnq5eA0gTF"
      },
      "execution_count": null,
      "outputs": []
    },
    {
      "cell_type": "code",
      "source": [
        "print(bagged_dt)"
      ],
      "metadata": {
        "id": "yqdnQ9Nm0hBO"
      },
      "execution_count": null,
      "outputs": []
    },
    {
      "cell_type": "code",
      "source": [
        "boosted_dt = ensemble_model(dt, method = 'Boosting')"
      ],
      "metadata": {
        "id": "EWnx8DwM0kca"
      },
      "execution_count": null,
      "outputs": []
    },
    {
      "cell_type": "code",
      "source": [
        "bagged_dt2 = ensemble_model(dt, n_estimators=50)"
      ],
      "metadata": {
        "id": "N0gsfaRS0nxr"
      },
      "execution_count": null,
      "outputs": []
    },
    {
      "cell_type": "code",
      "source": [
        "plot_model(tuned_rf, plot = 'parameter')"
      ],
      "metadata": {
        "id": "nJ3XLZ870aWj"
      },
      "execution_count": null,
      "outputs": []
    },
    {
      "cell_type": "code",
      "source": [
        "lightgbm = create_model('lightgbm', verbose = False)\n",
        "dt = create_model('dt', verbose = False)\n",
        "lr2 = create_model('lr', verbose = False)"
      ],
      "metadata": {
        "id": "wL5tFhCd0wJA"
      },
      "execution_count": null,
      "outputs": []
    },
    {
      "cell_type": "code",
      "source": [
        "blend_soft = blend_models(estimator_list = [lightgbm, dt, lr2], method = 'soft')"
      ],
      "metadata": {
        "id": "5MPCKOz30xjU"
      },
      "execution_count": null,
      "outputs": []
    },
    {
      "cell_type": "code",
      "source": [
        "blend_hard = blend_models(estimator_list = [lightgbm, dt, lr2], method = 'hard')"
      ],
      "metadata": {
        "id": "fUicwQjR01t3"
      },
      "execution_count": null,
      "outputs": []
    },
    {
      "cell_type": "code",
      "source": [
        "blender_top3 = blend_models(top3)"
      ],
      "metadata": {
        "id": "xIjGivqW04kQ"
      },
      "execution_count": null,
      "outputs": []
    },
    {
      "cell_type": "code",
      "source": [
        "print(blender_top3.estimators_)"
      ],
      "metadata": {
        "id": "Z4lvrVGL063p"
      },
      "execution_count": null,
      "outputs": []
    },
    {
      "cell_type": "code",
      "source": [
        "stack_soft = stack_models(top3)"
      ],
      "metadata": {
        "id": "NTPaualg0-1s"
      },
      "execution_count": null,
      "outputs": []
    },
    {
      "cell_type": "code",
      "source": [
        "#xgboost = create_model('xgboost')\n",
        "#stack_soft2 = stack_models(top3, meta_model=xgboost)"
      ],
      "metadata": {
        "id": "DNZLMuzA1AyE"
      },
      "execution_count": null,
      "outputs": []
    },
    {
      "cell_type": "code",
      "source": [
        "!pip install matplotlib==3.1.3"
      ],
      "metadata": {
        "id": "ffTfnnTf3Nm9"
      },
      "execution_count": null,
      "outputs": []
    },
    {
      "cell_type": "code",
      "source": [
        "plot_model(rf, plot='calibration')"
      ],
      "metadata": {
        "id": "z2y-oa9r1Dq7"
      },
      "execution_count": null,
      "outputs": []
    },
    {
      "cell_type": "code",
      "source": [
        "calibrated_rf = calibrate_model(rf)"
      ],
      "metadata": {
        "id": "Op13zNLD1jHM"
      },
      "execution_count": null,
      "outputs": []
    },
    {
      "cell_type": "code",
      "source": [
        "plot_model(calibrated_rf, plot='calibration')"
      ],
      "metadata": {
        "id": "-f9l2tKU1lVU"
      },
      "execution_count": null,
      "outputs": []
    },
    {
      "cell_type": "code",
      "source": [
        "calibrated_rf_isotonic = calibrate_model(rf, method = 'isotonic')"
      ],
      "metadata": {
        "id": "bf17xnRT1nMu"
      },
      "execution_count": null,
      "outputs": []
    },
    {
      "cell_type": "code",
      "source": [
        "plot_model(calibrated_rf_isotonic, plot='calibration')"
      ],
      "metadata": {
        "id": "2_Ur0aed1pL2"
      },
      "execution_count": null,
      "outputs": []
    },
    {
      "cell_type": "code",
      "source": [
        "lr = create_model('lr')"
      ],
      "metadata": {
        "id": "lGBNTCEh8AyH"
      },
      "execution_count": null,
      "outputs": []
    },
    {
      "cell_type": "code",
      "source": [
        "plot_model(lr, plot = 'confusion_matrix')"
      ],
      "metadata": {
        "id": "ewWZs7quWvM5"
      },
      "execution_count": null,
      "outputs": []
    },
    {
      "cell_type": "code",
      "source": [
        "tuned_lr = tune_model(lr)"
      ],
      "metadata": {
        "id": "YnhATsdxpkpg"
      },
      "execution_count": null,
      "outputs": []
    },
    {
      "cell_type": "code",
      "source": [
        "print(tuned_lr)"
      ],
      "metadata": {
        "id": "WUZvb8Ddpnkg"
      },
      "execution_count": null,
      "outputs": []
    },
    {
      "cell_type": "code",
      "source": [
        "plot_model(tuned_lr, plot = 'auc')"
      ],
      "metadata": {
        "id": "n5-Jvqoxppsm"
      },
      "execution_count": null,
      "outputs": []
    },
    {
      "cell_type": "code",
      "source": [
        "plot_model(tuned_lr, plot = 'confusion_matrix')"
      ],
      "metadata": {
        "id": "UZrIA5xFpsPa"
      },
      "execution_count": null,
      "outputs": []
    },
    {
      "cell_type": "code",
      "source": [
        "plot_model(tuned_lr, plot='error')"
      ],
      "metadata": {
        "id": "1cdVpRZBYQOD"
      },
      "execution_count": null,
      "outputs": []
    },
    {
      "cell_type": "code",
      "source": [
        "plot_model(tuned_lr, plot='feature')"
      ],
      "metadata": {
        "id": "zP8J5cxcpu8F"
      },
      "execution_count": null,
      "outputs": []
    },
    {
      "cell_type": "code",
      "source": [
        "best = automl(optimize = 'Recall')\n",
        "best"
      ],
      "metadata": {
        "id": "IURfW9JWpw_E"
      },
      "execution_count": null,
      "outputs": []
    },
    {
      "cell_type": "code",
      "source": [
        "pred_body_perf = predict_model(tuned_lr, data = data_unseen)\n",
        "pred_body_perf.head()"
      ],
      "metadata": {
        "id": "k5Oo5WDHp0Xu"
      },
      "execution_count": null,
      "outputs": []
    },
    {
      "cell_type": "code",
      "source": [
        "save_model(tuned_lr,'Binary classification model')"
      ],
      "metadata": {
        "id": "3TN0fn_E0qbJ"
      },
      "execution_count": null,
      "outputs": []
    },
    {
      "cell_type": "code",
      "source": [
        "new_prediction = predict_model(tuned_lr, data = data_unseen)\n",
        "new_prediction.head()\n",
        "new_prediction.tail()"
      ],
      "metadata": {
        "id": "LbstZtTYp-wl"
      },
      "execution_count": null,
      "outputs": []
    },
    {
      "cell_type": "code",
      "source": [
        "from pycaret.utils import check_metric\n",
        "check_metric(new_prediction['name'], new_prediction['Label'], metric = 'Accuracy')"
      ],
      "metadata": {
        "id": "x5ZQ1djMqAz8"
      },
      "execution_count": null,
      "outputs": []
    }
  ]
}